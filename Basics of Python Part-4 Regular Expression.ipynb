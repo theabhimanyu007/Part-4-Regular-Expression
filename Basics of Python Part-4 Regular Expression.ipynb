{
 "cells": [
  {
   "cell_type": "code",
   "execution_count": null,
   "metadata": {},
   "outputs": [],
   "source": [
    "#Regular Expressions :- using re package\n",
    "#---------------------- In this usually we will work upon Unstructured Data.\n",
    "#Used for Pattern Matching.\n",
    "  #check Phone number validity.\n",
    "      #Email address validity.\n",
    "#to enable the re package by typing  'import re'. ( re has also some functions which is assoicate with in it.)\n",
    "#by default this package is available in the every version of python.\n",
    "\n"
   ]
  },
  {
   "cell_type": "code",
   "execution_count": 1,
   "metadata": {},
   "outputs": [
    {
     "data": {
      "text/plain": [
       "<callable_iterator at 0x273c8f3c488>"
      ]
     },
     "execution_count": 1,
     "metadata": {},
     "output_type": "execute_result"
    }
   ],
   "source": [
    "import re\n",
    "p = re.compile('Python') #re.compile() is a func that is coming from re. used for the string value which i need to search from the given string.\n",
    "p.finditer('Learnning Python is very simple') #iter is also a function that is coming from re package.\n",
    "#give us the iteration of the desired string."
   ]
  },
  {
   "cell_type": "code",
   "execution_count": 3,
   "metadata": {},
   "outputs": [],
   "source": [
    "import re\n",
    "p = re.compile('Python') #re.compile() is a func that is coming from re. used for the string value which i need to search from the given string.\n",
    "m = p.finditer('Learnning Python is very simple') #iter is also a function that is coming from re package.\n",
    "#give us the memory location of the desired string."
   ]
  },
  {
   "cell_type": "code",
   "execution_count": 4,
   "metadata": {},
   "outputs": [
    {
     "data": {
      "text/plain": [
       "<callable_iterator at 0x273c8b9c888>"
      ]
     },
     "execution_count": 4,
     "metadata": {},
     "output_type": "execute_result"
    }
   ],
   "source": [
    "m"
   ]
  },
  {
   "cell_type": "code",
   "execution_count": 5,
   "metadata": {},
   "outputs": [
    {
     "data": {
      "text/plain": [
       "callable_iterator"
      ]
     },
     "execution_count": 5,
     "metadata": {},
     "output_type": "execute_result"
    }
   ],
   "source": [
    "type(m)"
   ]
  },
  {
   "cell_type": "code",
   "execution_count": 6,
   "metadata": {},
   "outputs": [
    {
     "name": "stdout",
     "output_type": "stream",
     "text": [
      "0\n",
      "2\n",
      "4\n",
      "19\n",
      "21\n",
      "23\n",
      "28\n",
      "30\n"
     ]
    }
   ],
   "source": [
    "import re\n",
    "p = re.compile('cd')\n",
    "m = p.finditer('cdcdcdccccccccccccccdcdcddddcdcd')\n",
    "for i in m:\n",
    "    print(i.start())"
   ]
  },
  {
   "cell_type": "code",
   "execution_count": 7,
   "metadata": {},
   "outputs": [
    {
     "name": "stdout",
     "output_type": "stream",
     "text": [
      "2\n",
      "4\n",
      "6\n",
      "21\n",
      "23\n",
      "25\n",
      "30\n",
      "32\n"
     ]
    }
   ],
   "source": [
    "import re\n",
    "p = re.compile('cd')\n",
    "m = p.finditer('cdcdcdccccccccccccccdcdcddddcdcd')\n",
    "for i in m:\n",
    "    print(i.end())"
   ]
  },
  {
   "cell_type": "code",
   "execution_count": 8,
   "metadata": {},
   "outputs": [
    {
     "name": "stdout",
     "output_type": "stream",
     "text": [
      "0 2\n",
      "2 4\n",
      "4 6\n",
      "19 21\n",
      "21 23\n",
      "23 25\n",
      "28 30\n",
      "30 32\n"
     ]
    }
   ],
   "source": [
    "import re\n",
    "p = re.compile('cd')\n",
    "m = p.finditer('cdcdcdccccccccccccccdcdcddddcdcd')\n",
    "for i in m:\n",
    "    print(i.start(), i.end()) #to find the starting and ending position of the given string.\n",
    "    "
   ]
  },
  {
   "cell_type": "code",
   "execution_count": 9,
   "metadata": {},
   "outputs": [
    {
     "name": "stdout",
     "output_type": "stream",
     "text": [
      "0 2\n",
      "2 4\n",
      "4 6\n",
      "19 21\n",
      "21 23\n",
      "23 25\n",
      "28 30\n",
      "30 32\n",
      "8\n"
     ]
    }
   ],
   "source": [
    "#to find the total entries of cd in the given string- use count.\n",
    "import re\n",
    "count= 0\n",
    "p = re.compile('cd')\n",
    "m = p.finditer('cdcdcdccccccccccccccdcdcddddcdcd')\n",
    "for i in m:\n",
    "    print(i.start(), i.end())\n",
    "    count = count + 1\n",
    "print(count)"
   ]
  },
  {
   "cell_type": "code",
   "execution_count": 10,
   "metadata": {},
   "outputs": [],
   "source": [
    "#total 8 cd is present above the given string."
   ]
  },
  {
   "cell_type": "code",
   "execution_count": 11,
   "metadata": {},
   "outputs": [
    {
     "data": {
      "text/plain": [
       "'a7b@k9z'"
      ]
     },
     "execution_count": 11,
     "metadata": {},
     "output_type": "execute_result"
    }
   ],
   "source": [
    "#find acx is present or not.\n",
    "'a7b@k9z'"
   ]
  },
  {
   "cell_type": "code",
   "execution_count": 18,
   "metadata": {},
   "outputs": [],
   "source": [
    "#[abc] -> either a or b or c\n",
    "#[^abc] - > apart from abc should come. means not abc would come.\n",
    "#[a-z]  - > Any lower case alphabets.\n",
    "#[^a-z]  - > except Any lower case alphabets.\n",
    "#[A-Z]  - > Any upper case alphabets.\n",
    "#[0-9]  - > Any digit\n",
    "#[a-zA-Z0-9] - > All the alphabet upper and lowe + any digit.\n",
    "#[^a-zA-Z0-9] - > except this. All other characters.\n"
   ]
  },
  {
   "cell_type": "code",
   "execution_count": 19,
   "metadata": {},
   "outputs": [
    {
     "name": "stdout",
     "output_type": "stream",
     "text": [
      "0 ..... a\n"
     ]
    }
   ],
   "source": [
    "import re\n",
    "finder = re.finditer('[acx]', 'a7b@k9z') #here we will check weather a is present or c is present or x is present.\n",
    "for m in finder:\n",
    "    print(m.start(), '.....', m.group())"
   ]
  },
  {
   "cell_type": "code",
   "execution_count": 20,
   "metadata": {},
   "outputs": [
    {
     "name": "stdout",
     "output_type": "stream",
     "text": [
      "0 ..... a\n",
      "4 ..... c\n"
     ]
    }
   ],
   "source": [
    "import re\n",
    "finder = re.finditer('[acx]', 'a7b@ck9z') #here we will check weather a is present or c is present or x is present.\n",
    "for m in finder:\n",
    "    print(m.start(), '.....', m.group())"
   ]
  },
  {
   "cell_type": "code",
   "execution_count": 21,
   "metadata": {},
   "outputs": [
    {
     "name": "stdout",
     "output_type": "stream",
     "text": [
      "0 ..... a\n",
      "4 ..... c\n",
      "6 ..... x\n"
     ]
    }
   ],
   "source": [
    "import re\n",
    "finder = re.finditer('[acx]', 'a7b@ckx9z') #here we will check weather a is present or c is present or x is present.\n",
    "for m in finder:\n",
    "    print(m.start(), '.....', m.group())"
   ]
  },
  {
   "cell_type": "code",
   "execution_count": 22,
   "metadata": {},
   "outputs": [
    {
     "name": "stdout",
     "output_type": "stream",
     "text": [
      "0 ..... a\n",
      "4 ..... c\n",
      "6 ..... x\n",
      "8 ..... a\n",
      "10 ..... a\n",
      "11 ..... a\n",
      "12 ..... a\n",
      "13 ..... a\n",
      "14 ..... a\n",
      "15 ..... a\n",
      "16 ..... a\n"
     ]
    }
   ],
   "source": [
    "#let's have multiple entries;-\n",
    "\n",
    "import re\n",
    "finder = re.finditer('[acx]', 'a7b@ckx9azaaaaaaa') #here we will check weather a is present or c is present or x is present.\n",
    "for m in finder:\n",
    "    print(m.start(), '.....', m.group())"
   ]
  },
  {
   "cell_type": "code",
   "execution_count": 23,
   "metadata": {},
   "outputs": [
    {
     "name": "stdout",
     "output_type": "stream",
     "text": [
      "1 ..... 7\n",
      "2 ..... b\n",
      "3 ..... @\n",
      "4 ..... k\n",
      "5 ..... 9\n",
      "6 ..... z\n",
      "9 ..... s\n",
      "10 ..... r\n",
      "11 ..... h\n",
      "12 ..... d\n",
      "13 ..... t\n",
      "14 ..... u\n",
      "16 ..... m\n"
     ]
    }
   ],
   "source": [
    "#[^abc] - > excepert  a and b and c or apart from abc\n",
    "import re\n",
    "finder = re.finditer('[^acx]', 'a7b@k9zaxsrhdtucm') #here we will check weather a is present or c is present or x is present.\n",
    "for m in finder:\n",
    "    print(m.start(), '.....', m.group())"
   ]
  },
  {
   "cell_type": "code",
   "execution_count": 24,
   "metadata": {},
   "outputs": [
    {
     "name": "stdout",
     "output_type": "stream",
     "text": [
      "0 ..... a\n",
      "2 ..... b\n",
      "4 ..... c\n",
      "5 ..... k\n",
      "8 ..... k\n",
      "9 ..... x\n",
      "10 ..... v\n",
      "12 ..... z\n"
     ]
    }
   ],
   "source": [
    "import re\n",
    "finder = re.finditer('[a-z]', 'a7b@ck08kxv9z') #here we will check any lower case b/w a -z\n",
    "for m in finder:\n",
    "    print(m.start(), '.....', m.group())"
   ]
  },
  {
   "cell_type": "code",
   "execution_count": 25,
   "metadata": {},
   "outputs": [
    {
     "name": "stdout",
     "output_type": "stream",
     "text": [
      "4 ..... S\n",
      "6 ..... T\n",
      "8 ..... N\n",
      "9 ..... O\n"
     ]
    }
   ],
   "source": [
    "import re\n",
    "finder = re.finditer('[A-Z]', 'a7b@ScTkNO08kxv9z') #here we will check any upper case b/w a -z\n",
    "for m in finder:\n",
    "    print(m.start(), '.....', m.group())"
   ]
  },
  {
   "cell_type": "code",
   "execution_count": 26,
   "metadata": {},
   "outputs": [
    {
     "name": "stdout",
     "output_type": "stream",
     "text": [
      "1 ..... 7\n",
      "3 ..... @\n",
      "6 ..... #\n",
      "7 ..... #\n",
      "8 ..... 0\n",
      "9 ..... 8\n",
      "11 ..... $\n",
      "12 ..... $\n",
      "15 ..... 9\n"
     ]
    }
   ],
   "source": [
    "import re\n",
    "finder = re.finditer('[^a-z]', 'a7b@ck##08k$$xv9z') #here we will check any other charc apart from a -z.\n",
    "for m in finder:\n",
    "    print(m.start(), '.....', m.group())"
   ]
  },
  {
   "cell_type": "code",
   "execution_count": 27,
   "metadata": {},
   "outputs": [
    {
     "name": "stdout",
     "output_type": "stream",
     "text": [
      "1 ..... 7\n",
      "6 ..... 0\n",
      "7 ..... 8\n",
      "9 ..... 4\n",
      "10 ..... 7\n",
      "11 ..... 5\n",
      "14 ..... 9\n",
      "15 ..... 1\n",
      "16 ..... 6\n",
      "17 ..... 1\n",
      "18 ..... 9\n"
     ]
    }
   ],
   "source": [
    "import re\n",
    "finder = re.finditer('[0-9]', 'a7b@ck08k475xv91619z') #here we will check any digit\n",
    "for m in finder:\n",
    "    print(m.start(), '.....', m.group())"
   ]
  },
  {
   "cell_type": "code",
   "execution_count": 30,
   "metadata": {},
   "outputs": [
    {
     "name": "stdout",
     "output_type": "stream",
     "text": [
      "0 ..... a\n",
      "1 ..... 7\n",
      "2 ..... b\n",
      "4 ..... c\n",
      "5 ..... k\n",
      "6 ..... 0\n",
      "7 ..... 8\n",
      "8 ..... k\n",
      "9 ..... 4\n",
      "10 ..... 7\n",
      "11 ..... 5\n",
      "12 ..... x\n",
      "13 ..... v\n",
      "14 ..... 9\n",
      "15 ..... 1\n",
      "16 ..... 6\n",
      "17 ..... 1\n",
      "18 ..... 9\n",
      "19 ..... z\n"
     ]
    }
   ],
   "source": [
    "import re\n",
    "finder = re.finditer('[a-zA-Z0-9]', 'a7b@ck08k475xv91619z') #here we will check  all the alphabet upper and lowe + any digit.\n",
    "for m in finder:\n",
    "    print(m.start(), '.....', m.group())"
   ]
  },
  {
   "cell_type": "code",
   "execution_count": 31,
   "metadata": {},
   "outputs": [
    {
     "name": "stdout",
     "output_type": "stream",
     "text": [
      "3 ..... @\n",
      "12 ..... #\n",
      "13 ..... #\n",
      "14 ..... #\n",
      "17 ..... $\n",
      "18 ..... $\n"
     ]
    }
   ],
   "source": [
    "import re\n",
    "finder = re.finditer('[^a-zA-Z0-9]', 'a7b@ck08k475###xv$$91619z') #here we will check alll the other charc.\n",
    "for m in finder:\n",
    "    print(m.start(), '.....', m.group())"
   ]
  },
  {
   "cell_type": "code",
   "execution_count": 32,
   "metadata": {},
   "outputs": [],
   "source": [
    "#Predefined Character as well.\n",
    "# \\s - search for space character.\n",
    "# \\S - except space character.\n",
    "# \\d - search for any digit.\n",
    "# \\D - except digit.\n",
    "# \\w - any word character (Alpha Numeric Character) [a-zA-z0-9].\n",
    "# \\W - any word character except alphanumeric charc. i.e. Special Charac..\n",
    "#  . - every character."
   ]
  },
  {
   "cell_type": "code",
   "execution_count": 33,
   "metadata": {},
   "outputs": [
    {
     "name": "stdout",
     "output_type": "stream",
     "text": [
      "5 ....... 6 ......  \n",
      "10 ....... 11 ......  \n"
     ]
    }
   ],
   "source": [
    "# \\s - search for space character.\n",
    "import re \n",
    "fixer =  re.finditer('\\s',  'absd@ 7500 #$*&')\n",
    "for z in fixer:\n",
    "    print(z.start(), '.......', z.end(), '......', z.group())"
   ]
  },
  {
   "cell_type": "code",
   "execution_count": 34,
   "metadata": {},
   "outputs": [
    {
     "name": "stdout",
     "output_type": "stream",
     "text": [
      "0 ....... 1 ...... a\n",
      "1 ....... 2 ...... b\n",
      "2 ....... 3 ...... s\n",
      "3 ....... 4 ...... d\n",
      "4 ....... 5 ...... @\n",
      "6 ....... 7 ...... 7\n",
      "7 ....... 8 ...... 5\n",
      "8 ....... 9 ...... 0\n",
      "9 ....... 10 ...... 0\n",
      "11 ....... 12 ...... #\n",
      "12 ....... 13 ...... $\n",
      "13 ....... 14 ...... *\n",
      "14 ....... 15 ...... &\n"
     ]
    }
   ],
   "source": [
    "# \\S - except space character.\n",
    "import re \n",
    "fixer =  re.finditer('\\S',  'absd@ 7500 #$*&')\n",
    "for z in fixer:\n",
    "    print(z.start(), '.......', z.end(), '......', z.group())"
   ]
  },
  {
   "cell_type": "code",
   "execution_count": 35,
   "metadata": {},
   "outputs": [
    {
     "name": "stdout",
     "output_type": "stream",
     "text": [
      "6 ....... 7 ...... 7\n",
      "7 ....... 8 ...... 5\n",
      "8 ....... 9 ...... 0\n",
      "9 ....... 10 ...... 0\n"
     ]
    }
   ],
   "source": [
    "# \\d - search for any digit.\n",
    "import re \n",
    "fixer =  re.finditer('\\d',  'absd@ 7500 #$*&')\n",
    "for z in fixer:\n",
    "    print(z.start(), '.......', z.end(), '......', z.group())\n"
   ]
  },
  {
   "cell_type": "code",
   "execution_count": 36,
   "metadata": {},
   "outputs": [
    {
     "name": "stdout",
     "output_type": "stream",
     "text": [
      "0 ....... 1 ...... a\n",
      "1 ....... 2 ...... b\n",
      "2 ....... 3 ...... s\n",
      "3 ....... 4 ...... d\n",
      "4 ....... 5 ...... @\n",
      "5 ....... 6 ......  \n",
      "10 ....... 11 ......  \n",
      "11 ....... 12 ...... #\n",
      "12 ....... 13 ...... $\n",
      "13 ....... 14 ...... *\n",
      "14 ....... 15 ...... &\n"
     ]
    }
   ],
   "source": [
    "# \\D -  except any digit.\n",
    "import re \n",
    "fixer =  re.finditer('\\D',  'absd@ 7500 #$*&')\n",
    "for z in fixer:\n",
    "    print(z.start(), '.......', z.end(), '......', z.group())"
   ]
  },
  {
   "cell_type": "code",
   "execution_count": 37,
   "metadata": {},
   "outputs": [
    {
     "name": "stdout",
     "output_type": "stream",
     "text": [
      "0 ....... 1 ...... a\n",
      "1 ....... 2 ...... b\n",
      "2 ....... 3 ...... s\n",
      "3 ....... 4 ...... d\n",
      "6 ....... 7 ...... 7\n",
      "7 ....... 8 ...... 5\n",
      "8 ....... 9 ...... 0\n",
      "9 ....... 10 ...... 0\n"
     ]
    }
   ],
   "source": [
    "# \\w - any word character (Alpha Numeric Character) [a-zA-z0-9].\n",
    "import re \n",
    "fixer =  re.finditer('\\w',  'absd@ 7500 #$*&')\n",
    "for z in fixer:\n",
    "    print(z.start(), '.......', z.end(), '......', z.group())"
   ]
  },
  {
   "cell_type": "code",
   "execution_count": 38,
   "metadata": {},
   "outputs": [
    {
     "name": "stdout",
     "output_type": "stream",
     "text": [
      "4 ....... 5 ...... @\n",
      "5 ....... 6 ......  \n",
      "10 ....... 11 ......  \n",
      "11 ....... 12 ...... #\n",
      "12 ....... 13 ...... $\n",
      "13 ....... 14 ...... *\n",
      "14 ....... 15 ...... &\n"
     ]
    }
   ],
   "source": [
    "# \\W - any word character except alphanumeric charc. i.e. Special Charac..\n",
    "\n",
    "import re \n",
    "fixer =  re.finditer('\\W',  'absd@ 7500 #$*&')\n",
    "for z in fixer:\n",
    "    print(z.start(), '.......', z.end(), '......', z.group())"
   ]
  },
  {
   "cell_type": "code",
   "execution_count": 40,
   "metadata": {},
   "outputs": [
    {
     "name": "stdout",
     "output_type": "stream",
     "text": [
      "0 ....... 1 ...... a\n",
      "1 ....... 2 ...... b\n",
      "2 ....... 3 ...... s\n",
      "3 ....... 4 ...... d\n",
      "4 ....... 5 ...... @\n",
      "5 ....... 6 ......  \n",
      "6 ....... 7 ...... 7\n",
      "7 ....... 8 ...... 5\n",
      "8 ....... 9 ...... 0\n",
      "9 ....... 10 ...... 0\n",
      "10 ....... 11 ......  \n",
      "11 ....... 12 ...... #\n",
      "12 ....... 13 ...... $\n",
      "13 ....... 14 ...... *\n",
      "14 ....... 15 ...... &\n"
     ]
    }
   ],
   "source": [
    "#  . - every character.\n",
    "import re \n",
    "fixer =  re.finditer('.',  'absd@ 7500 #$*&')\n",
    "for z in fixer:\n",
    "    print(z.start(), '.......', z.end(), '......', z.group())"
   ]
  },
  {
   "cell_type": "code",
   "execution_count": 42,
   "metadata": {},
   "outputs": [
    {
     "name": "stdout",
     "output_type": "stream",
     "text": [
      "8 ....... 9 ...... .\n"
     ]
    }
   ],
   "source": [
    "#\\. - here \\ will act as wild card character  helping us to find weather the .  is present in the given string or not.\n",
    "import re \n",
    "fixer =  re.finditer('\\.',  'absd@750.0#$*&')\n",
    "for z in fixer:\n",
    "    print(z.start(), '.......', z.end(), '......', z.group())"
   ]
  },
  {
   "cell_type": "code",
   "execution_count": 43,
   "metadata": {},
   "outputs": [
    {
     "name": "stdout",
     "output_type": "stream",
     "text": [
      "0 c\n"
     ]
    }
   ],
   "source": [
    "#Quantifiers; - \n",
    "import re\n",
    "matcher  = re.finditer('c', 'carrot') # basically we are looking for c in carrot.\n",
    "for i in matcher:\n",
    "    print(i.start(), i.group())"
   ]
  },
  {
   "cell_type": "code",
   "execution_count": 44,
   "metadata": {},
   "outputs": [
    {
     "name": "stdout",
     "output_type": "stream",
     "text": [
      "2 c\n"
     ]
    }
   ],
   "source": [
    "import re\n",
    "matcher  = re.finditer('c', 'AXcarrot') # basically we are looking for c in carrot.\n",
    "for i in matcher:\n",
    "    print(i.start(), i.group())"
   ]
  },
  {
   "cell_type": "code",
   "execution_count": 45,
   "metadata": {},
   "outputs": [
    {
     "name": "stdout",
     "output_type": "stream",
     "text": [
      "2 ...... 3 ..... c\n",
      "3 ...... 4 ..... c\n",
      "4 ...... 5 ..... c\n",
      "5 ...... 6 ..... c\n",
      "6 ...... 7 ..... c\n"
     ]
    }
   ],
   "source": [
    "import re\n",
    "matcher  = re.finditer('c', 'Rfcccccarrot') # basically we are looking for c in the given string.\n",
    "for i in matcher:\n",
    "    print(i.start(), '......', i.end(), '.....', i.group())\n",
    "#here we are getting the location of all the c's."
   ]
  },
  {
   "cell_type": "code",
   "execution_count": 48,
   "metadata": {},
   "outputs": [
    {
     "name": "stdout",
     "output_type": "stream",
     "text": [
      "2 ccccc\n"
     ]
    }
   ],
   "source": [
    "import re\n",
    "matcher  = re.finditer('c+', 'Rfcccccarrot') # basically we are looking for  c in the given string.\n",
    "for i in matcher:\n",
    "    print(i.start(), i.group())\n",
    "    \n",
    "#anynumber of c's.\n",
    "#give the iteration of c's pos. where the iteration is start for c."
   ]
  },
  {
   "cell_type": "code",
   "execution_count": 49,
   "metadata": {},
   "outputs": [
    {
     "name": "stdout",
     "output_type": "stream",
     "text": [
      "2 ...... 7 ..... ccccc\n",
      "12 ...... 20 ..... cccccccc\n",
      "21 ...... 25 ..... cccc\n"
     ]
    }
   ],
   "source": [
    "import re\n",
    "matcher  = re.finditer('c+', 'Rfcccccarrotccccccccdcccc') # basically we are looking for  c in the given string.\n",
    "for i in matcher:\n",
    "    print(i.start(), '......', i.end(), '.....', i.group())\n",
    "    \n",
    "#anynumber of c's.\n",
    "#give the iteration of c's pos. where the iteration is start for c. with their starting and ending pos."
   ]
  },
  {
   "cell_type": "code",
   "execution_count": 50,
   "metadata": {},
   "outputs": [
    {
     "name": "stdout",
     "output_type": "stream",
     "text": [
      "0 ...... 0 ..... \n",
      "1 ...... 1 ..... \n",
      "2 ...... 3 ..... c\n",
      "3 ...... 4 ..... c\n",
      "4 ...... 5 ..... c\n",
      "5 ...... 6 ..... c\n",
      "6 ...... 7 ..... c\n",
      "7 ...... 7 ..... \n",
      "8 ...... 8 ..... \n",
      "9 ...... 9 ..... \n",
      "10 ...... 10 ..... \n",
      "11 ...... 11 ..... \n",
      "12 ...... 13 ..... c\n",
      "13 ...... 14 ..... c\n",
      "14 ...... 15 ..... c\n",
      "15 ...... 16 ..... c\n",
      "16 ...... 17 ..... c\n",
      "17 ...... 18 ..... c\n",
      "18 ...... 19 ..... c\n",
      "19 ...... 20 ..... c\n",
      "20 ...... 20 ..... \n",
      "21 ...... 22 ..... c\n",
      "22 ...... 23 ..... c\n",
      "23 ...... 24 ..... c\n",
      "24 ...... 25 ..... c\n",
      "25 ...... 25 ..... \n"
     ]
    }
   ],
   "source": [
    "import re\n",
    "matcher  = re.finditer('c?', 'Rfcccccarrotccccccccdcccc') # basically we are looking for  c in the given string.\n",
    "for i in matcher:\n",
    "    print(i.start(), '......', i.end(), '.....', i.group())\n",
    "    \n",
    "#anynumber of c's.\n",
    "#here we are getting atmost one c. \n",
    "#giving individual elements of c."
   ]
  },
  {
   "cell_type": "code",
   "execution_count": 51,
   "metadata": {},
   "outputs": [
    {
     "name": "stdout",
     "output_type": "stream",
     "text": [
      "2 ...... 5 ..... ccc\n",
      "12 ...... 15 ..... ccc\n",
      "15 ...... 18 ..... ccc\n",
      "21 ...... 24 ..... ccc\n"
     ]
    }
   ],
   "source": [
    "import re\n",
    "matcher  = re.finditer('c{3}', 'Rfcccccarrotccccccccdcccc') # basically we are looking for  c in the given string.\n",
    "for i in matcher:\n",
    "    print(i.start(), '......', i.end(), '.....', i.group())\n",
    "    \n",
    "#here we are getting exactly 3 numbers of c's. where n is 3 in the given scenerio."
   ]
  },
  {
   "cell_type": "code",
   "execution_count": 53,
   "metadata": {},
   "outputs": [
    {
     "name": "stdout",
     "output_type": "stream",
     "text": [
      "2 ...... 5 ..... ccc\n",
      "5 ...... 7 ..... cc\n",
      "12 ...... 15 ..... ccc\n",
      "15 ...... 18 ..... ccc\n",
      "18 ...... 20 ..... cc\n",
      "21 ...... 24 ..... ccc\n"
     ]
    }
   ],
   "source": [
    "import re\n",
    "matcher  = re.finditer('c{2,3}', 'Rfcccccarrotccccccccdcccc') # basically we are looking for  c in the given string.\n",
    "for i in matcher:\n",
    "    print(i.start(), '......', i.end(), '.....', i.group())\n",
    "    \n",
    "#here we are getting min of  and max of 3 in the given string."
   ]
  },
  {
   "cell_type": "code",
   "execution_count": 54,
   "metadata": {},
   "outputs": [],
   "source": [
    "import re\n",
    "matcher  = re.finditer('^c', 'Rfcccccarrotccccccccdcccc') # basically we are looking weather my c is starting with c or not\n",
    "for i in matcher:\n",
    "    print(i.start(), '......', i.end(), '.....', i.group())\n",
    "    \n",
    "#if not satrting with c then it wont execute."
   ]
  },
  {
   "cell_type": "code",
   "execution_count": 55,
   "metadata": {},
   "outputs": [
    {
     "name": "stdout",
     "output_type": "stream",
     "text": [
      "0 ...... 1 ..... c\n"
     ]
    }
   ],
   "source": [
    "import re\n",
    "matcher  = re.finditer('^c', 'cRfcccccarrotccccccccdcccc') # basically we are looking weather my c is starting with c or not\n",
    "for i in matcher:\n",
    "    print(i.start(), '......', i.end(), '.....', i.group())"
   ]
  },
  {
   "cell_type": "code",
   "execution_count": 56,
   "metadata": {},
   "outputs": [],
   "source": [
    "import re\n",
    "matcher  = re.finditer('d$', 'Rfcccccarrotccccccccdcccc') # basically we are looking weather my string is ending with d or not.\n",
    "for i in matcher:\n",
    "    print(i.start(), '......', i.end(), '.....', i.group())\n",
    "    \n",
    "#if not ending with d then it wont execute."
   ]
  },
  {
   "cell_type": "code",
   "execution_count": 57,
   "metadata": {},
   "outputs": [
    {
     "name": "stdout",
     "output_type": "stream",
     "text": [
      "25 ...... 26 ..... d\n"
     ]
    }
   ],
   "source": [
    "import re\n",
    "matcher  = re.finditer('d$', 'Rfcccccarrotccccccccdccccd') # basically we are looking weather my string is ending with d or not.\n",
    "for i in matcher:\n",
    "    print(i.start(), '......', i.end(), '.....', i.group())"
   ]
  },
  {
   "cell_type": "code",
   "execution_count": 73,
   "metadata": {},
   "outputs": [],
   "source": [
    "#match() - To check the given pattern at the beginning of the target string.\n",
    "            #if available then return match object else none.\n",
    "\n",
    "#full match() -\n",
    "#Search()\n",
    "#findall()\n",
    "#finditer()\n",
    "#sub()\n",
    "#subn()\n",
    "#split()\n",
    "#compile()\n"
   ]
  },
  {
   "cell_type": "code",
   "execution_count": 75,
   "metadata": {},
   "outputs": [
    {
     "name": "stdout",
     "output_type": "stream",
     "text": [
      "enter the pattern to checkreaxfhg\n",
      "Match is avaiable\n"
     ]
    }
   ],
   "source": [
    "import re\n",
    "a = input('enter the pattern to check')\n",
    "b = re.match(a, 'reaxfhgjksnknfdnvdvf')\n",
    "if b!=None:\n",
    "    print('Match is avaiable')\n",
    "else:\n",
    "    print('Did not Match')"
   ]
  },
  {
   "cell_type": "code",
   "execution_count": 76,
   "metadata": {},
   "outputs": [
    {
     "name": "stdout",
     "output_type": "stream",
     "text": [
      "enter the pattern to checkr\n",
      "Match is avaiable\n"
     ]
    }
   ],
   "source": [
    "import re\n",
    "a = input('enter the pattern to check')\n",
    "b = re.match(a, 'reaxfhgjksnknfdnvdvf')\n",
    "if b!=None:\n",
    "    print('Match is avaiable')\n",
    "else:\n",
    "    print('Did not Match')"
   ]
  },
  {
   "cell_type": "code",
   "execution_count": 77,
   "metadata": {},
   "outputs": [
    {
     "name": "stdout",
     "output_type": "stream",
     "text": [
      "enter the pattern to checkreaxfhgjks\n",
      "Match is avaiable\n"
     ]
    }
   ],
   "source": [
    "import re\n",
    "a = input('enter the pattern to check')\n",
    "b = re.match(a, 'reaxfhgjksnknfdnvdvf')\n",
    "if b!=None:\n",
    "    print('Match is avaiable')\n",
    "else:\n",
    "    print('Did not Match')"
   ]
  },
  {
   "cell_type": "code",
   "execution_count": 84,
   "metadata": {},
   "outputs": [
    {
     "name": "stdout",
     "output_type": "stream",
     "text": [
      "enter the pattern to checksnknfdnvdvf'\n",
      "Did not Match\n"
     ]
    }
   ],
   "source": [
    "import re\n",
    "a = input('enter the pattern to check')\n",
    "b = re.match(a, 'reaxfhgjksnknfdnvdvf')\n",
    "if b!=None:\n",
    "    print('Match is avaiable')\n",
    "else:\n",
    "    print('Did not Match')"
   ]
  },
  {
   "cell_type": "code",
   "execution_count": 85,
   "metadata": {},
   "outputs": [
    {
     "name": "stdout",
     "output_type": "stream",
     "text": [
      "enter the pattern to checkreaxfhgjksnknfdnvdvf\n",
      "Match is avaiable\n"
     ]
    }
   ],
   "source": [
    "import re\n",
    "a = input('enter the pattern to check')\n",
    "b = re.fullmatch(a, 'reaxfhgjksnknfdnvdvf') #have to full match with the target string.\n",
    "if b!=None:\n",
    "    print('Match is avaiable')\n",
    "else:\n",
    "    print('Did not Match')"
   ]
  },
  {
   "cell_type": "code",
   "execution_count": 86,
   "metadata": {},
   "outputs": [
    {
     "name": "stdout",
     "output_type": "stream",
     "text": [
      "enter the pattern to checkr\n",
      "Did not Match\n"
     ]
    }
   ],
   "source": [
    "import re\n",
    "a = input('enter the pattern to check')\n",
    "b = re.fullmatch(a, 'reaxfhgjksnknfdnvdvf') #have to full match with the target string. else none.\n",
    "if b!=None:\n",
    "    print('Match is avaiable')\n",
    "else:\n",
    "    print('Did not Match')"
   ]
  },
  {
   "cell_type": "code",
   "execution_count": 87,
   "metadata": {},
   "outputs": [
    {
     "name": "stdout",
     "output_type": "stream",
     "text": [
      "enter the pattern to checkreaxfhgjksnknfdnvd\n",
      "Did not Match\n"
     ]
    }
   ],
   "source": [
    "import re\n",
    "a = input('enter the pattern to check')\n",
    "b = re.fullmatch(a, 'reaxfhgjksnknfdnvdvf') #have to full match with the target string. else none.\n",
    "if b!=None:\n",
    "    print('Match is avaiable')\n",
    "else:\n",
    "    print('Did not Match')"
   ]
  },
  {
   "cell_type": "code",
   "execution_count": 88,
   "metadata": {},
   "outputs": [
    {
     "name": "stdout",
     "output_type": "stream",
     "text": [
      "enter the pattern to checkr\n",
      "Match is avaiable\n"
     ]
    }
   ],
   "source": [
    "import re\n",
    "a = input('enter the pattern to check')\n",
    "b = re.search(a, 'reaxfhgjksnknfdnvdvf') #will search each word of the given string.\n",
    "if b!=None:\n",
    "    print('Match is avaiable')\n",
    "else:\n",
    "    print('Did not Match')"
   ]
  },
  {
   "cell_type": "code",
   "execution_count": 89,
   "metadata": {},
   "outputs": [
    {
     "name": "stdout",
     "output_type": "stream",
     "text": [
      "enter the pattern to checkx\n",
      "Match is avaiable\n"
     ]
    }
   ],
   "source": [
    "import re\n",
    "a = input('enter the pattern to check')\n",
    "b = re.search(a, 'reaxfhgjksnknfdnvdvf') #will search each word of the given string.\n",
    "if b!=None:\n",
    "    print('Match is avaiable')\n",
    "else:\n",
    "    print('Did not Match')"
   ]
  },
  {
   "cell_type": "code",
   "execution_count": 90,
   "metadata": {},
   "outputs": [
    {
     "name": "stdout",
     "output_type": "stream",
     "text": [
      "enter the pattern to checkz\n",
      "Did not Match\n"
     ]
    }
   ],
   "source": [
    "import re\n",
    "a = input('enter the pattern to check')\n",
    "b = re.search(a, 'reaxfhgjksnknfdnvdvf') #will search each word of the given string.\n",
    "if b!=None:\n",
    "    print('Match is avaiable')\n",
    "else:\n",
    "    print('Did not Match')\n",
    "    "
   ]
  },
  {
   "cell_type": "code",
   "execution_count": 91,
   "metadata": {},
   "outputs": [
    {
     "name": "stdout",
     "output_type": "stream",
     "text": [
      "enter the pattern to checkf\n",
      "['f', 'f', 'f']\n"
     ]
    }
   ],
   "source": [
    "import re\n",
    "s = input('enter the pattern to check')\n",
    "m = re.findall(s, 'refffgjskrtk')#to find all the iteration for the desired string.\n",
    "print(m)"
   ]
  },
  {
   "cell_type": "code",
   "execution_count": 92,
   "metadata": {},
   "outputs": [
    {
     "name": "stdout",
     "output_type": "stream",
     "text": [
      "enter the pattern to checkk\n",
      "['k', 'k']\n"
     ]
    }
   ],
   "source": [
    "import re\n",
    "s = input('enter the pattern to check')\n",
    "m = re.findall(s, 'refffgjskrtk')#to find all the iteration for the desired string.\n",
    "print(m)"
   ]
  },
  {
   "cell_type": "code",
   "execution_count": 96,
   "metadata": {},
   "outputs": [
    {
     "name": "stdout",
     "output_type": "stream",
     "text": [
      "enter the pattern to checkk\n",
      "2\n"
     ]
    }
   ],
   "source": [
    "import re\n",
    "s = input('enter the pattern to check')\n",
    "m = re.findall(s, 'refffgjskrtk')#to find all the iteration for the desired string.\n",
    "print(len(m))"
   ]
  },
  {
   "cell_type": "code",
   "execution_count": 99,
   "metadata": {},
   "outputs": [
    {
     "name": "stdout",
     "output_type": "stream",
     "text": [
      "enter the pattern to checkpython\n",
      "0\n"
     ]
    }
   ],
   "source": [
    "import re\n",
    "s = input('enter the pattern to check')\n",
    "m = re.findall(s, 'refffgjskrtk')#to find all the iteration for the desired string.\n",
    "print(len(m))"
   ]
  },
  {
   "cell_type": "code",
   "execution_count": 100,
   "metadata": {},
   "outputs": [
    {
     "name": "stdout",
     "output_type": "stream",
     "text": [
      "['10', '20', '30', '40', '50', '60']\n"
     ]
    }
   ],
   "source": [
    "import re\n",
    "l = re.split('-', '10-20-30-40-50-60')\n",
    "print(l)"
   ]
  },
  {
   "cell_type": "code",
   "execution_count": 101,
   "metadata": {},
   "outputs": [
    {
     "name": "stdout",
     "output_type": "stream",
     "text": [
      "['', '', '', '', '', '', '', '', '', '', '', '', '', '', '']\n"
     ]
    }
   ],
   "source": [
    "import re\n",
    "l = re.split('.', 'www.google.com') #no sense with single dot.\n",
    "print(l)"
   ]
  },
  {
   "cell_type": "code",
   "execution_count": 102,
   "metadata": {},
   "outputs": [
    {
     "name": "stdout",
     "output_type": "stream",
     "text": [
      "['www', 'google', 'com']\n"
     ]
    }
   ],
   "source": [
    "import re\n",
    "l = re.split('\\.', 'www.google.com')\n",
    "print(l)"
   ]
  },
  {
   "cell_type": "code",
   "execution_count": 103,
   "metadata": {},
   "outputs": [
    {
     "name": "stdout",
     "output_type": "stream",
     "text": [
      "['www', 'google', 'com']\n"
     ]
    }
   ],
   "source": [
    "import re\n",
    "l = re.split('[.]', 'www.google.com')\n",
    "print(l)"
   ]
  },
  {
   "cell_type": "code",
   "execution_count": 105,
   "metadata": {},
   "outputs": [
    {
     "name": "stdout",
     "output_type": "stream",
     "text": [
      "starts with learn\n"
     ]
    }
   ],
   "source": [
    "import re\n",
    "s = 'learning Python is very easy'\n",
    "res = re.search('^learn', s) #sent with starting with learn or not.\n",
    "if res!= None:\n",
    "    print('starts with learn')\n",
    "else:\n",
    "    print('Not starts with learn')"
   ]
  },
  {
   "cell_type": "code",
   "execution_count": 107,
   "metadata": {},
   "outputs": [
    {
     "name": "stdout",
     "output_type": "stream",
     "text": [
      "Not starts with learn\n"
     ]
    }
   ],
   "source": [
    "import re\n",
    "s = 'Rlearning Python is very easy'\n",
    "res = re.search('^learn', s) #sent with starting with learn or not.\n",
    "if res!= None:\n",
    "    print('starts with learn')\n",
    "else:\n",
    "    print('Not starts with learn')"
   ]
  },
  {
   "cell_type": "code",
   "execution_count": 108,
   "metadata": {},
   "outputs": [
    {
     "name": "stdout",
     "output_type": "stream",
     "text": [
      "ends with easy\n"
     ]
    }
   ],
   "source": [
    "import re\n",
    "s = 'learning Python is very easy'\n",
    "res = re.search('easy$', s) #sent ends with easy.\n",
    "if res!= None:\n",
    "    print('ends with easy')\n",
    "else:\n",
    "    print('Not ends with easy')"
   ]
  },
  {
   "cell_type": "code",
   "execution_count": 111,
   "metadata": {},
   "outputs": [
    {
     "name": "stdout",
     "output_type": "stream",
     "text": [
      "Not ends with easy\n"
     ]
    }
   ],
   "source": [
    "import re\n",
    "s = 'learning Python is very easy'\n",
    "res = re.search('Easy$', s) #case sensitive\n",
    "if res!= None:\n",
    "    print('ends with easy')\n",
    "else:\n",
    "    print('Not ends with easy')"
   ]
  },
  {
   "cell_type": "code",
   "execution_count": 112,
   "metadata": {},
   "outputs": [
    {
     "name": "stdout",
     "output_type": "stream",
     "text": [
      "ends with easy\n"
     ]
    }
   ],
   "source": [
    "#To overcome this we need to add IGNORECASE.\n",
    "import re\n",
    "s = 'learning Python is very easy'\n",
    "res = re.search('Easy$', s, re.IGNORECASE) #case sensitive\n",
    "if res!= None:\n",
    "    print('ends with easy')\n",
    "else:\n",
    "    print('Not ends with easy')"
   ]
  },
  {
   "cell_type": "code",
   "execution_count": 113,
   "metadata": {},
   "outputs": [
    {
     "name": "stdout",
     "output_type": "stream",
     "text": [
      "enter the mob num to validate7500727897\n",
      "7500727897 it is a valid phone number\n"
     ]
    }
   ],
   "source": [
    "#Phone Number Validity.\n",
    "#10 digit number.\n",
    "#India- [6789][0-9]* - Not work.\n",
    "#[6789][0-9] - Not work\n",
    "#6789][0-9][0-9] [0-9] [0-9] [0-9][0-9] [0-9][0-9] can work need to make more concise.\n",
    "#[6789][0-9]{9}- better need more.\n",
    "#[6-9]\\d{9}- perfectly work. (\\d- for any digit.)  \n",
    "\n",
    "\n",
    "import re\n",
    "s = input('enter the mob num to validate')\n",
    "x = re.fullmatch('[6-9]\\d{9}', s)\n",
    "if x!=None:\n",
    "    print(s, 'it is a valid phone number')\n",
    "else:\n",
    "    print(s, 'is an Invalid phone number')"
   ]
  },
  {
   "cell_type": "code",
   "execution_count": 115,
   "metadata": {},
   "outputs": [
    {
     "name": "stdout",
     "output_type": "stream",
     "text": [
      "enter the mob num to validate9161013613\n",
      "9161013613 it is a valid phone number\n"
     ]
    }
   ],
   "source": [
    "import re\n",
    "s = input('enter the mob num to validate')\n",
    "x = re.fullmatch('[6-9]\\d{9}', s)\n",
    "if x!=None:\n",
    "    print(s, 'it is a valid phone number')\n",
    "else:\n",
    "    print(s, 'is an Invalid phone number')"
   ]
  },
  {
   "cell_type": "code",
   "execution_count": 116,
   "metadata": {},
   "outputs": [
    {
     "name": "stdout",
     "output_type": "stream",
     "text": [
      "enter the mob num to validate1234567890\n",
      "1234567890 is an Invalid phone number\n"
     ]
    }
   ],
   "source": [
    "import re\n",
    "s = input('enter the mob num to validate')\n",
    "x = re.fullmatch('[6-9]\\d{9}', s)\n",
    "if x!=None:\n",
    "    print(s, 'it is a valid phone number')\n",
    "else:\n",
    "    print(s, 'is an Invalid phone number')"
   ]
  },
  {
   "cell_type": "code",
   "execution_count": 1,
   "metadata": {},
   "outputs": [],
   "source": [
    "#Phone Number Validity.\n",
    "#10 digits \n",
    "#11 digits[0]\n",
    "#12 digits [91]\n",
    "#13 digits [+91]\n",
    "\n"
   ]
  },
  {
   "cell_type": "code",
   "execution_count": 117,
   "metadata": {},
   "outputs": [
    {
     "name": "stdout",
     "output_type": "stream",
     "text": [
      "enter the mob num to validate8858669977\n",
      "8858669977 it is a valid phone number\n"
     ]
    }
   ],
   "source": [
    "import re\n",
    "s = input('enter the mob num to validate')\n",
    "x = re.fullmatch('[6-9]\\d{9}', s)\n",
    "if x!=None:\n",
    "    print(s, 'it is a valid phone number')\n",
    "else:\n",
    "    print(s, 'is an Invalid phone number')"
   ]
  },
  {
   "cell_type": "code",
   "execution_count": 122,
   "metadata": {},
   "outputs": [
    {
     "name": "stdout",
     "output_type": "stream",
     "text": [
      "enter the mob num to validate79161013613\n",
      "79161013613 it is a valid phone number\n"
     ]
    }
   ],
   "source": [
    "#10 digits\n",
    "import re\n",
    "s = input('enter the mob num to validate')\n",
    "x = re.fullmatch('[6-9]\\d{10}', s)\n",
    "if x!=None:\n",
    "    print(s, 'it is a valid phone number')\n",
    "else:\n",
    "    print(s, 'is an Invalid phone number')"
   ]
  },
  {
   "cell_type": "code",
   "execution_count": 8,
   "metadata": {},
   "outputs": [
    {
     "name": "stdout",
     "output_type": "stream",
     "text": [
      "enter the mob num to validate08922015288\n",
      "08922015288 it is a valid phone number\n"
     ]
    }
   ],
   "source": [
    "#11 digits including [0]\n",
    "import re\n",
    "s = input('enter the mob num to validate')\n",
    "x = re.fullmatch('[0]\\d{10}', s)\n",
    "if x!=None:\n",
    "    print(s, 'it is a valid phone number')\n",
    "else:\n",
    "    print(s, 'is an Invalid phone number')\n",
    "        \n"
   ]
  },
  {
   "cell_type": "code",
   "execution_count": 9,
   "metadata": {},
   "outputs": [
    {
     "name": "stdout",
     "output_type": "stream",
     "text": [
      "enter the mob num to validate78922015288\n",
      "78922015288 is an Invalid phone number\n"
     ]
    }
   ],
   "source": [
    "#11 digits including [0]\n",
    "import re\n",
    "s = input('enter the mob num to validate')\n",
    "x = re.fullmatch('[0]\\d{10}', s)\n",
    "if x!=None:\n",
    "    print(s, 'it is a valid phone number')\n",
    "else:\n",
    "    print(s, 'is an Invalid phone number')\n",
    "        \n"
   ]
  },
  {
   "cell_type": "code",
   "execution_count": 30,
   "metadata": {},
   "outputs": [
    {
     "name": "stdout",
     "output_type": "stream",
     "text": [
      "Searching.....\n",
      "<title>Google</title>\n",
      "Searching.....\n",
      "<title>Rediff.com: News | Rediffmail | Stock Quotes | Shopping</title>\n"
     ]
    }
   ],
   "source": [
    "#Web scraping-\n",
    "#find the title values from the websites - GOOGLE and Rediff.\n",
    "import re , urllib # urlib - package for website\n",
    "import urllib.request #raising req to kindly allow me to read the data from websites.\n",
    "sites = ['http://www.google.com', 'http://www.rediff.com']\n",
    "for s in sites:\n",
    "    print('Searching.....')\n",
    "    u = urllib.request.urlopen(s) # request to websites to open his data.\n",
    "    text= u.read()  #after reading the data put them into a text.\n",
    "    title = re.findall('<title>.*</title>', str(text), re.IGNORECASE) #want only data in text form and ignoring case sensitive and all the other data such as int,complex and binary as well.\n",
    "    print(title[0])\n"
   ]
  },
  {
   "cell_type": "code",
   "execution_count": 31,
   "metadata": {},
   "outputs": [
    {
     "name": "stdout",
     "output_type": "stream",
     "text": [
      "Searching..... http://www.google.com\n",
      "<title>Google</title>\n",
      "Searching..... http://www.rediff.com\n",
      "<title>Rediff.com: News | Rediffmail | Stock Quotes | Shopping</title>\n"
     ]
    }
   ],
   "source": [
    "import re , urllib # urlib - package for website to read the source code.\n",
    "import urllib.request #raising req to kindly allow me to read the data from websites.\n",
    "sites = ['http://www.google.com', 'http://www.rediff.com']\n",
    "for s in sites:\n",
    "    print('Searching.....', s)\n",
    "    u = urllib.request.urlopen(s) # request to websites to open his data.\n",
    "    text= u.read()  #after reading the data put them into a text.\n",
    "    title = re.findall('<title>.*</title>', str(text), re.IGNORECASE) #want only data in text form and ignoring case sensitive and all the other data such as int,complex and binary as well.\n",
    "    print(title[0])"
   ]
  },
  {
   "cell_type": "code",
   "execution_count": 32,
   "metadata": {},
   "outputs": [
    {
     "name": "stdout",
     "output_type": "stream",
     "text": [
      "Searching.....\n",
      "<title>Google</title>\n",
      "Searching.....\n",
      "<title>Rediff.com: News | Rediffmail | Stock Quotes | Shopping</title>\n"
     ]
    },
    {
     "data": {
      "text/plain": [
       "b'<!doctype html>\\n<html lang=\"en\">\\n<head>\\n<meta http-equiv=\"Content-Type\" content=\"text/html; charset=UTF-8\" />\\n<meta name=\"format-detection\" content=\"telephone=no\" />\\n<meta name=\"viewport\" content=\"width=device-width, initial-scale=1\" />\\n<title>Rediff.com: News | Rediffmail | Stock Quotes | Shopping</title>\\n<meta name=\"keywords\" content=\"Latest India News, Rediffmail, Live Stock Updates, Share Market Advice, Mutual Fund Quotes, Stock Quotes, Share price, Free email, Live Cricket Score, Sports News, Bollywood News, Movie Review, Rediff Money, Wealth Management, Sensex, Moneywiz, Rediffmail Login, iShare, Shopping, Business Email, Rediff, Bollywood, Bollywood Gossip, Getahead\" />\\n<meta name=\"description\" content=\"&#10004;Read Latest India News &#10004;Get Realtime Stock Quotes &#10004;See Live Cricket Scores &#10004;Log in to Rediffmail &#10004;Buy Smart Products on Rediff Shopping\" />\\n<meta http-equiv=\"X-UA-Compatible\" content=\"IE=Edge\" />\\n<link rel=\"alternate\" media=\"only screen and (max-width: 640px)\" href=\"https://m.rediff.com\" />\\n<link rel=\"preconnect\" href=\"//imworld.rediff.com\" >\\n<link rel=\"preconnect\" href=\"//im.rediff.com\" >\\n<link rel=\"preconnect\" href=\"//imshopping.rediff.com\" >\\n<link rel=\"preconnect\" href=\"//datastore.rediff.com\" >\\n<link rel=\"preconnect\" href=\"//socialimg.rediff.com\" >\\n<link rel=\"preconnect\" href=\"//newsimg.rediff.com\" >\\n<link rel=\"dns-prefetch\" href=\"//track.rediff.com/\" >\\n<link rel=\"dns-prefetch\" href=\"//bizmail.rediff.com/\" >\\n<link rel=\"dns-prefetch\" href=\"//businessemail.rediff.com/\" >\\n<link rel=\"shortcut icon\" type=image/x-icon href=\"//im.rediff.com/favicon.ico\" />\\n<link rel=\"stylesheet\" href=\"//imworld.rediff.com/worldrediff/style_3_16/home_tile_ind_62.css\" media=\"screen\" />\\n<script>\\ndocument.domain = \"rediff.com\";\\nvar glb_script_load = 0;var glb_citymapped = 0;\\nvar endyear = \"2020\";var loggedin =\"true\";var totalfeaturedpages =\"7\";var totsmartTrnd =\"30\";var totsmartBest = \"25\";\\nvar pages_domain =\"http://pages.rediff.com\";\\nvar cdn_domain = \"https://www.rediff.com\";var org_domain = \"http://mypage.rediff.com\";var ishare_domain = \"https://ishare.rediff.com\";var shopping_domain =\"http://shopping.rediff.com\";var books_domain =\"http://books.rediff.com\";var track_domain =\"https://track.rediff.com\";var money_domain =\"https://money.rediff.com\";var realtime_domain =\"https://realtime.rediff.com\";var share_domain =\"http://share.rediff.com\";var imgpath =\"//imworld.rediff.com/worldrediff/pix\";\\nvar srch_tab_sel = \"shopping\"; //used in sns\\nvar srch_tab_num = 0; //used in sns\\n\\nfunction trackURL(url){if(navigator.userAgent.toLowerCase().indexOf(\\'msie\\') != -1){var referLink = document.createElement(\\'a\\');referLink.href = url;document.body.appendChild(referLink);referLink.click();}else{document.location.href = url;}}\\nfunction getCookie(name){var dc=document.cookie;var prefix=name+\"=\";var begin=dc.indexOf(\"; \"+prefix);if(begin==-1){begin=dc.indexOf(prefix);if(begin!=0)return null}else begin+=2;var end=document.cookie.indexOf(\";\",begin);if(end==-1)end=dc.length;return unescape(dc.substring(begin+prefix.length,end))}\\n\\n</script>\\n<script async src=\"//newads.rediff.com/rediffadserver/www/delivery/asyncjs.php\"></script>\\n<style>.navbar{position:sticky;top:0;z-index:100;}.div_subscribe_nl{display:none;position:absolute;right:135px;top:30px;background:#fff;background:rgba(255,255,255,0.9);width:320px;min-height:90px;border:solid 3px #444444;z-index:101;text-align:left;overflow:hidden;padding-bottom:15px;}.subnews_icon{position:absolute;right:270px;top:1px;width:29px;height:30px;z-index:1;background:url(\\'https://imworld.rediff.com/worldrediff/pix/sub-news-icon.png\\') no-repeat -60px -6px;cursor:pointer;}.div_subscribe_nl form{padding:10px 15px 5px 15px;font-size:16px;white-space:nowrap;font-weight:bold;}.getnews{color:#b30808;}.hlabel{position:absolute;font-size:0 !important;width:1px;height:1px;overflow:hidden;}.sub_email_in{display:block;margin:3px 0 5px 0;box-sizing:border-box;font-size:14px;padding:3px;width:99%;outline:none;border:solid 1px #cecece}.subscribe_btn_in{background: #0377c0;color: #fff;border:solid 1px #0377c0;letter-spacing:0.5px;font-weight:bold;cursor:pointer;border-radius:5px;font-size:13px;padding:3px 10px;}.subscribe_btn_in:hover{background:#02639d;}.cancel_btn{color:#0055cc;font-size:14px;cursor:pointer;font-weight:normal;vertical-align:middle;display:inline-block;margin:0 0 0 5px;}.subwait{display:inline-block;;width:30px;height:30px;background:url(\\'https://imworld.rediff.com/worldrediff/pix/waitimg.gif\\') no-repeat 50% 50%;vertical-align:middle;visibility:hidden;}.div_err_message{display:none;margin:5px 15px;font-size:14px;color:#ff2020;}.div_thanks{display:none;margin:30px 0;text-align:center;font-size:15px;font-weight:bold;color:#006600;}@media screen and (max-width:1000px){.subnews_icon{display:none;}}.div_corona p:nth-child(1){width:66px;}.div_corona p{font-size:0.90em;}</style>\\n</head>\\n<body>\\n<input type=\"hidden\" id=\"OAS_subsection\"  name=\"OAS_subsection\" value=\"home\" />\\n<style>.fnt0{font-size:0;}</style>\\n<div class=\"fnt0\"><ins data-revive-zoneid=\"341\" data-revive-source=\"_blank\" data-revive-target=\"_blank\" data-revive-id=\"4b71f4079fb345c8ac958d0e9f0b56dd\" data-zonename=\"Rediff_Home_OutstreamVideo_IN\"></ins></div><div class=\"logobar\">\\n\\t<div class=\"table\">\\n\\t\\t<div class=\"cell\"><span class=\"hmsprite logo\"></span></div>\\n\\t\\t<div class=\"cell topicons\"><a href=\"https://mail.rediff.com/cgi-bin/login.cgi\" title=\"Lightning fast free email\" class=\"mailicon\">Rediffmail</a><a href=\"https://money.rediff.com\" title=\"Live commentary of the Indian stock markets, stock quotes and business news\" onclick=\"trackURL(\\'https://track.rediff.com/click?url=___https://money.rediff.com/___&position=nav1&label=money&property=hp_in_pc\\');return false;\" class=\"moneyicon relative\">Money</a><a href=\"https://businessemail.rediff.com?sc_cid=inhome\" title=\"Lightning fast business email hosting\" onclick=\"trackURL(\\'https://track.rediff.com/click?url=___https://businessemail.rediff.com?sc_cid=inhome___&position=nav1&label=businessemail&property=hp_in_pc\\');return false;\"  class=\"bmailicon relative\">Business Email</a><a href=\"https://ishare.rediff.com\" onclick=\"trackURL(\\'https://track.rediff.com/click?url=___https://ishare.rediff.com___&position=nav1&label=videos&property=hp_in_pc\\');return false;\" title=\"Watch videos\" class=\"vdicon\">Videos</a><a href=\"https://businessemail.rediff.com/campaign/index.php?do=enterprise_email_service&sc_cid=inhome\" onclick=\"trackURL(\\'https://track.rediff.com/click?url=___https://businessemail.rediff.com/campaign/index.php?do=enterprise_email_service&sc_cid=inhome___&position=nav1&label=enterpriseemail&property=hp_in_pc\\');return false;\" title=\"Enterprise Email\" class=\"eproicon\">Enterprise Email</a><a href=\"http://shopping.rediff.com\" onclick=\"trackURL(\\'https://track.rediff.com/click?url=___http://shopping.rediff.com/?sc_cid=inhome_icon___&position=nav1&label=shopping&property=hp_in_pc\\');return false;\" title=\"Online Shopping\" class=\"shopicon relative\">Shopping</a></div>\\n\\t\\t<div class=\"cell alignR toprlinks\"><span id=\"username\" class=\"username\"></span><p id=\"signin_info\"><a href=\\'https://mail.rediff.com/cgi-bin/login.cgi\\' class=\"signin\">Sign in</a><br /><a href=\\'https://register.rediff.com/register/register.php?FormName=user_details\\' title=\"Create Rediffmail Account\">Create Account</a></p><script>\\n\\nvar ck=document.cookie;\\nfunction getcookie(n){\\n\\tvar ar=n+\"=\";var al=ar.length;var cl=ck.length;var i=0;while(i<cl)\\n\\t{j=i+al;if(ck.substring(i,j)==ar)\\n\\t{e=ck.indexOf(\";\",j);if(e==-1)\\n\\te=ck.length;return unescape(ck.substring(j,e));}\\n\\ti=ck.indexOf(\" \",i)+1;if(i==0)\\n\\tbreak;}\\n\\treturn \"\";\\n}\\nvar querystring = \"\";var path = \"\";var domain = \"\";var Rkey_data = \"\";var Rkey = Math.floor(Math.random() * 1000000);\\nquerystring = window.location.search;\\npath = window.location.pathname;\\ndomain = window.location.host;\\nvar tmp_ref = encodeURIComponent(document.referrer);\\nif((tmp_ref == null) || (tmp_ref.length == 0)){tmp_ref = \"\";}\\nvar resolution = screen.width+\\'x\\'+screen.height;\\nif (querystring == \"\"){Rkey_data = \"?rkey=\"+Rkey+\"&w=\"+resolution;}else{Rkey_data = \"&rkey=\"+Rkey+\"&w=\"+resolution;}\\nif(tmp_ref != \"\"){Rkey_data += \"&ref=\"+tmp_ref;}\\nvar metriccall_img = new Image();\\nmetriccall_img.src =\\'//indmetric.rediff.com/\\'+domain+path+querystring+Rkey_data+\\'&device=pc\\';\\n\\nvar Rlo=\"\";var Rl = \"\";\\nRlo\\t= getcookie(\"Rlo\");\\nRlo = unescape(Rlo).replace(/\\\\+/g,\" \");\\nRlo = Rlo.replace(\"@rediffmail.com\",\"\");\\nRlo = Rlo.replace(/[^\\\\w\\\\d\\\\s\\\\-\\\\_]/ig,\\'\\');\\nRl = getcookie(\"Rl\");\\nRl = Rl.replace(/[^\\\\w\\\\d\\\\s\\\\-\\\\_@\\\\.]/ig,\\'\\');\\nvar tmp_rsc1 = \"\";\\ntmp_rsc1 = getcookie(\"Rsc\");\\n\\n\\n</script></div>\\n\\t</div>\\n</div>\\n<div class=\"srchbar clear-fix relative\">\\n\\t<div class=\"div_moneyframe relative\"><iframe id=\"moneyiframe\" name=\"moneyiframe\" width=\"670\" height=\"28\" src=\"about:blank\" title=\"Rediff Money Widget\" class=\"moneyiframe\"></iframe></div>\\n\\t<div class=\"srchcontainer\">\\n\\t\\t<div id=\"topsrchhome\">\\n\\t\\t\\t<form name=\"srchform\" id=\"queryTop\" method=\"post\" action=\"//shopping.rediff.com/\" >\\n\\t\\t\\t<div class=\"srch_outer\"><input type=\"text\" autocomplete=\"off\" id=\"srchword\" name=\"srchword\" class=\"homesrchbox\" aria-label=\"Search for\" placeholder=\"Search for a product, category or brand\" /><input type=\"hidden\" name=\"src\" id=\"snsSRC\" value=\"web\" /><input type=\"hidden\" id=\"srchurl\" value=\"http://shopping.rediff.com/product/\" /><input type=\"hidden\" id=\"srchservice\" value=\"shopping\" /><input type=\"hidden\" id=\"srchsugtrack\" value=\"\" /></div>\\n\\t\\t\\t<input type=\"submit\" value=\" \" class=\"newsrchbtn\" aria-label=\"Search\" /><i class=\"clear\"></i>\\n\\t\\t\\t</form>\\n\\t\\t\\t<div id=\"sug\" class=\"sug\"></div>\\n\\t\\t</div>\\n\\t</div>\\n</div>\\n\\n<div id=\"div_advt_x01\" class=\"div_advt_x01\"><ins data-revive-zoneid=\"73\" data-revive-source=\"_blank\" data-revive-target=\"_blank\" data-revive-id=\"4b71f4079fb345c8ac958d0e9f0b56dd\" data-zonename=\"Rediff_Home_728x90_ATF_IN\"></ins></div>\\n\\n<div class=\"navbar cor_margin\">\\n\\t<ul class=\"navbarul\">\\n\\t<li>&nbsp;HOME</li> \\n\\t<li class=\"news\"><a href=\"https://www.rediff.com/news\" onclick=\"trackURL(\\'https://track.rediff.com/click?url=___https://www.rediff.com/news___&position=nav2&label=news&c_type=edit_news&property=hp_in_pc\\');return false;\">NEWS</a></li> \\n\\t<li class=\"business\"><a href=\"https://www.rediff.com/business\" onclick=\"trackURL(\\'https://track.rediff.com/click?url=___https://www.rediff.com/business___&position=nav2&label=business&c_type=edit_business&property=hp_in_pc\\');return false;\">BUSINESS</a></li> \\n\\t<li class=\"movies\"><a href=\"https://www.rediff.com/movies\" onclick=\"trackURL(\\'https://track.rediff.com/click?url=___https://www.rediff.com/movies___&position=nav2&label=movies&c_type=edit_movies&property=hp_in_pc\\');return false;\">MOVIES</a></li>\\n\\t<li class=\"cricket\"><a href=\"https://www.rediff.com/cricket\" onclick=\"trackURL(\\'https://track.rediff.com/click?url=___https://www.rediff.com/cricket___&position=nav2&label=cricket&c_type=edit_cricket&property=hp_in_pc\\');return false;\">CRICKET</a></li>\\n\\t<li class=\"sports\"><a href=\"https://www.rediff.com/sports\" onclick=\"trackURL(\\'https://track.rediff.com/click?url=___https://www.rediff.com/sports___&position=nav2&label=sports&c_type=edit_sports&property=hp_in_pc\\');return false;\">SPORTS</a></li> \\n\\t<li class=\"getahead\"><a href=\"https://www.rediff.com/getahead\" onclick=\"trackURL(\\'https://track.rediff.com/click?url=___https://www.rediff.com/getahead___&position=nav2&label=getahead&c_type=edit_getahead&property=hp_in_pc\\');return false;\">GET AHEAD</a></li>\\n\\t<li class=\"news\"><a href=\"https://realtime.rediff.com\" onclick=\"trackURL(\\'https://track.rediff.com/click?url=___https://realtime.rediff.com___&position=nav2&label=realtimenews&c_type=realtimenews&property=hp_in_pc\\');return false;\">REALTIME NEWS</a></li>\\n\\t<li><a href=\"https://www.rediff.com/news/coronavirus-2020\" onclick=\"trackURL(\\'https://track.rediff.com/click?url=___https://www.rediff.com/news/coronavirus-2020___&position=nav2&label=coronavirus&c_type=coronavirus&property=hp_in_pc\\');return false;\">CORONAVIRUS</a></li>\\t</ul>\\n\\t<div class=\"div_newssearch\"><form name=\"newsrchform\" onsubmit=\"return submitNewsSearch()\" action=\"https://www.rediff.com/search\" method=\"POST\"><label for=\"srchquery_tbox\" class=\"hlabel\">Search</label><input type=\"text\" id=\"srchquery_tbox\" name=\"srchquery_tbox\" value=\"\" class=\"txt_srchquery\" autocomplete=\"off\" placeholder=\"Search news\" /><input type=\"submit\" value=\"\" class=\"newsrchbtn\" /></form></div>\\n\\t<i id=\"subnews_icon\" class=\"subnews_icon\"></i>\\n\\t<div id=\"div_subscribe_nl\" class=\"div_subscribe_nl\"><form name=\"frm_subscription_in_top\" method=\"POST\" id=\"frm_subscription_in_top\"><div><span class=\"getnews\">Get Rediff News</span> in your Inbox</div><label class=\"hlabel\" for=\"sub_email_in_top\">email</label> <input type=\"text\" onkeypress=\"if(event.keyCode==13){return subscribeNewsletterHome(\\'sub_email_in_top\\',\\'subscribe_btn_in_top\\');}\" autocomplete=\"off\" id=\"sub_email_in_top\" name=\"sub_email_in_top\" placeholder=\"Email Address\" class=\"sub_email_in\"><input type=\"button\" onclick=\"return subscribeNewsletterHome(\\'sub_email_in_top\\',\\'subscribe_btn_in_top\\');\" value=\"Keep Me Updated\" id=\"subscribe_btn_in_top\" class=\"subscribe_btn_in\"><i id=\"subwait_top\" class=\"subwait\"></i><span id=\"cancel_btn\" class=\"cancel_btn\" title=\"Close this box\">Cancel</span></form><div id=\"div_thanks\" class=\"div_thanks\"></div><div id=\"div_err_message\" class=\"div_err_message\"></div></div>\\n</div>\\n<!-- red_container starts -->\\n<div id=\"red_container_main\" class=\"red_container\">\\n\\t\\t\\t<div class=\"firstrow\">\\n\\t\\t\\t<div class=\"secstorybox topboxheight corona topstories\">\\n\\t\\t\\t\\t<a href=\"//www.rediff.com/news/coronavirus-2020\" onclick=\"trackURL(\\'https://track.rediff.com/click?url=___https://www.rediff.com/news/coronavirus-2020___&position=abovetab&label=coronavirus&c_type=edit_news&property=hp_in_pc\\');return false;\" title=\"Read more info\"><div class=\"div_corona\"><p>COVID-19</p><p><b>Cases:</b> 16,38,871</p><p><b>Cured:</b> 10,57,806</p><p><b>Death:</b> 35,747</p><p>More&raquo;</p></div></a>\\t\\t\\t\\t<div id=\"tabtable\" class=\"tabtable corona\"><div class=\"tabs active\" data-tabno=\"0\">TOP STORIES</div><div class=\\'tabs\\' data-tabno=\\'1\\'>LATEST</div><div id=\"lasttab\" class=\\'tabs hide\\' data-tabno=\\'2\\'>FOR YOU</div></div>\\n\\t\\t\\t\\t\\t\\t\\t\\t<i class=\"clear\"></i>\\n\\t\\t\\t\\t<div id=\"topdiv_0\">\\n\\t\\t\\t\\t\\t\\t\\t\\t\\t\\t\\t\\t\\t\\t\\t\\t\\t\\t\\t<h2 class=\"news\" data-boxno=\"1_1-2_1\" data-track=\"label=edit_topstories&c_type=edit_news&news=https%3A%2F%2Fwww.rediff.com%2Fnews%2Freport%2Fpix-india-sees-record-high-of-55079-covid-cases-in-1-day%2F20200731.htm\"><a href=\"https://www.rediff.com/news/report/pix-india-sees-record-high-of-55079-covid-cases-in-1-day/20200731.htm\" title=\"India sees record high of 55,079 COVID cases in 1 day\" onclick=\"trackURL(\\'https://track.rediff.com/click?url=___https%3A%2F%2Fwww.rediff.com%2Fnews%2Freport%2Fpix-india-sees-record-high-of-55079-covid-cases-in-1-day%2F20200731.htm___&position=1_1-2_1&label=edit_topstories&c_type=edit_news&property=hp_in_pc\\');return false;\">India sees record high of 55,079 COVID cases in 1 day</a></h2>\\n\\t\\t\\t\\t\\t\\t\\t\\t\\t\\t\\t\\t\\t\\t\\t\\t\\t\\t\\t\\t\\t\\t\\t\\t<h2 class=\"news\" data-boxno=\"1_1-2_2\" data-track=\"label=edit_topstories&c_type=edit_news&news=https%3A%2F%2Fwww.rediff.com%2Fnews%2Freport%2Fraj-cops-couldnt-enter-hotels-hosting-dissident-mlas%2F20200731.htm\"><a href=\"https://www.rediff.com/news/report/raj-cops-couldnt-enter-hotels-hosting-dissident-mlas/20200731.htm\" title=\"Raj cops couldn\\'t enter hotels hosting dissident MLAs\" onclick=\"trackURL(\\'https://track.rediff.com/click?url=___https%3A%2F%2Fwww.rediff.com%2Fnews%2Freport%2Fraj-cops-couldnt-enter-hotels-hosting-dissident-mlas%2F20200731.htm___&position=1_1-2_2&label=edit_topstories&c_type=edit_news&property=hp_in_pc\\');return false;\">Raj cops couldn\\'t enter hotels hosting dissident MLAs</a></h2>\\n\\t\\t\\t\\t\\t\\t\\t\\t\\t\\t\\t\\t\\t\\t\\t\\t\\t\\t\\t\\t\\t\\t\\t\\t<h2 class=\"news\" data-boxno=\"1_1-2_3\" data-track=\"label=edit_topstories&c_type=edit_news&news=https%3A%2F%2Fwww.rediff.com%2Fnews%2Fcolumn%2Fcovids-worst-still-to-come%2F20200731.htm\"><a href=\"https://www.rediff.com/news/column/covids-worst-still-to-come/20200731.htm\" title=\"Covid\\'s worst still to come\" onclick=\"trackURL(\\'https://track.rediff.com/click?url=___https%3A%2F%2Fwww.rediff.com%2Fnews%2Fcolumn%2Fcovids-worst-still-to-come%2F20200731.htm___&position=1_1-2_3&label=edit_topstories&c_type=edit_news&property=hp_in_pc\\');return false;\">Covid\\'s worst still to come</a></h2>\\n\\t\\t\\t\\t\\t\\t\\t\\t\\t\\t\\t\\t\\t\\t\\t\\t\\t\\t\\t\\t\\t\\t\\t\\t<h2 class=\"news\" data-boxno=\"1_1-2_4\" data-track=\"label=edit_topstories&c_type=edit_news&news=https%3A%2F%2Fwww.rediff.com%2Fnews%2Finterview%2Fwill-you-buy-1-lakh-rakhis-for-indias-soldiers%2F20200731.htm\"><a href=\"https://www.rediff.com/news/interview/will-you-buy-1-lakh-rakhis-for-indias-soldiers/20200731.htm\" title=\"Will you buy 1 lakh rakhis for India\\'s soldiers?\" onclick=\"trackURL(\\'https://track.rediff.com/click?url=___https%3A%2F%2Fwww.rediff.com%2Fnews%2Finterview%2Fwill-you-buy-1-lakh-rakhis-for-indias-soldiers%2F20200731.htm___&position=1_1-2_4&label=edit_topstories&c_type=edit_news&property=hp_in_pc\\');return false;\">Will you buy 1 lakh rakhis for India\\'s soldiers?</a></h2>\\n\\t\\t\\t\\t\\t\\t\\t\\t\\t\\t\\t\\t\\t\\t\\t\\t\\t\\t\\t\\t\\t\\t\\t\\t<h2 class=\"movies\" data-boxno=\"1_1-2_5\" data-track=\"label=edit_topstories&c_type=edit_movies&news=https%3A%2F%2Fwww.rediff.com%2Fmovies%2Freport%2Fsushant-wouldnt-commit-suicide-because-he-was-sad%2F20200731.htm\"><a href=\"https://www.rediff.com/movies/report/sushant-wouldnt-commit-suicide-because-he-was-sad/20200731.htm\" title=\"\\'Sushant wouldn\\'t commit suicide because he was sad\\'\" onclick=\"trackURL(\\'https://track.rediff.com/click?url=___https%3A%2F%2Fwww.rediff.com%2Fmovies%2Freport%2Fsushant-wouldnt-commit-suicide-because-he-was-sad%2F20200731.htm___&position=1_1-2_5&label=edit_topstories&c_type=edit_movies&property=hp_in_pc\\');return false;\">\\'Sushant wouldn\\'t commit suicide because he was sad\\'</a></h2>\\n\\t\\t\\t\\t\\t\\t\\t\\t\\t\\t\\t\\t\\t\\t\\t\\t\\t\\t\\t\\t\\t\\t\\t\\t<h2 class=\"movies\" data-boxno=\"1_1-2_6\" data-track=\"label=edit_topstories&c_type=edit_movies&news=https%3A%2F%2Fwww.rediff.com%2Fmovies%2Freport%2Fsushants-death-ed-politics-jump-in%2F20200731.htm\"><a href=\"https://www.rediff.com/movies/report/sushants-death-ed-politics-jump-in/20200731.htm\" title=\"Sushant\\'s death: ED, politics jump in\" onclick=\"trackURL(\\'https://track.rediff.com/click?url=___https%3A%2F%2Fwww.rediff.com%2Fmovies%2Freport%2Fsushants-death-ed-politics-jump-in%2F20200731.htm___&position=1_1-2_6&label=edit_topstories&c_type=edit_movies&property=hp_in_pc\\');return false;\">Sushant\\'s death: ED, politics jump in</a></h2>\\n\\t\\t\\t\\t\\t\\t\\t\\t\\t\\t\\t\\t\\t\\t\\t\\t\\t\\t\\t\\t\\t</div>\\n\\t\\t\\t\\t\\t\\t\\t\\t<div id=\"topdiv_1\" class=\"hide\"><h2 class=\"cricket time relative\" data-boxno=\"1_1-2_1\" data-track=\"label=edit_latest&c_type=edit_cricket&news=https%3A%2F%2Fwww.rediff.com%2Fcricket%2Freport%2Firfan-pathan-set-to-play-in-lanka-premier-league%2F20200801.htm\"><a href=\"https://www.rediff.com/cricket/report/irfan-pathan-set-to-play-in-lanka-premier-league/20200801.htm\" onclick=\"trackURL(\\'https://track.rediff.com/click?url=___https%3A%2F%2Fwww.rediff.com%2Fcricket%2Freport%2Firfan-pathan-set-to-play-in-lanka-premier-league%2F20200801.htm___&position=1_1-2_1&label=edit_latest&c_type=edit_cricket&property=hp_in_pc\\');return false;\">Irfan Pathan set to play in Lanka Premier League</a><i>40m ago</i></h2><h2 class=\"sports time relative\" data-boxno=\"1_1-2_2\" data-track=\"label=edit_latest&c_type=edit_sports&news=https%3A%2F%2Fwww.rediff.com%2Fsports%2Freport%2Fverstappen-fastest-at-silverstone-as-hulk-returns%2F20200731.htm\"><a href=\"https://www.rediff.com/sports/report/verstappen-fastest-at-silverstone-as-hulk-returns/20200731.htm\" onclick=\"trackURL(\\'https://track.rediff.com/click?url=___https%3A%2F%2Fwww.rediff.com%2Fsports%2Freport%2Fverstappen-fastest-at-silverstone-as-hulk-returns%2F20200731.htm___&position=1_1-2_2&label=edit_latest&c_type=edit_sports&property=hp_in_pc\\');return false;\">Stroll fastest as Hulk returns at Racing Point</a><i>56m ago</i></h2><h2 class=\"cricket time relative\" data-boxno=\"1_1-2_3\" data-track=\"label=edit_latest&c_type=edit_cricket&news=https%3A%2F%2Fwww.rediff.com%2Fcricket%2Freport%2Fwhy-ben-stokes-is-a-captains-dream%2F20200731.htm\"><a href=\"https://www.rediff.com/cricket/report/why-ben-stokes-is-a-captains-dream/20200731.htm\" onclick=\"trackURL(\\'https://track.rediff.com/click?url=___https%3A%2F%2Fwww.rediff.com%2Fcricket%2Freport%2Fwhy-ben-stokes-is-a-captains-dream%2F20200731.htm___&position=1_1-2_3&label=edit_latest&c_type=edit_cricket&property=hp_in_pc\\');return false;\">Why Ben Stokes is a captain\\'s dream...</a><i>1h ago</i></h2><h2 class=\"business time relative\" data-boxno=\"1_1-2_4\" data-track=\"label=edit_latest&c_type=edit_business&news=https%3A%2F%2Fwww.rediff.com%2Fmoney%2Freport%2Findias-fiscal-pain-continues-to-get-worse%2F20200731.htm\"><a href=\"https://www.rediff.com/money/report/indias-fiscal-pain-continues-to-get-worse/20200731.htm\" onclick=\"trackURL(\\'https://track.rediff.com/click?url=___https%3A%2F%2Fwww.rediff.com%2Fmoney%2Freport%2Findias-fiscal-pain-continues-to-get-worse%2F20200731.htm___&position=1_1-2_4&label=edit_latest&c_type=edit_business&property=hp_in_pc\\');return false;\">India\\'s fiscal pain continues to get worse</a><i>1h ago</i></h2><h2 class=\"news time relative\" data-boxno=\"1_1-2_5\" data-track=\"label=edit_latest&c_type=edit_news&news=https%3A%2F%2Fwww.rediff.com%2Fnews%2Freport%2Fraj-cong-chief-whip-moves-sc-against-hc-order-on-mlas%2F20200731.htm\"><a href=\"https://www.rediff.com/news/report/raj-cong-chief-whip-moves-sc-against-hc-order-on-mlas/20200731.htm\" onclick=\"trackURL(\\'https://track.rediff.com/click?url=___https%3A%2F%2Fwww.rediff.com%2Fnews%2Freport%2Fraj-cong-chief-whip-moves-sc-against-hc-order-on-mlas%2F20200731.htm___&position=1_1-2_5&label=edit_latest&c_type=edit_news&property=hp_in_pc\\');return false;\">Raj Cong chief whip moves SC against HC order on Pilot camp MLAs</a><i>1h ago</i></h2><h2 class=\"news time relative\" data-boxno=\"1_1-2_6\" data-track=\"label=edit_latest&c_type=edit_news&news=https%3A%2F%2Fwww.rediff.com%2Fnews%2Freport%2Fgehlot-camp-mlas-to-be-shifted-to-jaisalmer%2F20200731.htm\"><a href=\"https://www.rediff.com/news/report/gehlot-camp-mlas-to-be-shifted-to-jaisalmer/20200731.htm\" onclick=\"trackURL(\\'https://track.rediff.com/click?url=___https%3A%2F%2Fwww.rediff.com%2Fnews%2Freport%2Fgehlot-camp-mlas-to-be-shifted-to-jaisalmer%2F20200731.htm___&position=1_1-2_6&label=edit_latest&c_type=edit_news&property=hp_in_pc\\');return false;\">Congress shifts Rajasthan MLAs to Jaisalmer hotel</a><i></i></h2><p class=\"alignR\"><a href=\"https://www.rediff.com/search/news?viewtype=grid&sort_order=recency&src=hp_latest_more_in_pc\" class=\"lmore\">More News</a></p></div>\\n\\t\\t\\t\\t\\t\\t\\t\\t<div id=\"topdiv_2\" class=\"hide\"></div>\\n\\t\\t\\t</div>\\n\\t\\t\\t\\t\\t\\t\\t\\t\\t\\t\\t\\t<div class=\"bigstory\" data-boxno=\"1_3\" data-track=\"label=edit_movies&c_type=edit_movies&news=https%3A%2F%2Fwww.rediff.com%2Fmovies%2Freport%2Fwhat-are-anushka-madhuri-katrina-doing-in-bw%2F20200729.htm\">\\n\\t\\t\\t\\t<p class=\"more\"><a href=\"https://www.rediff.com/movies\" class=\"backmovies\" onclick=\"trackURL(\\'https://track.rediff.com/click?url=___https://www.rediff.com/movies___&position=1_3_L&label=edit_movies&c_type=edit_movies&property=hp_in_pc\\');return false;\">movies</a></p>\\n\\t\\t\\t\\t<h5><a href=\"https://www.rediff.com/movies/report/what-are-anushka-madhuri-katrina-doing-in-bw/20200729.htm\" onclick=\"trackURL(\\'https://track.rediff.com/click?url=___https%3A%2F%2Fwww.rediff.com%2Fmovies%2Freport%2Fwhat-are-anushka-madhuri-katrina-doing-in-bw%2F20200729.htm___&position=1_3_I&label=edit_movies&c_type=edit_movies&property=hp_in_pc\\');return false;\"><img alt=\"What are Anushka, Madhuri, Katrina doing in B&amp;W?\" src=\"//im.rediff.com/320-205/movies/2020/jul/29insta-lead2.jpg\" /></a></h5>\\t\\t\\t\\t<h2 class=\"hdtitle\"><a href=\"https://www.rediff.com/movies/report/what-are-anushka-madhuri-katrina-doing-in-bw/20200729.htm\" onclick=\"trackURL(\\'https://track.rediff.com/click?url=___https%3A%2F%2Fwww.rediff.com%2Fmovies%2Freport%2Fwhat-are-anushka-madhuri-katrina-doing-in-bw%2F20200729.htm___&position=1_3_T&label=edit_movies&c_type=edit_movies&property=hp_in_pc\\');return false;\">What are Anushka, Madhuri, Katrina doing in B&amp;W?</a></h2>\\n\\t\\t\\t</div>\\n\\t\\t\\t\\t\\t\\t<div id=\"div_advt_right\" class=\"div_advt_right\"><ins data-revive-zoneid=\"81\" data-revive-source=\"_blank\" data-revive-target=\"_blank\" data-revive-id=\"4b71f4079fb345c8ac958d0e9f0b56dd\" data-zonename=\"Rediff_Home_300x250_ATF_IN\"></ins></div>\\n\\t\\t\\t<i class=\"clear\"></i>\\n\\t\\t</div>\\n\\t\\t\\t\\t\\t\\t\\t\\t\\t\\t\\t\\t\\t\\t\\t\\t<div class=\"nbox\" data-boxno=\"2_1\" data-track=\"label=edit_news&c_type=edit_news&news=https%3A%2F%2Fwww.rediff.com%2Fnews%2Fcolumn%2Fwhen-will-modi-shuffle-his-ministers%2F20200730.htm\">\\n\\t\\t\\t\\t<p class=\"more\"><a \\n\\t\\t\\t\\tonclick=\"trackURL(\\'https://track.rediff.com/click?url=___https://www.rediff.com/news___&position=2_1_L&label=edit_news&c_type=edit_news&property=hp_in_pc\\');return false;\" class=\"backnews\" href=\"https://www.rediff.com/news\">news</a></p>\\n\\t\\t\\t\\t<h5><a onclick=\"trackURL(\\'https://track.rediff.com/click?url=___https%3A%2F%2Fwww.rediff.com%2Fnews%2Fcolumn%2Fwhen-will-modi-shuffle-his-ministers%2F20200730.htm___&position=2_1_I&label=edit_news&c_type=edit_news&property=hp_in_pc\\');return false;\" data-relsrc=\"https://im.rediff.com/210-170/news/2019/may/31cabinet-minister.jpg\" class=\"img\" href=\"https://www.rediff.com/news/column/when-will-modi-shuffle-his-ministers/20200730.htm\"><img alt=\"When will Modi shuffle his ministers?\" src=\"//imworld.rediff.com/worldrediff/pix/blank.gif\" /></a></h5>\\t\\t\\t\\t<h2 class=\"hdtitle\"><a onclick=\"trackURL(\\'https://track.rediff.com/click?url=___https%3A%2F%2Fwww.rediff.com%2Fnews%2Fcolumn%2Fwhen-will-modi-shuffle-his-ministers%2F20200730.htm___&position=2_1_T&label=edit_news&c_type=edit_news&property=hp_in_pc\\');return false;\"  href=\"https://www.rediff.com/news/column/when-will-modi-shuffle-his-ministers/20200730.htm\">When will Modi shuffle his ministers?</a></h2>\\n\\t\\t\\t</div>\\t\\t\\t\\t\\t\\t\\t\\t\\t\\t\\t\\t\\t\\t\\t\\t\\t\\t\\t\\t<div class=\"nbox\" data-boxno=\"2_2\" data-track=\"label=edit_business&c_type=edit_business&news=https%3A%2F%2Fwww.rediff.com%2Fbusiness%2Freport%2Finternational-flights-to-remain-suspended-till-aug-31%2F20200731.htm\">\\n\\t\\t\\t\\t<p class=\"more\"><a \\n\\t\\t\\t\\tonclick=\"trackURL(\\'https://track.rediff.com/click?url=___https://www.rediff.com/business___&position=2_2_L&label=edit_business&c_type=edit_business&property=hp_in_pc\\');return false;\" class=\"backbusiness\" href=\"https://www.rediff.com/business\">business</a></p>\\n\\t\\t\\t\\t<h5><a onclick=\"trackURL(\\'https://track.rediff.com/click?url=___https%3A%2F%2Fwww.rediff.com%2Fbusiness%2Freport%2Finternational-flights-to-remain-suspended-till-aug-31%2F20200731.htm___&position=2_2_I&label=edit_business&c_type=edit_business&property=hp_in_pc\\');return false;\" data-relsrc=\"//im.rediff.com/210-170/money/2020/jul/31flight.jpg\" class=\"img\" href=\"https://www.rediff.com/business/report/international-flights-to-remain-suspended-till-aug-31/20200731.htm\"><img alt=\"International flights to remain suspended till Aug 31\" src=\"//imworld.rediff.com/worldrediff/pix/blank.gif\" /></a></h5>\\t\\t\\t\\t<h2 class=\"hdtitle\"><a onclick=\"trackURL(\\'https://track.rediff.com/click?url=___https%3A%2F%2Fwww.rediff.com%2Fbusiness%2Freport%2Finternational-flights-to-remain-suspended-till-aug-31%2F20200731.htm___&position=2_2_T&label=edit_business&c_type=edit_business&property=hp_in_pc\\');return false;\"  href=\"https://www.rediff.com/business/report/international-flights-to-remain-suspended-till-aug-31/20200731.htm\">International flights to remain suspended till Aug 31</a></h2>\\n\\t\\t\\t</div>\\t\\t\\t\\t\\t\\t\\t\\t\\t\\t\\t\\t\\t\\t\\t\\t\\t\\t\\t\\t\\t\\t\\t\\t\\t<div class=\"nbox\"  data-boxno=\"2_3\" data-track=\"label=videos&c_type=ishare&c_id=11120440\">\\n\\t\\t\\t\\t\\t<p class=\"more\"><a href=\"https://ishare.rediff.com\" class=\"backvid\" onclick=\"trackURL(\\'https://track.rediff.com/click?url=___https://ishare.rediff.com___&position=2_3_L&label=videos&c_type=ishare&property=hp_in_pc\\');return false;\" title=\"More on Videos\">Videos</a></p>\\n\\t\\t\\t\\t\\t<h5 class=\"relative\"><a href=\"https://ishare.rediff.com/video/others/watch-car-washed-away-with-passengers-in-ap-s-anantapur/11120440\"  onclick=\"trackURL(\\'https://track.rediff.com/click?url=___https://ishare.rediff.com/video/others/watch-car-washed-away-with-passengers-in-ap-s-anantapur/11120440___&position=2_3_I&label=videos&c_type=ishare&c_id=11120440&property=hp_in_pc\\');return false;\" data-relsrc=\"http://datastore.rediff.com/h300-w300/thumb/53615D675B5B615F706460626D72/s0ywntxgibktbz87.D.87000.Watch-Car-washed-away-with-passengers-in-AP-s-Anantapur.mp4-0009.png\" class=\"img vdplayicon\"><img alt=\"Watch: Car washed away with passengers in AP\\'s Anantapur\" src=\"//imworld.rediff.com/worldrediff/pix/blank.gif\" /></a></h5><h2 class=\"hdtitle\"><a href=\"https://ishare.rediff.com/video/others/watch-car-washed-away-with-passengers-in-ap-s-anantapur/11120440\" onclick=\"trackURL(\\'https://track.rediff.com/click?url=___https://ishare.rediff.com/video/others/watch-car-washed-away-with-passengers-in-ap-s-anantapur/11120440___&position=2_3_T&label=videos&c_type=ishare&c_id=11120440&property=hp_in_pc\\');return false;\">Watch: Car washed away with passengers in AP\\'s Anantapur</a></h2>\\n\\t\\t\\t\\t\\t</div>\\t\\t\\t\\t\\t\\t\\t\\t\\t\\t\\t\\t\\t\\t\\t\\t\\t\\t\\t\\t\\t<div class=\"nbox\" data-boxno=\"2_4\" data-track=\"label=edit_sports&c_type=edit_sports&news=https%3A%2F%2Fwww.rediff.com%2Fsports%2Freport%2Fthis-nike-ad-is-giving-us-goosebumps%2F20200731.htm\">\\n\\t\\t\\t\\t<p class=\"more\"><a \\n\\t\\t\\t\\tonclick=\"trackURL(\\'https://track.rediff.com/click?url=___https://www.rediff.com/sports___&position=2_4_L&label=edit_sports&c_type=edit_sports&property=hp_in_pc\\');return false;\" class=\"backsports\" href=\"https://www.rediff.com/sports\">sports</a></p>\\n\\t\\t\\t\\t<h5><a onclick=\"trackURL(\\'https://track.rediff.com/click?url=___https%3A%2F%2Fwww.rediff.com%2Fsports%2Freport%2Fthis-nike-ad-is-giving-us-goosebumps%2F20200731.htm___&position=2_4_I&label=edit_sports&c_type=edit_sports&property=hp_in_pc\\');return false;\" data-relsrc=\"//im.rediff.com/210-170/sports/2020/jul/31nike1.jpg\" class=\"img\" href=\"https://www.rediff.com/sports/report/this-nike-ad-is-giving-us-goosebumps/20200731.htm\"><img alt=\"This Nike ad is giving us goosebumps\" src=\"//imworld.rediff.com/worldrediff/pix/blank.gif\" /></a></h5>\\t\\t\\t\\t<h2 class=\"hdtitle\"><a onclick=\"trackURL(\\'https://track.rediff.com/click?url=___https%3A%2F%2Fwww.rediff.com%2Fsports%2Freport%2Fthis-nike-ad-is-giving-us-goosebumps%2F20200731.htm___&position=2_4_T&label=edit_sports&c_type=edit_sports&property=hp_in_pc\\');return false;\"  href=\"https://www.rediff.com/sports/report/this-nike-ad-is-giving-us-goosebumps/20200731.htm\">This Nike ad is giving us goosebumps</a></h2>\\n\\t\\t\\t</div>\\t\\t\\t\\t\\t\\t\\t\\t\\t\\t\\t\\t\\t\\t\\t\\t\\t\\t\\t\\t<div class=\"nbox\" data-boxno=\"2_5\" data-track=\"label=edit_getahead&c_type=edit_getahead&news=https%3A%2F%2Fwww.rediff.com%2Fgetahead%2Freport%2Fis-this-the-perfect-time-to-travel%2F20200730.htm\">\\n\\t\\t\\t\\t<p class=\"more\"><a \\n\\t\\t\\t\\tonclick=\"trackURL(\\'https://track.rediff.com/click?url=___https://www.rediff.com/getahead___&position=2_5_L&label=edit_getahead&c_type=edit_getahead&property=hp_in_pc\\');return false;\" class=\"backgetahead\" href=\"https://www.rediff.com/getahead\">get ahead</a></p>\\n\\t\\t\\t\\t<h5><a onclick=\"trackURL(\\'https://track.rediff.com/click?url=___https%3A%2F%2Fwww.rediff.com%2Fgetahead%2Freport%2Fis-this-the-perfect-time-to-travel%2F20200730.htm___&position=2_5_I&label=edit_getahead&c_type=edit_getahead&property=hp_in_pc\\');return false;\" data-relsrc=\"https://im.rediff.com/210-170/getahead/2020/jul/24travel28a.jpg\" class=\"img\" href=\"https://www.rediff.com/getahead/report/is-this-the-perfect-time-to-travel/20200730.htm\"><img alt=\"Is this the perfect time to travel?\" src=\"//imworld.rediff.com/worldrediff/pix/blank.gif\" /></a></h5>\\t\\t\\t\\t<h2 class=\"hdtitle\"><a onclick=\"trackURL(\\'https://track.rediff.com/click?url=___https%3A%2F%2Fwww.rediff.com%2Fgetahead%2Freport%2Fis-this-the-perfect-time-to-travel%2F20200730.htm___&position=2_5_T&label=edit_getahead&c_type=edit_getahead&property=hp_in_pc\\');return false;\"  href=\"https://www.rediff.com/getahead/report/is-this-the-perfect-time-to-travel/20200730.htm\">Is this the perfect time to travel?</a></h2>\\n\\t\\t\\t</div>\\t\\t\\t\\t\\t\\t\\t\\t\\t\\t<i class=\"clear\"></i>\\n\\t\\t\\t\\t\\t\\t\\t\\t\\t\\t\\t\\t\\t\\t\\t\\t<div class=\"nbox\" data-boxno=\"3_1\" data-track=\"label=edit_getahead&c_type=edit_getahead&news=https%3A%2F%2Fwww.rediff.com%2Fgetahead%2Freport%2Fthe-hottie-on-cosmos-latest-cover%2F20200729.htm\">\\n\\t\\t\\t\\t<p class=\"more\"><a \\n\\t\\t\\t\\tonclick=\"trackURL(\\'https://track.rediff.com/click?url=___https://www.rediff.com/getahead___&position=3_1_L&label=edit_getahead&c_type=edit_getahead&property=hp_in_pc\\');return false;\" class=\"backgetahead\" href=\"https://www.rediff.com/getahead\">get ahead</a></p>\\n\\t\\t\\t\\t<h5><a onclick=\"trackURL(\\'https://track.rediff.com/click?url=___https%3A%2F%2Fwww.rediff.com%2Fgetahead%2Freport%2Fthe-hottie-on-cosmos-latest-cover%2F20200729.htm___&position=3_1_I&label=edit_getahead&c_type=edit_getahead&property=hp_in_pc\\');return false;\" data-relsrc=\"//im.rediff.com/210-170/movies/2020/jul/29maya-jama-lead1.jpg\" class=\"img\" href=\"https://www.rediff.com/getahead/report/the-hottie-on-cosmos-latest-cover/20200729.htm\"><img alt=\"The HOTTIE on Cosmo\\'s latest cover\" src=\"//imworld.rediff.com/worldrediff/pix/blank.gif\" /></a></h5>\\t\\t\\t\\t<h2 class=\"hdtitle\"><a onclick=\"trackURL(\\'https://track.rediff.com/click?url=___https%3A%2F%2Fwww.rediff.com%2Fgetahead%2Freport%2Fthe-hottie-on-cosmos-latest-cover%2F20200729.htm___&position=3_1_T&label=edit_getahead&c_type=edit_getahead&property=hp_in_pc\\');return false;\"  href=\"https://www.rediff.com/getahead/report/the-hottie-on-cosmos-latest-cover/20200729.htm\">The HOTTIE on Cosmo\\'s latest cover</a></h2>\\n\\t\\t\\t</div>\\t\\t\\t\\t\\t\\t\\t\\t\\t\\t\\t\\t\\t\\t\\t\\t\\t\\t\\t\\t<div class=\"nbox\" data-boxno=\"3_2\" data-track=\"label=edit_movies&c_type=edit_movies&news=https%3A%2F%2Fwww.rediff.com%2Fmovies%2Fspecial%2F-25-striking-frames-of-hum%2F20200730.htm\">\\n\\t\\t\\t\\t<p class=\"more\"><a \\n\\t\\t\\t\\tonclick=\"trackURL(\\'https://track.rediff.com/click?url=___https://www.rediff.com/movies___&position=3_2_L&label=edit_movies&c_type=edit_movies&property=hp_in_pc\\');return false;\" class=\"backmovies\" href=\"https://www.rediff.com/movies\">movies</a></p>\\n\\t\\t\\t\\t<h5><a onclick=\"trackURL(\\'https://track.rediff.com/click?url=___https%3A%2F%2Fwww.rediff.com%2Fmovies%2Fspecial%2F-25-striking-frames-of-hum%2F20200730.htm___&position=3_2_I&label=edit_movies&c_type=edit_movies&property=hp_in_pc\\');return false;\" data-relsrc=\"//im.rediff.com/210-170/movies/2020/jul/30amitabh-lead1.jpg\" class=\"img\" href=\"https://www.rediff.com/movies/special/-25-striking-frames-of-hum/20200730.htm\"><img alt=\"25 STRIKING FRAMES of Hum\" src=\"//imworld.rediff.com/worldrediff/pix/blank.gif\" /></a></h5>\\t\\t\\t\\t<h2 class=\"hdtitle\"><a onclick=\"trackURL(\\'https://track.rediff.com/click?url=___https%3A%2F%2Fwww.rediff.com%2Fmovies%2Fspecial%2F-25-striking-frames-of-hum%2F20200730.htm___&position=3_2_T&label=edit_movies&c_type=edit_movies&property=hp_in_pc\\');return false;\"  href=\"https://www.rediff.com/movies/special/-25-striking-frames-of-hum/20200730.htm\">25 STRIKING FRAMES of Hum</a></h2>\\n\\t\\t\\t</div>\\t\\t\\t\\t\\t\\t\\t\\t\\t\\t\\t\\t\\t\\t\\t\\t\\t\\t\\t\\t\\t\\t\\t\\t\\t<div class=\"nbox\"  data-boxno=\"3_3\" data-track=\"label=videos&c_type=ishare&c_id=11120604\">\\n\\t\\t\\t\\t\\t<p class=\"more\"><a href=\"https://ishare.rediff.com\" class=\"backvid\" onclick=\"trackURL(\\'https://track.rediff.com/click?url=___https://ishare.rediff.com___&position=3_3_L&label=videos&c_type=ishare&property=hp_in_pc\\');return false;\" title=\"More on Videos\">Videos</a></p>\\n\\t\\t\\t\\t\\t<h5 class=\"relative\"><a href=\"https://ishare.rediff.com/video/others/-i-believe-that-i-will-get-justice-rhea-chakraborty/11120604\"  onclick=\"trackURL(\\'https://track.rediff.com/click?url=___https://ishare.rediff.com/video/others/-i-believe-that-i-will-get-justice-rhea-chakraborty/11120604___&position=3_3_I&label=videos&c_type=ishare&c_id=11120604&property=hp_in_pc\\');return false;\" data-relsrc=\"http://datastore.rediff.com/h300-w300/thumb/53615D675B5B615F706460626D72/8xub84lgcpxyxl1e.D.71000.I-believe-that-I-will-get-justice-Rhea-Chakraborty.mp4-0005.png\" class=\"img vdplayicon\"><img alt=\"\\'I believe that I will get justice\\': Rhea Chakraborty\" src=\"//imworld.rediff.com/worldrediff/pix/blank.gif\" /></a></h5><h2 class=\"hdtitle\"><a href=\"https://ishare.rediff.com/video/others/-i-believe-that-i-will-get-justice-rhea-chakraborty/11120604\" onclick=\"trackURL(\\'https://track.rediff.com/click?url=___https://ishare.rediff.com/video/others/-i-believe-that-i-will-get-justice-rhea-chakraborty/11120604___&position=3_3_T&label=videos&c_type=ishare&c_id=11120604&property=hp_in_pc\\');return false;\">\\'I believe that I will get justice\\': Rhea Chakraborty</a></h2>\\n\\t\\t\\t\\t\\t</div>\\t\\t\\t\\t\\t\\t\\t\\t\\t\\t\\t\\t\\t\\t\\t\\t\\t\\t\\t\\t\\t<div class=\"nbox\" data-boxno=\"3_4\" data-track=\"label=edit_cricket&c_type=edit_cricket&news=https%3A%2F%2Fwww.rediff.com%2Fcricket%2Freport%2Fipl-in-uae-will-see-fans-back-in-stadiums%2F20200731.htm\">\\n\\t\\t\\t\\t<p class=\"more\"><a \\n\\t\\t\\t\\tonclick=\"trackURL(\\'https://track.rediff.com/click?url=___https://www.rediff.com/cricket___&position=3_4_L&label=edit_cricket&c_type=edit_cricket&property=hp_in_pc\\');return false;\" class=\"backcricket\" href=\"https://www.rediff.com/cricket\">cricket</a></p>\\n\\t\\t\\t\\t<h5><a onclick=\"trackURL(\\'https://track.rediff.com/click?url=___https%3A%2F%2Fwww.rediff.com%2Fcricket%2Freport%2Fipl-in-uae-will-see-fans-back-in-stadiums%2F20200731.htm___&position=3_4_I&label=edit_cricket&c_type=edit_cricket&property=hp_in_pc\\');return false;\" data-relsrc=\"//im.rediff.com/210-170/cricket/2020/jul/31ipl-fans.jpg\" class=\"img\" href=\"https://www.rediff.com/cricket/report/ipl-in-uae-will-see-fans-back-in-stadiums/20200731.htm\"><img alt=\"IPL in UAE will see fans back in stadiums\" src=\"//imworld.rediff.com/worldrediff/pix/blank.gif\" /></a></h5>\\t\\t\\t\\t<h2 class=\"hdtitle\"><a onclick=\"trackURL(\\'https://track.rediff.com/click?url=___https%3A%2F%2Fwww.rediff.com%2Fcricket%2Freport%2Fipl-in-uae-will-see-fans-back-in-stadiums%2F20200731.htm___&position=3_4_T&label=edit_cricket&c_type=edit_cricket&property=hp_in_pc\\');return false;\"  href=\"https://www.rediff.com/cricket/report/ipl-in-uae-will-see-fans-back-in-stadiums/20200731.htm\">IPL in UAE will see fans back in stadiums</a></h2>\\n\\t\\t\\t</div>\\t\\t\\t\\t\\t\\t\\t\\t\\t\\t\\t\\t\\t\\t<div id=\"native_0\" class=\"nbox hide\" data-boxno=\"3_5\" data-track=\"label=lifestyletips&c_type=shopping_native&news=https%3A%2F%2Fwww.rediff.com%2Ftravel-living%2Freport%2F8-must-have-products-for-cleaner-and-spacious-car%2F20190625.htm\">\\n\\t\\t<p class=\"more\"><a href=\"https://www.rediff.com/travel-living\" onclick=\"trackURL(\\'https://track.rediff.com/click?url=___https%3A%2F%2Fwww.rediff.com%2Ftravel-living?sc_cid=inhome_ntv_3_5_L_lifestyletips___&position=3_5_L&label=lifestyletips&c_type=shopping_native&property=hp_in_pc\\');return false;\">#LifestyleTips</a></p>\\n\\t\\t<h5><a data-relsrc=\"http://im.rediff.com/240-170/travel-living/2019/jun/25car-1149997960720.jpg\" class=\"img\" href=\"https://www.rediff.com/travel-living/report/8-must-have-products-for-cleaner-and-spacious-car/20190625.htm\" onclick=\"trackURL(\\'https://track.rediff.com/click?url=___https%3A%2F%2Fwww.rediff.com%2Ftravel-living%2Freport%2F8-must-have-products-for-cleaner-and-spacious-car%2F20190625.htm?sc_cid=inhome_ntv_3_5_I_lifestyletips___&position=3_5_I&label=lifestyletips&c_type=shopping_native&property=hp_in_pc\\');return false;\"><img alt=\"8 must have car accessories for cleaner and spacious car\" src=\"//imworld.rediff.com/worldrediff/pix/blank.gif\" /></a></h5><h2 class=\"hdtitle\"><a href=\"https://www.rediff.com/travel-living/report/8-must-have-products-for-cleaner-and-spacious-car/20190625.htm\" onclick=\"trackURL(\\'https://track.rediff.com/click?url=___https%3A%2F%2Fwww.rediff.com%2Ftravel-living%2Freport%2F8-must-have-products-for-cleaner-and-spacious-car%2F20190625.htm?sc_cid=inhome_ntv_3_5_T_lifestyletips___&position=3_5_T&label=lifestyletips&c_type=shopping_native&property=hp_in_pc\\');return false;\">8 must have car accessories for cleaner and spacious car</a></h2>\\n\\t\\t</div>\\n\\t\\t\\t\\t<i class=\"clear\"></i>\\n\\t\\t\\t\\t<div class=\"div_advt_middle\"><ins data-revive-zoneid=\"75\" data-revive-source=\"_blank\" data-revive-target=\"_blank\" data-revive-id=\"4b71f4079fb345c8ac958d0e9f0b56dd\" data-zonename=\"Rediff_Home_728x90_Middle_IN\"></ins></div>\\n\\t\\t\\t\\t\\t\\t\\t\\t\\t\\t\\t\\t\\t\\t<div class=\"nbox\"  data-boxno=\"4_1\" data-track=\"label=videos&c_type=ishare&c_id=11119851\">\\n\\t\\t\\t<p class=\"more\"><a href=\"https://ishare.rediff.com\" class=\"backvid\" onclick=\"trackURL(\\'https://track.rediff.com/click?url=___https://ishare.rediff.com___&position=4_1_L&label=videos&c_type=ishare&property=hp_in_pc\\');return false;\" title=\"More on Videos\">Videos</a></p>\\n\\t\\t\\t<h5 class=\"relative\"><a href=\"https://ishare.rediff.com/video/entertainment/watch-elli-avrram-dances-to-tum-ladki-ho-from-maine-pyaar-kiya-/11119851\"  onclick=\"trackURL(\\'https://track.rediff.com/click?url=___https://ishare.rediff.com/video/entertainment/watch-elli-avrram-dances-to-tum-ladki-ho-from-maine-pyaar-kiya-/11119851___&position=4_1_I&label=videos&c_type=ishare&c_id=11119851&property=hp_in_pc\\');return false;\" data-relsrc=\"http://datastore.rediff.com/h300-w300/thumb/5E695F596B5F716561636E/dwa5fhlmgxsx9hkg.D.47000.Ellie-Avram.mp4-0014.png\" class=\"img vdplayicon\"><img alt=\"Watch: Elli AvrRam dances to \\'Tum Ladki Ho\\' from \\'Maine Pyaar Kiya\\'\" src=\"//imworld.rediff.com/worldrediff/pix/blank.gif\" /></a></h5><h2 class=\"hdtitle\"><a href=\"https://ishare.rediff.com/video/entertainment/watch-elli-avrram-dances-to-tum-ladki-ho-from-maine-pyaar-kiya-/11119851\" onclick=\"trackURL(\\'https://track.rediff.com/click?url=___https://ishare.rediff.com/video/entertainment/watch-elli-avrram-dances-to-tum-ladki-ho-from-maine-pyaar-kiya-/11119851___&position=4_1_T&label=videos&c_type=ishare&c_id=11119851&property=hp_in_pc\\');return false;\">Watch: Elli AvrRam dances to \\'Tum Ladki Ho\\' from \\'Maine Pyaar Kiya\\'</a></h2>\\n\\t\\t\\t</div>\\t\\t\\t\\t\\t\\t\\t\\t\\t\\t\\t\\t\\t\\t\\t\\t\\t<div class=\"nbox\"  data-boxno=\"4_2\" data-track=\"label=videos&c_type=ishare&c_id=11120465\">\\n\\t\\t\\t<p class=\"more\"><a href=\"https://ishare.rediff.com\" class=\"backvid\" onclick=\"trackURL(\\'https://track.rediff.com/click?url=___https://ishare.rediff.com___&position=4_2_L&label=videos&c_type=ishare&property=hp_in_pc\\');return false;\" title=\"More on Videos\">Videos</a></p>\\n\\t\\t\\t<h5 class=\"relative\"><a href=\"https://ishare.rediff.com/video/others/remote-villages-in-kashmir-being-electrified-at-rapid-pace/11120465\"  onclick=\"trackURL(\\'https://track.rediff.com/click?url=___https://ishare.rediff.com/video/others/remote-villages-in-kashmir-being-electrified-at-rapid-pace/11120465___&position=4_2_I&label=videos&c_type=ishare&c_id=11120465&property=hp_in_pc\\');return false;\" data-relsrc=\"http://datastore.rediff.com/h300-w300/thumb/53615D675B5B615F706460626D72/jbmivg9g3r4h2i9b.D.262000.Remote-villages-in-Kashmir-being-electrified-at-rapid-pace.mp4-0000.png\" class=\"img vdplayicon\"><img alt=\"Remote villages in Kashmir being electrified at rapid pace\" src=\"//imworld.rediff.com/worldrediff/pix/blank.gif\" /></a></h5><h2 class=\"hdtitle\"><a href=\"https://ishare.rediff.com/video/others/remote-villages-in-kashmir-being-electrified-at-rapid-pace/11120465\" onclick=\"trackURL(\\'https://track.rediff.com/click?url=___https://ishare.rediff.com/video/others/remote-villages-in-kashmir-being-electrified-at-rapid-pace/11120465___&position=4_2_T&label=videos&c_type=ishare&c_id=11120465&property=hp_in_pc\\');return false;\">Remote villages in Kashmir being electrified at rapid pace</a></h2>\\n\\t\\t\\t</div>\\t\\t\\t\\t\\t\\t\\t\\t\\t\\t\\t\\t\\t\\t\\t\\t\\t<div class=\"nbox\"  data-boxno=\"4_3\" data-track=\"label=videos&c_type=ishare&c_id=11120582\">\\n\\t\\t\\t<p class=\"more\"><a href=\"https://ishare.rediff.com\" class=\"backvid\" onclick=\"trackURL(\\'https://track.rediff.com/click?url=___https://ishare.rediff.com___&position=4_3_L&label=videos&c_type=ishare&property=hp_in_pc\\');return false;\" title=\"More on Videos\">Videos</a></p>\\n\\t\\t\\t<h5 class=\"relative\"><a href=\"https://ishare.rediff.com/video/others/elephant-owner-in-madurai-suffers-due-to-lockdown/11120582\"  onclick=\"trackURL(\\'https://track.rediff.com/click?url=___https://ishare.rediff.com/video/others/elephant-owner-in-madurai-suffers-due-to-lockdown/11120582___&position=4_3_I&label=videos&c_type=ishare&c_id=11120582&property=hp_in_pc\\');return false;\" data-relsrc=\"http://datastore.rediff.com/h300-w300/thumb/53615D675B5B615F706460626D72/a0c46wviyw5yv2zj.D.98000.Elephant-owner-in-Madurai-suffers-due-to-lockdown.mp4-0011.png\" class=\"img vdplayicon\"><img alt=\"Elephant owner in Madurai suffers due to lockdown\" src=\"//imworld.rediff.com/worldrediff/pix/blank.gif\" /></a></h5><h2 class=\"hdtitle\"><a href=\"https://ishare.rediff.com/video/others/elephant-owner-in-madurai-suffers-due-to-lockdown/11120582\" onclick=\"trackURL(\\'https://track.rediff.com/click?url=___https://ishare.rediff.com/video/others/elephant-owner-in-madurai-suffers-due-to-lockdown/11120582___&position=4_3_T&label=videos&c_type=ishare&c_id=11120582&property=hp_in_pc\\');return false;\">Elephant owner in Madurai suffers due to lockdown</a></h2>\\n\\t\\t\\t</div>\\t\\t\\t\\t\\t\\t\\t\\t\\t\\t\\t\\t\\t\\t\\t\\t\\t\\t\\t<div class=\"nbox\" data-boxno=\"4_4\" data-track=\"label=edit_getahead&c_type=edit_getahead&news=https%3A%2F%2Fwww.rediff.com%2Fgetahead%2Freport%2Fhot-yogis-can-you-bend-like-this-couple%2F20200730.htm\">\\n\\t\\t\\t\\t<p class=\"more\"><a \\n\\t\\t\\t\\tonclick=\"trackURL(\\'https://track.rediff.com/click?url=___https://www.rediff.com/getahead___&position=4_4_L&label=edit_getahead&c_type=edit_getahead&property=hp_in_pc\\');return false;\" class=\"backgetahead\" href=\"https://www.rediff.com/getahead\">get ahead</a></p>\\n\\t\\t\\t\\t<h5><a onclick=\"trackURL(\\'https://track.rediff.com/click?url=___https%3A%2F%2Fwww.rediff.com%2Fgetahead%2Freport%2Fhot-yogis-can-you-bend-like-this-couple%2F20200730.htm___&position=4_4_I&label=edit_getahead&c_type=edit_getahead&property=hp_in_pc\\');return false;\" data-relsrc=\"//im.rediff.com/210-170/getahead/2020/jul/29aashka-brent-lead1.jpg\" class=\"img\" href=\"https://www.rediff.com/getahead/report/hot-yogis-can-you-bend-like-this-couple/20200730.htm\"><img alt=\"HOT yogis! Can you bend like this couple?\" src=\"//imworld.rediff.com/worldrediff/pix/blank.gif\" /></a></h5>\\t\\t\\t\\t<h2 class=\"hdtitle\"><a onclick=\"trackURL(\\'https://track.rediff.com/click?url=___https%3A%2F%2Fwww.rediff.com%2Fgetahead%2Freport%2Fhot-yogis-can-you-bend-like-this-couple%2F20200730.htm___&position=4_4_T&label=edit_getahead&c_type=edit_getahead&property=hp_in_pc\\');return false;\"  href=\"https://www.rediff.com/getahead/report/hot-yogis-can-you-bend-like-this-couple/20200730.htm\">HOT yogis! Can you bend like this couple?</a></h2>\\n\\t\\t\\t</div>\\t\\t\\t\\t\\t\\t\\t\\t\\t\\t\\t\\t\\t\\t\\t\\t\\t<div class=\"nbox\" data-boxno=\"4_5\" data-track=\"label=edit_cricket&c_type=edit_cricket&news=https%3A%2F%2Fwww.rediff.com%2Fcricket%2Freport%2Fflood-relief-in-assam-bihar-kohli-anushka-step-up%2F20200730.htm\">\\n\\t\\t\\t\\t<p class=\"more\"><a \\n\\t\\t\\t\\tonclick=\"trackURL(\\'https://track.rediff.com/click?url=___https://www.rediff.com/cricket___&position=4_5_L&label=edit_cricket&c_type=edit_cricket&property=hp_in_pc\\');return false;\" class=\"backcricket\" href=\"https://www.rediff.com/cricket\">cricket</a></p>\\n\\t\\t\\t\\t<h5><a onclick=\"trackURL(\\'https://track.rediff.com/click?url=___https%3A%2F%2Fwww.rediff.com%2Fcricket%2Freport%2Fflood-relief-in-assam-bihar-kohli-anushka-step-up%2F20200730.htm___&position=4_5_I&label=edit_cricket&c_type=edit_cricket&property=hp_in_pc\\');return false;\" data-relsrc=\"https://im.rediff.com/210-170/cricket/2020/jun/23kohli-lead.jpg\" class=\"img\" href=\"https://www.rediff.com/cricket/report/flood-relief-in-assam-bihar-kohli-anushka-step-up/20200730.htm\"><img alt=\"Flood relief in Assam, Bihar: Kohli-Anushka step up\" src=\"//imworld.rediff.com/worldrediff/pix/blank.gif\" /></a></h5>\\t\\t\\t\\t<h2 class=\"hdtitle\"><a onclick=\"trackURL(\\'https://track.rediff.com/click?url=___https%3A%2F%2Fwww.rediff.com%2Fcricket%2Freport%2Fflood-relief-in-assam-bihar-kohli-anushka-step-up%2F20200730.htm___&position=4_5_T&label=edit_cricket&c_type=edit_cricket&property=hp_in_pc\\');return false;\"  href=\"https://www.rediff.com/cricket/report/flood-relief-in-assam-bihar-kohli-anushka-step-up/20200730.htm\">Flood relief in Assam, Bihar: Kohli-Anushka step up</a></h2>\\n\\t\\t\\t</div>\\t\\t\\t\\t\\t\\t\\t<i class=\"clear\"></i>\\n\\t\\t\\t\\t\\t\\t\\t\\t\\t\\t\\t\\t\\t\\t\\t\\t\\t\\t\\t\\t\\t\\t\\t\\t\\t\\t<div class=\"nbox\" data-boxno=\"5_1\" data-track=\"label=edit_news&c_type=edit_news&news=https%3A%2F%2Fwww.rediff.com%2Fnews%2Freport%2Futtams-take-rafales-are-good-but-what-about-covid%2F20200730.htm\">\\n\\t\\t\\t\\t\\t<p class=\"more\"><a onclick=\"trackURL(\\'https://track.rediff.com/click?url=___https://www.rediff.com/news___&position=5_1_L&label=edit_news&c_type=edit_news&property=hp_in_pc\\');return false;\" class=\"backnews\" href=\"https://www.rediff.com/news\">news</a></p>\\n\\t\\t\\t\\t\\t<h5><a onclick=\"trackURL(\\'https://track.rediff.com/click?url=___https%3A%2F%2Fwww.rediff.com%2Fnews%2Freport%2Futtams-take-rafales-are-good-but-what-about-covid%2F20200730.htm___&position=5_1_I&label=edit_news&c_type=edit_news&property=hp_in_pc\\');return false;\" data-relsrc=\"https://im.rediff.com/210-170//news/2020/jul/rafale-o.jpg\" class=\"img\" href=\"https://www.rediff.com/news/report/uttams-take-rafales-are-good-but-what-about-covid/20200730.htm\"><img alt=\"Uttam\\'s Take: Rafales are good, but what about COVID?\" src=\"//imworld.rediff.com/worldrediff/pix/blank.gif\" /></a></h5>\\t\\t\\t\\t\\t<h2 class=\"hdtitle\"><a onclick=\"trackURL(\\'https://track.rediff.com/click?url=___https%3A%2F%2Fwww.rediff.com%2Fnews%2Freport%2Futtams-take-rafales-are-good-but-what-about-covid%2F20200730.htm___&position=5_1_T&label=edit_news&c_type=edit_news&property=hp_in_pc\\');return false;\"  href=\"https://www.rediff.com/news/report/uttams-take-rafales-are-good-but-what-about-covid/20200730.htm\">Uttam\\'s Take: Rafales are good, but what about COVID?</a></h2>\\n\\t\\t\\t\\t</div>\\t\\t\\t\\t\\t\\t\\t\\t\\t\\t\\t\\t\\t\\t\\t\\t\\t\\t\\t\\t\\t\\t\\t<div class=\"nbox\" data-boxno=\"5_2\" data-track=\"label=edit_movies&c_type=edit_movies&news=https%3A%2F%2Fwww.rediff.com%2Fmovies%2Freport%2Fwatch-bollywood-dances-at-home%2F20200728.htm\">\\n\\t\\t\\t\\t\\t<p class=\"more\"><a onclick=\"trackURL(\\'https://track.rediff.com/click?url=___https://www.rediff.com/movies___&position=5_2_L&label=edit_movies&c_type=edit_movies&property=hp_in_pc\\');return false;\" class=\"backmovies\" href=\"https://www.rediff.com/movies\">movies</a></p>\\n\\t\\t\\t\\t\\t<h5><a onclick=\"trackURL(\\'https://track.rediff.com/click?url=___https%3A%2F%2Fwww.rediff.com%2Fmovies%2Freport%2Fwatch-bollywood-dances-at-home%2F20200728.htm___&position=5_2_I&label=edit_movies&c_type=edit_movies&property=hp_in_pc\\');return false;\" data-relsrc=\"//im.rediff.com/210-170/movies/2020/jul/27adah-lead1.jpg\" class=\"img\" href=\"https://www.rediff.com/movies/report/watch-bollywood-dances-at-home/20200728.htm\"><img alt=\"WATCH: Bollywood dances at home!\" src=\"//imworld.rediff.com/worldrediff/pix/blank.gif\" /></a></h5>\\t\\t\\t\\t\\t<h2 class=\"hdtitle\"><a onclick=\"trackURL(\\'https://track.rediff.com/click?url=___https%3A%2F%2Fwww.rediff.com%2Fmovies%2Freport%2Fwatch-bollywood-dances-at-home%2F20200728.htm___&position=5_2_T&label=edit_movies&c_type=edit_movies&property=hp_in_pc\\');return false;\"  href=\"https://www.rediff.com/movies/report/watch-bollywood-dances-at-home/20200728.htm\">WATCH: Bollywood dances at home!</a></h2>\\n\\t\\t\\t\\t</div>\\t\\t\\t\\t\\t\\t\\t\\t\\t\\t\\t\\t\\t\\t\\t\\t\\t\\t\\t\\t\\t\\t\\t<div class=\"nbox\" data-boxno=\"5_3\" data-track=\"label=edit_sports&c_type=edit_sports&news=https%3A%2F%2Fwww.rediff.com%2Fsports%2Freport%2Funder-17-football-captain-amarjit-singh-finds-peace-on-the-fields%2F20200729.htm\">\\n\\t\\t\\t\\t\\t<p class=\"more\"><a onclick=\"trackURL(\\'https://track.rediff.com/click?url=___https://www.rediff.com/sports___&position=5_3_L&label=edit_sports&c_type=edit_sports&property=hp_in_pc\\');return false;\" class=\"backsports\" href=\"https://www.rediff.com/sports\">sports</a></p>\\n\\t\\t\\t\\t\\t<h5><a onclick=\"trackURL(\\'https://track.rediff.com/click?url=___https%3A%2F%2Fwww.rediff.com%2Fsports%2Freport%2Funder-17-football-captain-amarjit-singh-finds-peace-on-the-fields%2F20200729.htm___&position=5_3_I&label=edit_sports&c_type=edit_sports&property=hp_in_pc\\');return false;\" data-relsrc=\"//im.rediff.com/210-170/sports/2020/jul/29amarjit1.jpg\" class=\"img\" href=\"https://www.rediff.com/sports/report/under-17-football-captain-amarjit-singh-finds-peace-on-the-fields/20200729.htm\"><img alt=\"Under-17 football captain \\'finds peace on the fields\\'\" src=\"//imworld.rediff.com/worldrediff/pix/blank.gif\" /></a></h5>\\t\\t\\t\\t\\t<h2 class=\"hdtitle\"><a onclick=\"trackURL(\\'https://track.rediff.com/click?url=___https%3A%2F%2Fwww.rediff.com%2Fsports%2Freport%2Funder-17-football-captain-amarjit-singh-finds-peace-on-the-fields%2F20200729.htm___&position=5_3_T&label=edit_sports&c_type=edit_sports&property=hp_in_pc\\');return false;\"  href=\"https://www.rediff.com/sports/report/under-17-football-captain-amarjit-singh-finds-peace-on-the-fields/20200729.htm\">Under-17 football captain \\'finds peace on the fields\\'</a></h2>\\n\\t\\t\\t\\t</div>\\t\\t\\t\\t\\t\\t\\t\\t\\t\\t\\t\\t\\t\\t\\t\\t\\t\\t\\t\\t\\t\\t\\t<div class=\"nbox\" data-boxno=\"5_4\" data-track=\"label=edit_getahead&c_type=edit_getahead&news=https%3A%2F%2Fwww.rediff.com%2Fgetahead%2Freport%2Fpix-how-celebs-keep-their-hair-in-place%2F20200728.htm\">\\n\\t\\t\\t\\t\\t<p class=\"more\"><a onclick=\"trackURL(\\'https://track.rediff.com/click?url=___https://www.rediff.com/getahead___&position=5_4_L&label=edit_getahead&c_type=edit_getahead&property=hp_in_pc\\');return false;\" class=\"backgetahead\" href=\"https://www.rediff.com/getahead\">get ahead</a></p>\\n\\t\\t\\t\\t\\t<h5><a onclick=\"trackURL(\\'https://track.rediff.com/click?url=___https%3A%2F%2Fwww.rediff.com%2Fgetahead%2Freport%2Fpix-how-celebs-keep-their-hair-in-place%2F20200728.htm___&position=5_4_I&label=edit_getahead&c_type=edit_getahead&property=hp_in_pc\\');return false;\" data-relsrc=\"//im.rediff.com/210-170/getahead/2020/jul/14hairstyle8.jpg\" class=\"img\" href=\"https://www.rediff.com/getahead/report/pix-how-celebs-keep-their-hair-in-place/20200728.htm\"><img alt=\"PIX: How celebs keep their hair in place\" src=\"//imworld.rediff.com/worldrediff/pix/blank.gif\" /></a></h5>\\t\\t\\t\\t\\t<h2 class=\"hdtitle\"><a onclick=\"trackURL(\\'https://track.rediff.com/click?url=___https%3A%2F%2Fwww.rediff.com%2Fgetahead%2Freport%2Fpix-how-celebs-keep-their-hair-in-place%2F20200728.htm___&position=5_4_T&label=edit_getahead&c_type=edit_getahead&property=hp_in_pc\\');return false;\"  href=\"https://www.rediff.com/getahead/report/pix-how-celebs-keep-their-hair-in-place/20200728.htm\">PIX: How celebs keep their hair in place</a></h2>\\n\\t\\t\\t\\t</div>\\t\\t\\t\\t\\t\\t\\t\\t\\t\\t\\t\\t\\t\\t\\t\\t\\t\\t\\t\\t\\t\\t\\t<div class=\"nbox\" data-boxno=\"5_5\" data-track=\"label=edit_business&c_type=edit_business&news=https%3A%2F%2Fwww.rediff.com%2Fbusiness%2Fcolumn%2Fhow-did-the-twitter-hack-happen%2F20200731.htm\">\\n\\t\\t\\t\\t\\t<p class=\"more\"><a onclick=\"trackURL(\\'https://track.rediff.com/click?url=___https://www.rediff.com/business___&position=5_5_L&label=edit_business&c_type=edit_business&property=hp_in_pc\\');return false;\" class=\"backbusiness\" href=\"https://www.rediff.com/business\">business</a></p>\\n\\t\\t\\t\\t\\t<h5><a onclick=\"trackURL(\\'https://track.rediff.com/click?url=___https%3A%2F%2Fwww.rediff.com%2Fbusiness%2Fcolumn%2Fhow-did-the-twitter-hack-happen%2F20200731.htm___&position=5_5_I&label=edit_business&c_type=edit_business&property=hp_in_pc\\');return false;\" data-relsrc=\"//im.rediff.com/210-170/news/2020/jul/hack-o.jpg\" class=\"img\" href=\"https://www.rediff.com/business/column/how-did-the-twitter-hack-happen/20200731.htm\"><img alt=\"How did the Twitter hack happen?\" src=\"//imworld.rediff.com/worldrediff/pix/blank.gif\" /></a></h5>\\t\\t\\t\\t\\t<h2 class=\"hdtitle\"><a onclick=\"trackURL(\\'https://track.rediff.com/click?url=___https%3A%2F%2Fwww.rediff.com%2Fbusiness%2Fcolumn%2Fhow-did-the-twitter-hack-happen%2F20200731.htm___&position=5_5_T&label=edit_business&c_type=edit_business&property=hp_in_pc\\');return false;\"  href=\"https://www.rediff.com/business/column/how-did-the-twitter-hack-happen/20200731.htm\">How did the Twitter hack happen?</a></h2>\\n\\t\\t\\t\\t</div>\\t\\t\\t\\t\\t\\t\\t\\t\\t\\t<i class=\"clear\"></i>\\n\\t\\t\\t\\t\\t\\n\\t\\t\\t\\t\\t\\t\\t\\t\\t\\t<div class=\"secstorybox standoffinladakh\">\\n\\t\\t\\t\\t<h3>Standoff in Ladakh</h3><i class=\"clear\"></i>\\t\\t\\t\\t\\t\\t\\t\\t\\t\\t\\t\\t\\t\\t<h2 class=\"news\" data-boxno=\"6_1-2_1\" data-track=\"label=edit_standoffinladakh&c_type=edit_news&news=https%3A%2F%2Fwww.rediff.com%2Fnews%2Freport%2Faustralian-chinese-envoys-to-india-spar-over-scs%2F20200731.htm\"><a href=\"https://www.rediff.com/news/report/australian-chinese-envoys-to-india-spar-over-scs/20200731.htm\" onclick=\"trackURL(\\'https://track.rediff.com/click?url=___https%3A%2F%2Fwww.rediff.com%2Fnews%2Freport%2Faustralian-chinese-envoys-to-india-spar-over-scs%2F20200731.htm___&position=6_1-2_1&label=edit_standoffinladakh&c_type=edit_news&property=hp_in_pc\\');return false;\">Australian, Chinese envoys to India spar over SCS</a></h2>\\n\\t\\t\\t\\t\\t\\t\\t\\t\\t\\t\\t\\t\\t\\t<h2 class=\"news\" data-boxno=\"6_1-2_2\" data-track=\"label=edit_standoffinladakh&c_type=edit_news&news=https%3A%2F%2Fwww.rediff.com%2Fnews%2Freport%2Fchinas-actions-in-ladakh-indicate-its-intentions-us%2F20200731.htm\"><a href=\"https://www.rediff.com/news/report/chinas-actions-in-ladakh-indicate-its-intentions-us/20200731.htm\" onclick=\"trackURL(\\'https://track.rediff.com/click?url=___https%3A%2F%2Fwww.rediff.com%2Fnews%2Freport%2Fchinas-actions-in-ladakh-indicate-its-intentions-us%2F20200731.htm___&position=6_1-2_2&label=edit_standoffinladakh&c_type=edit_news&property=hp_in_pc\\');return false;\">China\\'s actions in Ladakh indicate its intentions: US</a></h2>\\n\\t\\t\\t\\t\\t\\t\\t\\t\\t\\t\\t\\t\\t\\t<h2 class=\"news\" data-boxno=\"6_1-2_3\" data-track=\"label=edit_standoffinladakh&c_type=edit_news&news=https%3A%2F%2Fwww.rediff.com%2Fnews%2Fcolumn%2Fhow-can-we-take-on-chinese-with-our-defence-budget%2F20200728.htm\"><a href=\"https://www.rediff.com/news/column/how-can-we-take-on-chinese-with-our-defence-budget/20200728.htm\" onclick=\"trackURL(\\'https://track.rediff.com/click?url=___https%3A%2F%2Fwww.rediff.com%2Fnews%2Fcolumn%2Fhow-can-we-take-on-chinese-with-our-defence-budget%2F20200728.htm___&position=6_1-2_3&label=edit_standoffinladakh&c_type=edit_news&property=hp_in_pc\\');return false;\">How can we take on Chinese with our defence budget?</a></h2>\\n\\t\\t\\t\\t\\t\\t\\t\\t\\t\\t\\t\\t\\t\\t<h2 class=\"news\" data-boxno=\"6_1-2_4\" data-track=\"label=edit_standoffinladakh&c_type=edit_news&news=https%3A%2F%2Fwww.rediff.com%2Fnews%2Freport%2Findias-big-edge-over-china-35000-troops-battle-ready-in-ladakh%2F20200730.htm\"><a href=\"https://www.rediff.com/news/report/indias-big-edge-over-china-35000-troops-battle-ready-in-ladakh/20200730.htm\" onclick=\"trackURL(\\'https://track.rediff.com/click?url=___https%3A%2F%2Fwww.rediff.com%2Fnews%2Freport%2Findias-big-edge-over-china-35000-troops-battle-ready-in-ladakh%2F20200730.htm___&position=6_1-2_4&label=edit_standoffinladakh&c_type=edit_news&property=hp_in_pc\\');return false;\">India\\'s edge over China: 35,000 troops battle ready</a></h2>\\n\\t\\t\\t\\t\\t\\t\\t\\t\\t\\t\\t\\t\\t\\t<h2 class=\"news\" data-boxno=\"6_1-2_5\" data-track=\"label=edit_standoffinladakh&c_type=edit_news&news=https%3A%2F%2Fwww.rediff.com%2Fnews%2Freport%2Fdisengagement-process-not-yet-complete-in-ladakh-mea%2F20200730.htm\"><a href=\"https://www.rediff.com/news/report/disengagement-process-not-yet-complete-in-ladakh-mea/20200730.htm\" onclick=\"trackURL(\\'https://track.rediff.com/click?url=___https%3A%2F%2Fwww.rediff.com%2Fnews%2Freport%2Fdisengagement-process-not-yet-complete-in-ladakh-mea%2F20200730.htm___&position=6_1-2_5&label=edit_standoffinladakh&c_type=edit_news&property=hp_in_pc\\');return false;\">Disengagement process not yet complete in Ladakh: MEA</a></h2>\\n\\t\\t\\t\\t\\t\\t\\t\\t\\t\\t\\t\\t<p class=\"alignR\"><a href=\"https://www.rediff.com/news/standoff-in-ladakh\" class=\"morestory\" onclick=\"trackURL(\\'https://track.rediff.com/click?url=___https%3A%2F%2Fwww.rediff.com%2Fnews%2Fstandoff-in-ladakh___&position=6_1-2_M&label=edit_standoffinladakh&c_type=edit_standoffinladakh&property=hp_in_pc\\');return false;\">More Standoff in Ladakh</a></p>\\n\\t\\t\\t\\t\\t\\t\\t\\t\\t\\t\\t</div>\\n\\t\\t\\t\\t\\t\\t\\t\\t\\t\\t\\t\\t\\t\\t\\t\\t\\t\\t\\t<div class=\"nbox\" data-boxno=\"6_3\" data-track=\"label=edit_news&c_type=edit_news&news=https%3A%2F%2Fwww.rediff.com%2Fnews%2Fspecial%2Fhow-the-army-taught-the-chinese-a-lesson%2F20200728.htm\">\\n\\t\\t\\t\\t\\t<p class=\"more\"><a class=\"backnews\" href=\"https://www.rediff.com/news\" onclick=\"trackURL(\\'https://track.rediff.com/click?url=___https://www.rediff.com/news___&position=6_3_L&label=edit_news&c_type=edit_news&property=hp_in_pc\\');return false;\">news</a></p>\\n\\t\\t\\t\\t\\t<h5><a data-relsrc=\"//im.rediff.com/210-170/news/2020/jul/298galwan-valley.jpg\" class=\"img\" href=\"https://www.rediff.com/news/special/how-the-army-taught-the-chinese-a-lesson/20200728.htm\" onclick=\"trackURL(\\'https://track.rediff.com/click?url=___https%3A%2F%2Fwww.rediff.com%2Fnews%2Fspecial%2Fhow-the-army-taught-the-chinese-a-lesson%2F20200728.htm___&position=6_3_I&label=edit_news&c_type=edit_news&property=hp_in_pc\\');return false;\"><img alt=\"How the army taught the Chinese a lesson\" src=\"//imworld.rediff.com/worldrediff/pix/blank.gif\" /></a></h5>\\t\\t\\t\\t\\t<h2 class=\"hdtitle\"><a href=\"https://www.rediff.com/news/special/how-the-army-taught-the-chinese-a-lesson/20200728.htm\" onclick=\"trackURL(\\'https://track.rediff.com/click?url=___https%3A%2F%2Fwww.rediff.com%2Fnews%2Fspecial%2Fhow-the-army-taught-the-chinese-a-lesson%2F20200728.htm___&position=6_3_T&label=edit_news&c_type=edit_news&property=hp_in_pc\\');return false;\">How the army taught the Chinese a lesson</a></h2>\\n\\t\\t\\t\\t</div>\\t\\t\\t\\t\\t\\t\\t\\t\\t\\t\\t\\t\\t\\t\\t\\t\\t\\t\\t\\t\\t\\t\\t<div class=\"nbox\" data-boxno=\"6_4\" data-track=\"label=edit_news&c_type=edit_news&news=https%3A%2F%2Fwww.rediff.com%2Fnews%2Fcolumn%2Fladakh-standoff-shyam-saran-how-india-can-counter-china%2F20200728.htm\">\\n\\t\\t\\t\\t\\t<p class=\"more\"><a class=\"backnews\" href=\"https://www.rediff.com/news\" onclick=\"trackURL(\\'https://track.rediff.com/click?url=___https://www.rediff.com/news___&position=6_4_L&label=edit_news&c_type=edit_news&property=hp_in_pc\\');return false;\">news</a></p>\\n\\t\\t\\t\\t\\t<h5><a data-relsrc=\"https://im.rediff.com/210-170/news/2020/jul/28narendra-modi.jpg\" class=\"img\" href=\"https://www.rediff.com/news/column/ladakh-standoff-shyam-saran-how-india-can-counter-china/20200728.htm\" onclick=\"trackURL(\\'https://track.rediff.com/click?url=___https%3A%2F%2Fwww.rediff.com%2Fnews%2Fcolumn%2Fladakh-standoff-shyam-saran-how-india-can-counter-china%2F20200728.htm___&position=6_4_I&label=edit_news&c_type=edit_news&property=hp_in_pc\\');return false;\"><img alt=\"How India can counter China\" src=\"//imworld.rediff.com/worldrediff/pix/blank.gif\" /></a></h5>\\t\\t\\t\\t\\t<h2 class=\"hdtitle\"><a href=\"https://www.rediff.com/news/column/ladakh-standoff-shyam-saran-how-india-can-counter-china/20200728.htm\" onclick=\"trackURL(\\'https://track.rediff.com/click?url=___https%3A%2F%2Fwww.rediff.com%2Fnews%2Fcolumn%2Fladakh-standoff-shyam-saran-how-india-can-counter-china%2F20200728.htm___&position=6_4_T&label=edit_news&c_type=edit_news&property=hp_in_pc\\');return false;\">How India can counter China</a></h2>\\n\\t\\t\\t\\t</div>\\t\\t\\t\\t\\t\\t\\t\\t\\t\\t\\t\\t\\t\\t\\t\\t\\t\\t\\t\\t\\t\\t\\t<div class=\"nbox\" data-boxno=\"6_5\" data-track=\"label=edit_news&c_type=edit_news&news=https%3A%2F%2Fwww.rediff.com%2Fnews%2Fcolumn%2Fmodi-does-not-want-war-with-china%2F20200727.htm\">\\n\\t\\t\\t\\t\\t<p class=\"more\"><a class=\"backnews\" href=\"https://www.rediff.com/news\" onclick=\"trackURL(\\'https://track.rediff.com/click?url=___https://www.rediff.com/news___&position=6_5_L&label=edit_news&c_type=edit_news&property=hp_in_pc\\');return false;\">news</a></p>\\n\\t\\t\\t\\t\\t<h5><a data-relsrc=\"https://im.rediff.com/210-170/news/2020/jun/10ladakh-standoff-02.jpg\" class=\"img\" href=\"https://www.rediff.com/news/column/modi-does-not-want-war-with-china/20200727.htm\" onclick=\"trackURL(\\'https://track.rediff.com/click?url=___https%3A%2F%2Fwww.rediff.com%2Fnews%2Fcolumn%2Fmodi-does-not-want-war-with-china%2F20200727.htm___&position=6_5_I&label=edit_news&c_type=edit_news&property=hp_in_pc\\');return false;\"><img alt=\"Modi does not want war with China\" src=\"//imworld.rediff.com/worldrediff/pix/blank.gif\" /></a></h5>\\t\\t\\t\\t\\t<h2 class=\"hdtitle\"><a href=\"https://www.rediff.com/news/column/modi-does-not-want-war-with-china/20200727.htm\" onclick=\"trackURL(\\'https://track.rediff.com/click?url=___https%3A%2F%2Fwww.rediff.com%2Fnews%2Fcolumn%2Fmodi-does-not-want-war-with-china%2F20200727.htm___&position=6_5_T&label=edit_news&c_type=edit_news&property=hp_in_pc\\');return false;\">Modi does not want war with China</a></h2>\\n\\t\\t\\t\\t</div>\\t\\t\\t\\t\\t\\t\\t\\t\\t\\t<i class=\"clear\"></i>\\n\\t\\t\\t\\t\\t\\t\\t\\n\\t\\t\\t\\t\\t\\t\\t\\t\\t\\t\\t\\t\\t\\t\\t\\t<div class=\"secstorybox news\">\\n\\t\\t\\t\\t<h3>News</h3><i class=\"clear\"></i>\\t\\t\\t\\t\\t\\t\\t\\t\\t\\t\\t\\t\\t\\t<h2 class=\"news\" data-boxno=\"7_1-2_1\" data-track=\"label=edit_news&c_type=edit_news&news=https%3A%2F%2Fwww.rediff.com%2Fnews%2Freport%2Fljp-writes-to-ec-seeks-to-defer-bihar-elections%2F20200731.htm\"><a href=\"https://www.rediff.com/news/report/ljp-writes-to-ec-seeks-to-defer-bihar-elections/20200731.htm\" onclick=\"trackURL(\\'https://track.rediff.com/click?url=___https%3A%2F%2Fwww.rediff.com%2Fnews%2Freport%2Fljp-writes-to-ec-seeks-to-defer-bihar-elections%2F20200731.htm___&position=7_1-2_1&label=edit_news&c_type=edit_news&property=hp_in_pc\\');return false;\">LJP writes to EC, seeks to defer Bihar elections</a></h2>\\n\\t\\t\\t\\t\\t\\t\\t\\t\\t\\t\\t\\t\\t\\t<h2 class=\"news\" data-boxno=\"7_1-2_2\" data-track=\"label=edit_news&c_type=edit_news&news=https%3A%2F%2Fwww.rediff.com%2Fnews%2Freport%2Fraj-cong-chief-whip-moves-sc-against-hc-order-on-mlas%2F20200731.htm\"><a href=\"https://www.rediff.com/news/report/raj-cong-chief-whip-moves-sc-against-hc-order-on-mlas/20200731.htm\" onclick=\"trackURL(\\'https://track.rediff.com/click?url=___https%3A%2F%2Fwww.rediff.com%2Fnews%2Freport%2Fraj-cong-chief-whip-moves-sc-against-hc-order-on-mlas%2F20200731.htm___&position=7_1-2_2&label=edit_news&c_type=edit_news&property=hp_in_pc\\');return false;\">Raj Cong chief whip moves SC against HC order on MLAs</a></h2>\\n\\t\\t\\t\\t\\t\\t\\t\\t\\t\\t\\t\\t\\t\\t<h2 class=\"news\" data-boxno=\"7_1-2_3\" data-track=\"label=edit_news&c_type=edit_news&news=https%3A%2F%2Fwww.rediff.com%2Fnews%2Fspecial%2Fcovid-19-137-doctors-have-died-so-far%2F20200729.htm\"><a href=\"https://www.rediff.com/news/special/covid-19-137-doctors-have-died-so-far/20200729.htm\" onclick=\"trackURL(\\'https://track.rediff.com/click?url=___https%3A%2F%2Fwww.rediff.com%2Fnews%2Fspecial%2Fcovid-19-137-doctors-have-died-so-far%2F20200729.htm___&position=7_1-2_3&label=edit_news&c_type=edit_news&property=hp_in_pc\\');return false;\">COVID-19: \\'137 doctors have died so far\\'</a></h2>\\n\\t\\t\\t\\t\\t\\t\\t\\t\\t\\t\\t\\t\\t\\t<h2 class=\"news\" data-boxno=\"7_1-2_4\" data-track=\"label=edit_news&c_type=edit_news&news=https%3A%2F%2Fwww.rediff.com%2Fnews%2Freport%2Fsc-asks-govt-to-ensure-salaries-paid-to-medics-on-time%2F20200731.htm\"><a href=\"https://www.rediff.com/news/report/sc-asks-govt-to-ensure-salaries-paid-to-medics-on-time/20200731.htm\" onclick=\"trackURL(\\'https://track.rediff.com/click?url=___https%3A%2F%2Fwww.rediff.com%2Fnews%2Freport%2Fsc-asks-govt-to-ensure-salaries-paid-to-medics-on-time%2F20200731.htm___&position=7_1-2_4&label=edit_news&c_type=edit_news&property=hp_in_pc\\');return false;\">SC asks govt to ensure salaries paid to medics on time</a></h2>\\n\\t\\t\\t\\t\\t\\t\\t\\t\\t\\t\\t\\t\\t\\t<h2 class=\"live\" data-boxno=\"7_1-2_5\" data-track=\"label=edit_news&c_type=edit_news&news=https%3A%2F%2Fnews.rediff.com%2Fcommentary%2F2020%2Fjul%2F31%2Fliveupdates.htm\"><a href=\"https://news.rediff.com/commentary/2020/jul/31/liveupdates.htm\" onclick=\"trackURL(\\'https://track.rediff.com/click?url=___https%3A%2F%2Fnews.rediff.com%2Fcommentary%2F2020%2Fjul%2F31%2Fliveupdates.htm___&position=7_1-2_5&label=edit_news&c_type=edit_news&property=hp_in_pc\\');return false;\">Sonia Gandhi\\'s condition improving: Hospital</a></h2>\\n\\t\\t\\t\\t\\t\\t\\t\\t\\t\\t\\t\\t<p class=\"alignR\"><a href=\"https://www.rediff.com/news\" class=\"morestory\" onclick=\"trackURL(\\'https://track.rediff.com/click?url=___https%3A%2F%2Fwww.rediff.com%2Fnews___&position=7_1-2_M&label=edit_news&c_type=edit_news&property=hp_in_pc\\');return false;\">More News</a></p>\\n\\t\\t\\t\\t\\t\\t\\t\\t\\t\\t\\t</div>\\n\\t\\t\\t\\t\\t\\t\\t\\t\\t\\t\\t\\t\\t\\t\\t\\t\\t\\t\\t<div class=\"nbox\" data-boxno=\"7_3\" data-track=\"label=edit_news&c_type=edit_news&news=https%3A%2F%2Fwww.rediff.com%2Fnews%2Fcolumn%2Fwhy-we-need-to-unlock-intelligently%2F20200730.htm\">\\n\\t\\t\\t\\t\\t<p class=\"more\"><a class=\"backnews\" href=\"https://www.rediff.com/news\" onclick=\"trackURL(\\'https://track.rediff.com/click?url=___https://www.rediff.com/news___&position=7_3_L&label=edit_news&c_type=edit_news&property=hp_in_pc\\');return false;\">news</a></p>\\n\\t\\t\\t\\t\\t<h5><a data-relsrc=\"//im.rediff.com/210-170/news/2020/jul/30covid-lockdown2.jpg\" class=\"img\" href=\"https://www.rediff.com/news/column/why-we-need-to-unlock-intelligently/20200730.htm\" onclick=\"trackURL(\\'https://track.rediff.com/click?url=___https%3A%2F%2Fwww.rediff.com%2Fnews%2Fcolumn%2Fwhy-we-need-to-unlock-intelligently%2F20200730.htm___&position=7_3_I&label=edit_news&c_type=edit_news&property=hp_in_pc\\');return false;\"><img alt=\"Why we need to unlock \\'intelligently\\'\" src=\"//imworld.rediff.com/worldrediff/pix/blank.gif\" /></a></h5>\\t\\t\\t\\t\\t<h2 class=\"hdtitle\"><a href=\"https://www.rediff.com/news/column/why-we-need-to-unlock-intelligently/20200730.htm\" onclick=\"trackURL(\\'https://track.rediff.com/click?url=___https%3A%2F%2Fwww.rediff.com%2Fnews%2Fcolumn%2Fwhy-we-need-to-unlock-intelligently%2F20200730.htm___&position=7_3_T&label=edit_news&c_type=edit_news&property=hp_in_pc\\');return false;\">Why we need to unlock \\'intelligently\\'</a></h2>\\n\\t\\t\\t\\t</div>\\t\\t\\t\\t\\t\\t\\t\\t\\t\\t\\t\\t\\t\\t\\t\\t\\t\\t\\t\\t\\t\\t\\t<div class=\"nbox\" data-boxno=\"7_4\" data-track=\"label=edit_news&c_type=edit_news&news=https%3A%2F%2Fwww.rediff.com%2Fnews%2Freport%2Fpix-maharashtras-malls-prep-to-reopen-from-august-5%2F20200731.htm\">\\n\\t\\t\\t\\t\\t<p class=\"more\"><a class=\"backnews\" href=\"https://www.rediff.com/news\" onclick=\"trackURL(\\'https://track.rediff.com/click?url=___https://www.rediff.com/news___&position=7_4_L&label=edit_news&c_type=edit_news&property=hp_in_pc\\');return false;\">news</a></p>\\n\\t\\t\\t\\t\\t<h5><a data-relsrc=\"//im.rediff.com/210-170/news/2020/jul/30mall-reopen-preparation2.jpg\" class=\"img\" href=\"https://www.rediff.com/news/report/pix-maharashtras-malls-prep-to-reopen-from-august-5/20200731.htm\" onclick=\"trackURL(\\'https://track.rediff.com/click?url=___https%3A%2F%2Fwww.rediff.com%2Fnews%2Freport%2Fpix-maharashtras-malls-prep-to-reopen-from-august-5%2F20200731.htm___&position=7_4_I&label=edit_news&c_type=edit_news&property=hp_in_pc\\');return false;\"><img alt=\"Maharashtra\\'s malls prep to reopen from August 5\" src=\"//imworld.rediff.com/worldrediff/pix/blank.gif\" /></a></h5>\\t\\t\\t\\t\\t<h2 class=\"hdtitle\"><a href=\"https://www.rediff.com/news/report/pix-maharashtras-malls-prep-to-reopen-from-august-5/20200731.htm\" onclick=\"trackURL(\\'https://track.rediff.com/click?url=___https%3A%2F%2Fwww.rediff.com%2Fnews%2Freport%2Fpix-maharashtras-malls-prep-to-reopen-from-august-5%2F20200731.htm___&position=7_4_T&label=edit_news&c_type=edit_news&property=hp_in_pc\\');return false;\">Maharashtra\\'s malls prep to reopen from August 5</a></h2>\\n\\t\\t\\t\\t</div>\\t\\t\\t\\t\\t\\t\\t\\t\\t\\t\\t\\t\\t\\t\\t\\t\\t\\t\\t\\t\\t\\t\\t<div class=\"nbox\" data-boxno=\"7_5\" data-track=\"label=edit_news&c_type=edit_news&news=https%3A%2F%2Fwww.rediff.com%2Fnews%2Freport%2Fdoms-take-shy-of-the-tiger%2F20200729.htm\">\\n\\t\\t\\t\\t\\t<p class=\"more\"><a class=\"backnews\" href=\"https://www.rediff.com/news\" onclick=\"trackURL(\\'https://track.rediff.com/click?url=___https://www.rediff.com/news___&position=7_5_L&label=edit_news&c_type=edit_news&property=hp_in_pc\\');return false;\">news</a></p>\\n\\t\\t\\t\\t\\t<h5><a data-relsrc=\"https://im.rediff.com/210-170/news/2020/jul/29doms-take-tiger-day-tipu.jpg\" class=\"img\" href=\"https://www.rediff.com/news/report/doms-take-shy-of-the-tiger/20200729.htm\" onclick=\"trackURL(\\'https://track.rediff.com/click?url=___https%3A%2F%2Fwww.rediff.com%2Fnews%2Freport%2Fdoms-take-shy-of-the-tiger%2F20200729.htm___&position=7_5_I&label=edit_news&c_type=edit_news&property=hp_in_pc\\');return false;\"><img alt=\"Dom\\'s Take: Shy of The Tiger\" src=\"//imworld.rediff.com/worldrediff/pix/blank.gif\" /></a></h5>\\t\\t\\t\\t\\t<h2 class=\"hdtitle\"><a href=\"https://www.rediff.com/news/report/doms-take-shy-of-the-tiger/20200729.htm\" onclick=\"trackURL(\\'https://track.rediff.com/click?url=___https%3A%2F%2Fwww.rediff.com%2Fnews%2Freport%2Fdoms-take-shy-of-the-tiger%2F20200729.htm___&position=7_5_T&label=edit_news&c_type=edit_news&property=hp_in_pc\\');return false;\">Dom\\'s Take: Shy of The Tiger</a></h2>\\n\\t\\t\\t\\t</div>\\t\\t\\t\\t\\t\\t\\t\\t\\t\\t<i class=\"clear\"></i>\\n\\t\\t\\t\\t\\t\\t\\t\\n\\t\\t\\t\\t\\t\\t\\t\\t\\t\\t\\t\\t\\t\\t\\t\\t<div class=\"secstorybox movies\">\\n\\t\\t\\t\\t<h3>Movies</h3><i class=\"clear\"></i>\\t\\t\\t\\t\\t\\t\\t\\t\\t\\t\\t\\t\\t\\t<h2 class=\"movies\" data-boxno=\"8_1-2_1\" data-track=\"label=edit_movies&c_type=edit_movies&news=https%3A%2F%2Fwww.rediff.com%2Fmovies%2Freview%2Fmoothon-review%2F20200728.htm\"><a href=\"https://www.rediff.com/movies/review/moothon-review/20200728.htm\" onclick=\"trackURL(\\'https://track.rediff.com/click?url=___https%3A%2F%2Fwww.rediff.com%2Fmovies%2Freview%2Fmoothon-review%2F20200728.htm___&position=8_1-2_1&label=edit_movies&c_type=edit_movies&property=hp_in_pc\\');return false;\">Moothon review</a></h2>\\n\\t\\t\\t\\t\\t\\t\\t\\t\\t\\t\\t\\t\\t\\t<h2 class=\"movies\" data-boxno=\"8_1-2_2\" data-track=\"label=edit_movies&c_type=edit_movies&news=https%3A%2F%2Fwww.rediff.com%2Fmovies%2Freport%2Fsushant-and-death-went-hand-in-hand-till-last-film%2F20200728.htm\"><a href=\"https://www.rediff.com/movies/report/sushant-and-death-went-hand-in-hand-till-last-film/20200728.htm\" onclick=\"trackURL(\\'https://track.rediff.com/click?url=___https%3A%2F%2Fwww.rediff.com%2Fmovies%2Freport%2Fsushant-and-death-went-hand-in-hand-till-last-film%2F20200728.htm___&position=8_1-2_2&label=edit_movies&c_type=edit_movies&property=hp_in_pc\\');return false;\">\\'Sushant and Death went hand-in-hand till last film\\'</a></h2>\\n\\t\\t\\t\\t\\t\\t\\t\\t\\t\\t\\t\\t\\t\\t<h2 class=\"movies\" data-boxno=\"8_1-2_3\" data-track=\"label=edit_movies&c_type=edit_movies&news=https%3A%2F%2Fwww.rediff.com%2Fmovies%2Freport%2Fdisha-patani-gets-sun-kissed%2F20200724.htm\"><a href=\"https://www.rediff.com/movies/report/disha-patani-gets-sun-kissed/20200724.htm\" onclick=\"trackURL(\\'https://track.rediff.com/click?url=___https%3A%2F%2Fwww.rediff.com%2Fmovies%2Freport%2Fdisha-patani-gets-sun-kissed%2F20200724.htm___&position=8_1-2_3&label=edit_movies&c_type=edit_movies&property=hp_in_pc\\');return false;\">Disha Patani gets sun-kissed!</a></h2>\\n\\t\\t\\t\\t\\t\\t\\t\\t\\t\\t\\t\\t\\t\\t<h2 class=\"movies\" data-boxno=\"8_1-2_4\" data-track=\"label=edit_movies&c_type=edit_movies&news=https%3A%2F%2Fwww.rediff.com%2Fmovies%2Freport%2Fbollywoods-last-hurrah%2F20200723.htm\"><a href=\"https://www.rediff.com/movies/report/bollywoods-last-hurrah/20200723.htm\" onclick=\"trackURL(\\'https://track.rediff.com/click?url=___https%3A%2F%2Fwww.rediff.com%2Fmovies%2Freport%2Fbollywoods-last-hurrah%2F20200723.htm___&position=8_1-2_4&label=edit_movies&c_type=edit_movies&property=hp_in_pc\\');return false;\">Bollywood\\'s LAST HURRAH</a></h2>\\n\\t\\t\\t\\t\\t\\t\\t\\t\\t\\t\\t\\t\\t\\t<h2 class=\"movies\" data-boxno=\"8_1-2_5\" data-track=\"label=edit_movies&c_type=edit_movies&news=https%3A%2F%2Fwww.rediff.com%2Fmovies%2Freport%2Fthis-is-what-kareena-wants%2F20200723.htm\"><a href=\"https://www.rediff.com/movies/report/this-is-what-kareena-wants/20200723.htm\" onclick=\"trackURL(\\'https://track.rediff.com/click?url=___https%3A%2F%2Fwww.rediff.com%2Fmovies%2Freport%2Fthis-is-what-kareena-wants%2F20200723.htm___&position=8_1-2_5&label=edit_movies&c_type=edit_movies&property=hp_in_pc\\');return false;\">THIS is what Kareena wants!</a></h2>\\n\\t\\t\\t\\t\\t\\t\\t\\t\\t\\t\\t\\t<p class=\"alignR\"><a href=\"https://www.rediff.com/movies\" class=\"morestory\" onclick=\"trackURL(\\'https://track.rediff.com/click?url=___https%3A%2F%2Fwww.rediff.com%2Fmovies___&position=8_1-2_M&label=edit_movies&c_type=edit_movies&property=hp_in_pc\\');return false;\">More Movies</a></p>\\n\\t\\t\\t\\t\\t\\t\\t\\t\\t\\t\\t</div>\\n\\t\\t\\t\\t\\t\\t\\t\\t\\t\\t\\t\\t\\t\\t\\t\\t\\t\\t\\t<div class=\"nbox\" data-boxno=\"8_3\" data-track=\"label=edit_movies&c_type=edit_movies&news=https%3A%2F%2Fwww.rediff.com%2Fmovies%2Fspecial%2F10-things-bollywood-taught-swara-bhasker%2F20200728.htm\">\\n\\t\\t\\t\\t\\t<p class=\"more\"><a class=\"backmovies\" href=\"https://www.rediff.com/movies\" onclick=\"trackURL(\\'https://track.rediff.com/click?url=___https://www.rediff.com/movies___&position=8_3_L&label=edit_movies&c_type=edit_movies&property=hp_in_pc\\');return false;\">movies</a></p>\\n\\t\\t\\t\\t\\t<h5><a data-relsrc=\"//im.rediff.com/210-170/movies/2020/jul/27swara-lead4.jpg\" class=\"img\" href=\"https://www.rediff.com/movies/special/10-things-bollywood-taught-swara-bhasker/20200728.htm\" onclick=\"trackURL(\\'https://track.rediff.com/click?url=___https%3A%2F%2Fwww.rediff.com%2Fmovies%2Fspecial%2F10-things-bollywood-taught-swara-bhasker%2F20200728.htm___&position=8_3_I&label=edit_movies&c_type=edit_movies&property=hp_in_pc\\');return false;\"><img alt=\"10 Things Bollywood Taught Swara Bhasker\" src=\"//imworld.rediff.com/worldrediff/pix/blank.gif\" /></a></h5>\\t\\t\\t\\t\\t<h2 class=\"hdtitle\"><a href=\"https://www.rediff.com/movies/special/10-things-bollywood-taught-swara-bhasker/20200728.htm\" onclick=\"trackURL(\\'https://track.rediff.com/click?url=___https%3A%2F%2Fwww.rediff.com%2Fmovies%2Fspecial%2F10-things-bollywood-taught-swara-bhasker%2F20200728.htm___&position=8_3_T&label=edit_movies&c_type=edit_movies&property=hp_in_pc\\');return false;\">10 Things Bollywood Taught Swara Bhasker</a></h2>\\n\\t\\t\\t\\t</div>\\t\\t\\t\\t\\t\\t\\t\\t\\t\\t\\t\\t\\t\\t\\t\\t\\t\\t\\t\\t\\t\\t\\t<div class=\"nbox\" data-boxno=\"8_4\" data-track=\"label=edit_movies&c_type=edit_movies&news=https%3A%2F%2Fwww.rediff.com%2Fmovies%2Freport%2Fthe-amazing-life-of-kriti-sanon%2F20200727.htm\">\\n\\t\\t\\t\\t\\t<p class=\"more\"><a class=\"backmovies\" href=\"https://www.rediff.com/movies\" onclick=\"trackURL(\\'https://track.rediff.com/click?url=___https://www.rediff.com/movies___&position=8_4_L&label=edit_movies&c_type=edit_movies&property=hp_in_pc\\');return false;\">movies</a></p>\\n\\t\\t\\t\\t\\t<h5><a data-relsrc=\"//im.rediff.com/210-170/movies/2020/jul/23kriti-lead1.jpg\" class=\"img\" href=\"https://www.rediff.com/movies/report/the-amazing-life-of-kriti-sanon/20200727.htm\" onclick=\"trackURL(\\'https://track.rediff.com/click?url=___https%3A%2F%2Fwww.rediff.com%2Fmovies%2Freport%2Fthe-amazing-life-of-kriti-sanon%2F20200727.htm___&position=8_4_I&label=edit_movies&c_type=edit_movies&property=hp_in_pc\\');return false;\"><img alt=\"The AMAZING life of Kriti Sanon!\" src=\"//imworld.rediff.com/worldrediff/pix/blank.gif\" /></a></h5>\\t\\t\\t\\t\\t<h2 class=\"hdtitle\"><a href=\"https://www.rediff.com/movies/report/the-amazing-life-of-kriti-sanon/20200727.htm\" onclick=\"trackURL(\\'https://track.rediff.com/click?url=___https%3A%2F%2Fwww.rediff.com%2Fmovies%2Freport%2Fthe-amazing-life-of-kriti-sanon%2F20200727.htm___&position=8_4_T&label=edit_movies&c_type=edit_movies&property=hp_in_pc\\');return false;\">The AMAZING life of Kriti Sanon!</a></h2>\\n\\t\\t\\t\\t</div>\\t\\t\\t\\t\\t\\t\\t\\t\\t\\t\\t\\t\\t\\t\\t\\t\\t\\t\\t\\t\\t\\t\\t<div class=\"nbox\" data-boxno=\"8_5\" data-track=\"label=edit_movies&c_type=edit_movies&news=https%3A%2F%2Fwww.rediff.com%2Fmovies%2Freview%2Fa-suitable-boy-episode-1-review%2F20200727.htm\">\\n\\t\\t\\t\\t\\t<p class=\"more\"><a class=\"backmovies\" href=\"https://www.rediff.com/movies\" onclick=\"trackURL(\\'https://track.rediff.com/click?url=___https://www.rediff.com/movies___&position=8_5_L&label=edit_movies&c_type=edit_movies&property=hp_in_pc\\');return false;\">movies</a></p>\\n\\t\\t\\t\\t\\t<h5><a data-relsrc=\"https://im.rediff.com/210-170/movies/2020/jul/13bbc2.jpg\" class=\"img\" href=\"https://www.rediff.com/movies/review/a-suitable-boy-episode-1-review/20200727.htm\" onclick=\"trackURL(\\'https://track.rediff.com/click?url=___https%3A%2F%2Fwww.rediff.com%2Fmovies%2Freview%2Fa-suitable-boy-episode-1-review%2F20200727.htm___&position=8_5_I&label=edit_movies&c_type=edit_movies&property=hp_in_pc\\');return false;\"><img alt=\"A Suitable Boy, Episode 1, Review\" src=\"//imworld.rediff.com/worldrediff/pix/blank.gif\" /></a></h5>\\t\\t\\t\\t\\t<h2 class=\"hdtitle\"><a href=\"https://www.rediff.com/movies/review/a-suitable-boy-episode-1-review/20200727.htm\" onclick=\"trackURL(\\'https://track.rediff.com/click?url=___https%3A%2F%2Fwww.rediff.com%2Fmovies%2Freview%2Fa-suitable-boy-episode-1-review%2F20200727.htm___&position=8_5_T&label=edit_movies&c_type=edit_movies&property=hp_in_pc\\');return false;\">A Suitable Boy, Episode 1, Review</a></h2>\\n\\t\\t\\t\\t</div>\\t\\t\\t\\t\\t\\t\\t\\t\\t\\t<i class=\"clear\"></i>\\n\\t\\t\\t\\t\\t\\t\\t\\n\\t\\t\\t\\t\\t\\t\\t\\t\\t\\t\\t\\t\\t\\t\\t\\t<div class=\"secstorybox sports\">\\n\\t\\t\\t\\t<h3>Cricket & Sports</h3><i class=\"clear\"></i>\\t\\t\\t\\t\\t\\t\\t\\t\\t\\t\\t\\t\\t\\t<h2 class=\"sports\" data-boxno=\"9_1-2_1\" data-track=\"label=edit_cricketsports&c_type=edit_sports&news=https%3A%2F%2Fwww.rediff.com%2Fsports%2Freport%2Fbaseball-hopes-to-break-through-in-cricket-mad-india-ipl%2F20200731.htm\"><a href=\"https://www.rediff.com/sports/report/baseball-hopes-to-break-through-in-cricket-mad-india-ipl/20200731.htm\" onclick=\"trackURL(\\'https://track.rediff.com/click?url=___https%3A%2F%2Fwww.rediff.com%2Fsports%2Freport%2Fbaseball-hopes-to-break-through-in-cricket-mad-india-ipl%2F20200731.htm___&position=9_1-2_1&label=edit_cricketsports&c_type=edit_sports&property=hp_in_pc\\');return false;\">Baseball hopes to break through in cricket-mad India</a></h2>\\n\\t\\t\\t\\t\\t\\t\\t\\t\\t\\t\\t\\t\\t\\t<h2 class=\"sports\" data-boxno=\"9_1-2_2\" data-track=\"label=edit_cricketsports&c_type=edit_sports&news=https%3A%2F%2Fwww.rediff.com%2Fsports%2Freport%2Fall-hail-soccers-benjamin-button%2F20200730.htm\"><a href=\"https://www.rediff.com/sports/report/all-hail-soccers-benjamin-button/20200730.htm\" onclick=\"trackURL(\\'https://track.rediff.com/click?url=___https%3A%2F%2Fwww.rediff.com%2Fsports%2Freport%2Fall-hail-soccers-benjamin-button%2F20200730.htm___&position=9_1-2_2&label=edit_cricketsports&c_type=edit_sports&property=hp_in_pc\\');return false;\">All hail soccer\\'s Benjamin Button!</a></h2>\\n\\t\\t\\t\\t\\t\\t\\t\\t\\t\\t\\t\\t\\t\\t<h2 class=\"sports\" data-boxno=\"9_1-2_3\" data-track=\"label=edit_cricketsports&c_type=edit_sports&news=https%3A%2F%2Fwww.rediff.com%2Fsports%2Freport%2Fpics-afghan-girl-takes-up-motocross%2F20200731.htm\"><a href=\"https://www.rediff.com/sports/report/pics-afghan-girl-takes-up-motocross/20200731.htm\" onclick=\"trackURL(\\'https://track.rediff.com/click?url=___https%3A%2F%2Fwww.rediff.com%2Fsports%2Freport%2Fpics-afghan-girl-takes-up-motocross%2F20200731.htm___&position=9_1-2_3&label=edit_cricketsports&c_type=edit_sports&property=hp_in_pc\\');return false;\">PICS: Afghan girl takes up motocross</a></h2>\\n\\t\\t\\t\\t\\t\\t\\t\\t\\t\\t\\t\\t\\t\\t<h2 class=\"sports\" data-boxno=\"9_1-2_4\" data-track=\"label=edit_cricketsports&c_type=edit_sports&news=https%3A%2F%2Fwww.rediff.com%2Fsports%2Freport%2Fsehwag-deepa-malik-in-selection-panel-for-national-sports-awards%2F20200731.htm\"><a href=\"https://www.rediff.com/sports/report/sehwag-deepa-malik-in-selection-panel-for-national-sports-awards/20200731.htm\" onclick=\"trackURL(\\'https://track.rediff.com/click?url=___https%3A%2F%2Fwww.rediff.com%2Fsports%2Freport%2Fsehwag-deepa-malik-in-selection-panel-for-national-sports-awards%2F20200731.htm___&position=9_1-2_4&label=edit_cricketsports&c_type=edit_sports&property=hp_in_pc\\');return false;\">Sehwag in selection panel for National Sports Awards</a></h2>\\n\\t\\t\\t\\t\\t\\t\\t\\t\\t\\t\\t\\t\\t\\t<h2 class=\"cricket\" data-boxno=\"9_1-2_5\" data-track=\"label=edit_cricketsports&c_type=edit_cricket&news=https%3A%2F%2Fwww.rediff.com%2Fcricket%2Freport%2Firfan-pathan-set-to-play-in-lanka-premier-league%2F20200801.htm\"><a href=\"https://www.rediff.com/cricket/report/irfan-pathan-set-to-play-in-lanka-premier-league/20200801.htm\" onclick=\"trackURL(\\'https://track.rediff.com/click?url=___https%3A%2F%2Fwww.rediff.com%2Fcricket%2Freport%2Firfan-pathan-set-to-play-in-lanka-premier-league%2F20200801.htm___&position=9_1-2_5&label=edit_cricketsports&c_type=edit_cricket&property=hp_in_pc\\');return false;\">Irfan Pathan set to play in Lanka Premier League</a></h2>\\n\\t\\t\\t\\t\\t\\t\\t\\t\\t\\t\\t\\t<p class=\"alignR\"><a href=\"https://www.rediff.com/sports\" class=\"morestory\" onclick=\"trackURL(\\'https://track.rediff.com/click?url=___https%3A%2F%2Fwww.rediff.com%2Fsports___&position=9_1-2_M&label=edit_cricketsports&c_type=edit_cricketsports&property=hp_in_pc\\');return false;\">More Cricket & Sports</a></p>\\n\\t\\t\\t\\t\\t\\t\\t\\t\\t\\t\\t</div>\\n\\t\\t\\t\\t\\t\\t\\t\\t\\t\\t\\t\\t\\t\\t\\t\\t\\t\\t\\t<div class=\"nbox\" data-boxno=\"9_3\" data-track=\"label=edit_cricket&c_type=edit_cricket&news=https%3A%2F%2Fwww.rediff.com%2Fcricket%2Freport%2Fwishes-pour-in-for-new-dad-hardik-pandya%2F20200730.htm\">\\n\\t\\t\\t\\t\\t<p class=\"more\"><a class=\"backcricket\" href=\"https://www.rediff.com/cricket\" onclick=\"trackURL(\\'https://track.rediff.com/click?url=___https://www.rediff.com/cricket___&position=9_3_L&label=edit_cricket&c_type=edit_cricket&property=hp_in_pc\\');return false;\">cricket</a></p>\\n\\t\\t\\t\\t\\t<h5><a data-relsrc=\"//im.rediff.com/210-170/cricket/2020/jul/30hardik2.jpg\" class=\"img\" href=\"https://www.rediff.com/cricket/report/wishes-pour-in-for-new-dad-hardik-pandya/20200730.htm\" onclick=\"trackURL(\\'https://track.rediff.com/click?url=___https%3A%2F%2Fwww.rediff.com%2Fcricket%2Freport%2Fwishes-pour-in-for-new-dad-hardik-pandya%2F20200730.htm___&position=9_3_I&label=edit_cricket&c_type=edit_cricket&property=hp_in_pc\\');return false;\"><img alt=\"Wishes pour in for new dad Hardik Pandya\" src=\"//imworld.rediff.com/worldrediff/pix/blank.gif\" /></a></h5>\\t\\t\\t\\t\\t<h2 class=\"hdtitle\"><a href=\"https://www.rediff.com/cricket/report/wishes-pour-in-for-new-dad-hardik-pandya/20200730.htm\" onclick=\"trackURL(\\'https://track.rediff.com/click?url=___https%3A%2F%2Fwww.rediff.com%2Fcricket%2Freport%2Fwishes-pour-in-for-new-dad-hardik-pandya%2F20200730.htm___&position=9_3_T&label=edit_cricket&c_type=edit_cricket&property=hp_in_pc\\');return false;\">Wishes pour in for new dad Hardik Pandya</a></h2>\\n\\t\\t\\t\\t</div>\\t\\t\\t\\t\\t\\t\\t\\t\\t\\t\\t\\t\\t\\t\\t\\t\\t\\t\\t\\t\\t\\t\\t<div class=\"nbox\" data-boxno=\"9_4\" data-track=\"label=edit_sports&c_type=edit_sports&news=https%3A%2F%2Fwww.rediff.com%2Fsports%2Fspecial%2Fjuly-29-1980-when-india-won-olympic-gold%2F20200729.htm\">\\n\\t\\t\\t\\t\\t<p class=\"more\"><a class=\"backsports\" href=\"https://www.rediff.com/sports\" onclick=\"trackURL(\\'https://track.rediff.com/click?url=___https://www.rediff.com/sports___&position=9_4_L&label=edit_sports&c_type=edit_sports&property=hp_in_pc\\');return false;\">sports</a></p>\\n\\t\\t\\t\\t\\t<h5><a data-relsrc=\"//im.rediff.com/210-170/sports/2020/jul/28hock1.jpg\" class=\"img\" href=\"https://www.rediff.com/sports/special/july-29-1980-when-india-won-olympic-gold/20200729.htm\" onclick=\"trackURL(\\'https://track.rediff.com/click?url=___https%3A%2F%2Fwww.rediff.com%2Fsports%2Fspecial%2Fjuly-29-1980-when-india-won-olympic-gold%2F20200729.htm___&position=9_4_I&label=edit_sports&c_type=edit_sports&property=hp_in_pc\\');return false;\"><img alt=\"July 29, 1980: When India won Olympic gold\" src=\"//imworld.rediff.com/worldrediff/pix/blank.gif\" /></a></h5>\\t\\t\\t\\t\\t<h2 class=\"hdtitle\"><a href=\"https://www.rediff.com/sports/special/july-29-1980-when-india-won-olympic-gold/20200729.htm\" onclick=\"trackURL(\\'https://track.rediff.com/click?url=___https%3A%2F%2Fwww.rediff.com%2Fsports%2Fspecial%2Fjuly-29-1980-when-india-won-olympic-gold%2F20200729.htm___&position=9_4_T&label=edit_sports&c_type=edit_sports&property=hp_in_pc\\');return false;\">July 29, 1980: When India won Olympic gold</a></h2>\\n\\t\\t\\t\\t</div>\\t\\t\\t\\t\\t\\t\\t\\t\\t\\t\\t\\t\\t\\t\\t\\t\\t\\t\\t\\t\\t\\t\\t<div class=\"nbox\" data-boxno=\"9_5\" data-track=\"label=edit_cricket&c_type=edit_cricket&news=https%3A%2F%2Fwww.rediff.com%2Fcricket%2Freport%2Fhow-kohli-is-pampering-anushka%2F20200730.htm\">\\n\\t\\t\\t\\t\\t<p class=\"more\"><a class=\"backcricket\" href=\"https://www.rediff.com/cricket\" onclick=\"trackURL(\\'https://track.rediff.com/click?url=___https://www.rediff.com/cricket___&position=9_5_L&label=edit_cricket&c_type=edit_cricket&property=hp_in_pc\\');return false;\">cricket</a></p>\\n\\t\\t\\t\\t\\t<h5><a data-relsrc=\"//im.rediff.com/210-170/cricket/2020/jul/29anushka.jpg\" class=\"img\" href=\"https://www.rediff.com/cricket/report/how-kohli-is-pampering-anushka/20200730.htm\" onclick=\"trackURL(\\'https://track.rediff.com/click?url=___https%3A%2F%2Fwww.rediff.com%2Fcricket%2Freport%2Fhow-kohli-is-pampering-anushka%2F20200730.htm___&position=9_5_I&label=edit_cricket&c_type=edit_cricket&property=hp_in_pc\\');return false;\"><img alt=\"How Kohli is pampering Anushka\" src=\"//imworld.rediff.com/worldrediff/pix/blank.gif\" /></a></h5>\\t\\t\\t\\t\\t<h2 class=\"hdtitle\"><a href=\"https://www.rediff.com/cricket/report/how-kohli-is-pampering-anushka/20200730.htm\" onclick=\"trackURL(\\'https://track.rediff.com/click?url=___https%3A%2F%2Fwww.rediff.com%2Fcricket%2Freport%2Fhow-kohli-is-pampering-anushka%2F20200730.htm___&position=9_5_T&label=edit_cricket&c_type=edit_cricket&property=hp_in_pc\\');return false;\">How Kohli is pampering Anushka</a></h2>\\n\\t\\t\\t\\t</div>\\t\\t\\t\\t\\t\\t\\t\\t\\t\\t<i class=\"clear\"></i>\\n\\t\\t\\t\\t\\t\\t\\t\\n\\t\\t\\t\\t\\t\\t\\t\\t\\t\\t\\t\\t\\t\\t\\t\\t<div class=\"secstorybox getahead\">\\n\\t\\t\\t\\t<h3>Get Ahead</h3><i class=\"clear\"></i>\\t\\t\\t\\t\\t\\t\\t\\t\\t\\t\\t\\t\\t\\t<h2 class=\"getahead\" data-boxno=\"10_1-2_1\" data-track=\"label=edit_getahead&c_type=edit_getahead&news=https%3A%2F%2Fwww.rediff.com%2Fgetahead%2Freport%2F6-jobs-in-demand-in-a-post-covid-19-world%2F20200720.htm\"><a href=\"https://www.rediff.com/getahead/report/6-jobs-in-demand-in-a-post-covid-19-world/20200720.htm\" onclick=\"trackURL(\\'https://track.rediff.com/click?url=___https%3A%2F%2Fwww.rediff.com%2Fgetahead%2Freport%2F6-jobs-in-demand-in-a-post-covid-19-world%2F20200720.htm___&position=10_1-2_1&label=edit_getahead&c_type=edit_getahead&property=hp_in_pc\\');return false;\">6 jobs in demand in a post COVID-19 world</a></h2>\\n\\t\\t\\t\\t\\t\\t\\t\\t\\t\\t\\t\\t\\t\\t<h2 class=\"getahead\" data-boxno=\"10_1-2_2\" data-track=\"label=edit_getahead&c_type=edit_getahead&news=https%3A%2F%2Fwww.rediff.com%2Fgetahead%2Freport%2Fwfh-effect-gadgets-to-make-kitchen-work-easier%2F20200728.htm\"><a href=\"https://www.rediff.com/getahead/report/wfh-effect-gadgets-to-make-kitchen-work-easier/20200728.htm\" onclick=\"trackURL(\\'https://track.rediff.com/click?url=___https%3A%2F%2Fwww.rediff.com%2Fgetahead%2Freport%2Fwfh-effect-gadgets-to-make-kitchen-work-easier%2F20200728.htm___&position=10_1-2_2&label=edit_getahead&c_type=edit_getahead&property=hp_in_pc\\');return false;\">WFH Effect: Gadgets to make kitchen work easier</a></h2>\\n\\t\\t\\t\\t\\t\\t\\t\\t\\t\\t\\t\\t\\t\\t<h2 class=\"getahead\" data-boxno=\"10_1-2_3\" data-track=\"label=edit_getahead&c_type=edit_getahead&news=https%3A%2F%2Fwww.rediff.com%2Fgetahead%2Freport%2Fsee-simple-exercises-for-a-healthy-spine%2F20200717.htm\"><a href=\"https://www.rediff.com/getahead/report/see-simple-exercises-for-a-healthy-spine/20200717.htm\" onclick=\"trackURL(\\'https://track.rediff.com/click?url=___https%3A%2F%2Fwww.rediff.com%2Fgetahead%2Freport%2Fsee-simple-exercises-for-a-healthy-spine%2F20200717.htm___&position=10_1-2_3&label=edit_getahead&c_type=edit_getahead&property=hp_in_pc\\');return false;\">SEE: Simple exercises for a healthy spine</a></h2>\\n\\t\\t\\t\\t\\t\\t\\t\\t\\t\\t\\t\\t\\t\\t<h2 class=\"getahead\" data-boxno=\"10_1-2_4\" data-track=\"label=edit_getahead&c_type=edit_getahead&news=https%3A%2F%2Fwww.rediff.com%2Fgetahead%2Freport%2Fsee-travel-in-the-times-of-covid-19%2F20200727.htm\"><a href=\"https://www.rediff.com/getahead/report/see-travel-in-the-times-of-covid-19/20200727.htm\" onclick=\"trackURL(\\'https://track.rediff.com/click?url=___https%3A%2F%2Fwww.rediff.com%2Fgetahead%2Freport%2Fsee-travel-in-the-times-of-covid-19%2F20200727.htm___&position=10_1-2_4&label=edit_getahead&c_type=edit_getahead&property=hp_in_pc\\');return false;\">SEE: Travel in the times of COVID-19</a></h2>\\n\\t\\t\\t\\t\\t\\t\\t\\t\\t\\t\\t\\t\\t\\t<h2 class=\"getahead\" data-boxno=\"10_1-2_5\" data-track=\"label=edit_getahead&c_type=edit_getahead&news=https%3A%2F%2Fwww.rediff.com%2Fgetahead%2Freport%2Flike-vidyas-fashion-makeover%2F20200722.htm\"><a href=\"https://www.rediff.com/getahead/report/like-vidyas-fashion-makeover/20200722.htm\" onclick=\"trackURL(\\'https://track.rediff.com/click?url=___https%3A%2F%2Fwww.rediff.com%2Fgetahead%2Freport%2Flike-vidyas-fashion-makeover%2F20200722.htm___&position=10_1-2_5&label=edit_getahead&c_type=edit_getahead&property=hp_in_pc\\');return false;\">Like Vidya\\'s fashion makeover?</a></h2>\\n\\t\\t\\t\\t\\t\\t\\t\\t\\t\\t\\t\\t<p class=\"alignR\"><a href=\"https://www.rediff.com/getahead\" class=\"morestory\" onclick=\"trackURL(\\'https://track.rediff.com/click?url=___https%3A%2F%2Fwww.rediff.com%2Fgetahead___&position=10_1-2_M&label=edit_getahead&c_type=edit_getahead&property=hp_in_pc\\');return false;\">More Get Ahead</a></p>\\n\\t\\t\\t\\t\\t\\t\\t\\t\\t\\t\\t</div>\\n\\t\\t\\t\\t\\t\\t\\t\\t\\t\\t\\t\\t\\t\\t\\t\\t\\t\\t\\t<div class=\"nbox\" data-boxno=\"10_3\" data-track=\"label=edit_getahead&c_type=edit_getahead&news=https%3A%2F%2Fwww.rediff.com%2Fgetahead%2Freport%2Fhead-for-the-beach-in-these-covid-times%2F20200728.htm\">\\n\\t\\t\\t\\t\\t<p class=\"more\"><a class=\"backgetahead\" href=\"https://www.rediff.com/getahead\" onclick=\"trackURL(\\'https://track.rediff.com/click?url=___https://www.rediff.com/getahead___&position=10_3_L&label=edit_getahead&c_type=edit_getahead&property=hp_in_pc\\');return false;\">get ahead</a></p>\\n\\t\\t\\t\\t\\t<h5><a data-relsrc=\"//im.rediff.com/210-170/getahead/2020/jul/20covid-19-beach-02.jpg\" class=\"img\" href=\"https://www.rediff.com/getahead/report/head-for-the-beach-in-these-covid-times/20200728.htm\" onclick=\"trackURL(\\'https://track.rediff.com/click?url=___https%3A%2F%2Fwww.rediff.com%2Fgetahead%2Freport%2Fhead-for-the-beach-in-these-covid-times%2F20200728.htm___&position=10_3_I&label=edit_getahead&c_type=edit_getahead&property=hp_in_pc\\');return false;\"><img alt=\"Head for the beach in these Covid times! \" src=\"//imworld.rediff.com/worldrediff/pix/blank.gif\" /></a></h5>\\t\\t\\t\\t\\t<h2 class=\"hdtitle\"><a href=\"https://www.rediff.com/getahead/report/head-for-the-beach-in-these-covid-times/20200728.htm\" onclick=\"trackURL(\\'https://track.rediff.com/click?url=___https%3A%2F%2Fwww.rediff.com%2Fgetahead%2Freport%2Fhead-for-the-beach-in-these-covid-times%2F20200728.htm___&position=10_3_T&label=edit_getahead&c_type=edit_getahead&property=hp_in_pc\\');return false;\">Head for the beach in these Covid times! </a></h2>\\n\\t\\t\\t\\t</div>\\t\\t\\t\\t\\t\\t\\t\\t\\t\\t\\t\\t\\t\\t\\t\\t\\t\\t\\t\\t\\t\\t\\t<div class=\"nbox\" data-boxno=\"10_4\" data-track=\"label=edit_getahead&c_type=edit_getahead&news=https%3A%2F%2Fwww.rediff.com%2Fgetahead%2Freport%2Fpix-the-beautiful-women-in-fashion%2F20200725.htm\">\\n\\t\\t\\t\\t\\t<p class=\"more\"><a class=\"backgetahead\" href=\"https://www.rediff.com/getahead\" onclick=\"trackURL(\\'https://track.rediff.com/click?url=___https://www.rediff.com/getahead___&position=10_4_L&label=edit_getahead&c_type=edit_getahead&property=hp_in_pc\\');return false;\">get ahead</a></p>\\n\\t\\t\\t\\t\\t<h5><a data-relsrc=\"//im.rediff.com/210-170/getahead/2020/jul/24mag-cover-lofficiel-lead3.jpg\" class=\"img\" href=\"https://www.rediff.com/getahead/report/pix-the-beautiful-women-in-fashion/20200725.htm\" onclick=\"trackURL(\\'https://track.rediff.com/click?url=___https%3A%2F%2Fwww.rediff.com%2Fgetahead%2Freport%2Fpix-the-beautiful-women-in-fashion%2F20200725.htm___&position=10_4_I&label=edit_getahead&c_type=edit_getahead&property=hp_in_pc\\');return false;\"><img alt=\"Pix: The beautiful women in fashion\" src=\"//imworld.rediff.com/worldrediff/pix/blank.gif\" /></a></h5>\\t\\t\\t\\t\\t<h2 class=\"hdtitle\"><a href=\"https://www.rediff.com/getahead/report/pix-the-beautiful-women-in-fashion/20200725.htm\" onclick=\"trackURL(\\'https://track.rediff.com/click?url=___https%3A%2F%2Fwww.rediff.com%2Fgetahead%2Freport%2Fpix-the-beautiful-women-in-fashion%2F20200725.htm___&position=10_4_T&label=edit_getahead&c_type=edit_getahead&property=hp_in_pc\\');return false;\">Pix: The beautiful women in fashion</a></h2>\\n\\t\\t\\t\\t</div>\\t\\t\\t\\t\\t\\t\\t\\t\\t\\t\\t\\t\\t\\t\\t\\t\\t\\t\\t\\t\\t\\t\\t<div class=\"nbox\" data-boxno=\"10_5\" data-track=\"label=edit_getahead&c_type=edit_getahead&news=https%3A%2F%2Fwww.rediff.com%2Fgetahead%2Freport%2Fsee-how-to-make-churros-at-home-food%2F20200729.htm\">\\n\\t\\t\\t\\t\\t<p class=\"more\"><a class=\"backgetahead\" href=\"https://www.rediff.com/getahead\" onclick=\"trackURL(\\'https://track.rediff.com/click?url=___https://www.rediff.com/getahead___&position=10_5_L&label=edit_getahead&c_type=edit_getahead&property=hp_in_pc\\');return false;\">get ahead</a></p>\\n\\t\\t\\t\\t\\t<h5><a data-relsrc=\"//im.rediff.com/210-170/getahead/2020/jul/27dessert-recipe2.jpg\" class=\"img\" href=\"https://www.rediff.com/getahead/report/see-how-to-make-churros-at-home-food/20200729.htm\" onclick=\"trackURL(\\'https://track.rediff.com/click?url=___https%3A%2F%2Fwww.rediff.com%2Fgetahead%2Freport%2Fsee-how-to-make-churros-at-home-food%2F20200729.htm___&position=10_5_I&label=edit_getahead&c_type=edit_getahead&property=hp_in_pc\\');return false;\"><img alt=\"SEE: How to make Churros at home\" src=\"//imworld.rediff.com/worldrediff/pix/blank.gif\" /></a></h5>\\t\\t\\t\\t\\t<h2 class=\"hdtitle\"><a href=\"https://www.rediff.com/getahead/report/see-how-to-make-churros-at-home-food/20200729.htm\" onclick=\"trackURL(\\'https://track.rediff.com/click?url=___https%3A%2F%2Fwww.rediff.com%2Fgetahead%2Freport%2Fsee-how-to-make-churros-at-home-food%2F20200729.htm___&position=10_5_T&label=edit_getahead&c_type=edit_getahead&property=hp_in_pc\\');return false;\">SEE: How to make Churros at home</a></h2>\\n\\t\\t\\t\\t</div>\\t\\t\\t\\t\\t\\t\\t\\t\\t\\t<i class=\"clear\"></i>\\n\\t\\t\\t\\t\\t\\t\\t\\n\\t\\t\\t\\t\\t\\t\\t\\t\\t\\t\\t\\t\\t\\t\\t\\t<div class=\"secstorybox business\">\\n\\t\\t\\t\\t<h3>Business</h3><i class=\"clear\"></i>\\t\\t\\t\\t\\t\\t\\t\\t\\t\\t\\t\\t\\t\\t<h2 class=\"business\" data-boxno=\"11_1-2_1\" data-track=\"label=edit_business&c_type=edit_business&news=https%3A%2F%2Fwww.rediff.com%2Fbusiness%2Freport%2Fbold-reform-that-triggers-animal-spirits-needed-rajan%2F20200731.htm\"><a href=\"https://www.rediff.com/business/report/bold-reform-that-triggers-animal-spirits-needed-rajan/20200731.htm\" onclick=\"trackURL(\\'https://track.rediff.com/click?url=___https%3A%2F%2Fwww.rediff.com%2Fbusiness%2Freport%2Fbold-reform-that-triggers-animal-spirits-needed-rajan%2F20200731.htm___&position=11_1-2_1&label=edit_business&c_type=edit_business&property=hp_in_pc\\');return false;\">Bold reform that triggers animal spirits needed: Rajan</a></h2>\\n\\t\\t\\t\\t\\t\\t\\t\\t\\t\\t\\t\\t\\t\\t<h2 class=\"business\" data-boxno=\"11_1-2_2\" data-track=\"label=edit_business&c_type=edit_business&news=https%3A%2F%2Fwww.rediff.com%2Fbusiness%2Freport%2Frbi-likely-to-leave-repo-rate-unchanged-in-august%2F20200731.htm\"><a href=\"https://www.rediff.com/business/report/rbi-likely-to-leave-repo-rate-unchanged-in-august/20200731.htm\" onclick=\"trackURL(\\'https://track.rediff.com/click?url=___https%3A%2F%2Fwww.rediff.com%2Fbusiness%2Freport%2Frbi-likely-to-leave-repo-rate-unchanged-in-august%2F20200731.htm___&position=11_1-2_2&label=edit_business&c_type=edit_business&property=hp_in_pc\\');return false;\">RBI likely to leave repo rate unchanged in August</a></h2>\\n\\t\\t\\t\\t\\t\\t\\t\\t\\t\\t\\t\\t\\t\\t<h2 class=\"business\" data-boxno=\"11_1-2_3\" data-track=\"label=edit_business&c_type=edit_business&news=https%3A%2F%2Fwww.rediff.com%2Fbusiness%2Freport%2Fa-third-of-the-hotels-might-close-down-forever%2F20200731.htm\"><a href=\"https://www.rediff.com/business/report/a-third-of-the-hotels-might-close-down-forever/20200731.htm\" onclick=\"trackURL(\\'https://track.rediff.com/click?url=___https%3A%2F%2Fwww.rediff.com%2Fbusiness%2Freport%2Fa-third-of-the-hotels-might-close-down-forever%2F20200731.htm___&position=11_1-2_3&label=edit_business&c_type=edit_business&property=hp_in_pc\\');return false;\">\\'A third of the hotels might close down forever\\'</a></h2>\\n\\t\\t\\t\\t\\t\\t\\t\\t\\t\\t\\t\\t\\t\\t<h2 class=\"business\" data-boxno=\"11_1-2_4\" data-track=\"label=edit_business&c_type=edit_business&news=https%3A%2F%2Fwww.rediff.com%2Fbusiness%2Freport%2Fair-bubble-pacts-21-intl-flights-took-off-from-mumbai%2F20200731.htm\"><a href=\"https://www.rediff.com/business/report/air-bubble-pacts-21-intl-flights-took-off-from-mumbai/20200731.htm\" onclick=\"trackURL(\\'https://track.rediff.com/click?url=___https%3A%2F%2Fwww.rediff.com%2Fbusiness%2Freport%2Fair-bubble-pacts-21-intl-flights-took-off-from-mumbai%2F20200731.htm___&position=11_1-2_4&label=edit_business&c_type=edit_business&property=hp_in_pc\\');return false;\">Air bubble pacts: 21 intl flights took off from Mumbai</a></h2>\\n\\t\\t\\t\\t\\t\\t\\t\\t\\t\\t\\t\\t\\t\\t<h2 class=\"business\" data-boxno=\"11_1-2_5\" data-track=\"label=edit_business&c_type=edit_business&news=https%3A%2F%2Fwww.rediff.com%2Fbusiness%2Freport%2Fsbi-q1-profit-surges-by-81-to-rs-4189-crore%2F20200731.htm\"><a href=\"https://www.rediff.com/business/report/sbi-q1-profit-surges-by-81-to-rs-4189-crore/20200731.htm\" onclick=\"trackURL(\\'https://track.rediff.com/click?url=___https%3A%2F%2Fwww.rediff.com%2Fbusiness%2Freport%2Fsbi-q1-profit-surges-by-81-to-rs-4189-crore%2F20200731.htm___&position=11_1-2_5&label=edit_business&c_type=edit_business&property=hp_in_pc\\');return false;\">SBI Q1 profit surges by 81% to Rs 4,189 crore</a></h2>\\n\\t\\t\\t\\t\\t\\t\\t\\t\\t\\t\\t\\t<p class=\"alignR\"><a href=\"https://www.rediff.com/business\" class=\"morestory\" onclick=\"trackURL(\\'https://track.rediff.com/click?url=___https%3A%2F%2Fwww.rediff.com%2Fbusiness___&position=11_1-2_M&label=edit_business&c_type=edit_business&property=hp_in_pc\\');return false;\">More Business</a></p>\\n\\t\\t\\t\\t\\t\\t\\t\\t\\t\\t\\t</div>\\n\\t\\t\\t\\t\\t\\t\\t\\t\\t\\t\\t\\t\\t\\t\\t\\t\\t\\t\\t<div class=\"nbox\" data-boxno=\"11_3\" data-track=\"label=edit_business&c_type=edit_business&news=https%3A%2F%2Fwww.rediff.com%2Fbusiness%2Freport%2Fdespite-covid-this-fintech-offering-10-12-wage-hikes%2F20200731.htm\">\\n\\t\\t\\t\\t\\t<p class=\"more\"><a class=\"backbusiness\" href=\"https://www.rediff.com/business\" onclick=\"trackURL(\\'https://track.rediff.com/click?url=___https://www.rediff.com/business___&position=11_3_L&label=edit_business&c_type=edit_business&property=hp_in_pc\\');return false;\">business</a></p>\\n\\t\\t\\t\\t\\t<h5><a data-relsrc=\"//im.rediff.com/210-170/money/2020/jul/31salary.jpg\" class=\"img\" href=\"https://www.rediff.com/business/report/despite-covid-this-fintech-offering-10-12-wage-hikes/20200731.htm\" onclick=\"trackURL(\\'https://track.rediff.com/click?url=___https%3A%2F%2Fwww.rediff.com%2Fbusiness%2Freport%2Fdespite-covid-this-fintech-offering-10-12-wage-hikes%2F20200731.htm___&position=11_3_I&label=edit_business&c_type=edit_business&property=hp_in_pc\\');return false;\"><img alt=\"Despite COVID, this fintech offering 10-12% wage hikes\" src=\"//imworld.rediff.com/worldrediff/pix/blank.gif\" /></a></h5>\\t\\t\\t\\t\\t<h2 class=\"hdtitle\"><a href=\"https://www.rediff.com/business/report/despite-covid-this-fintech-offering-10-12-wage-hikes/20200731.htm\" onclick=\"trackURL(\\'https://track.rediff.com/click?url=___https%3A%2F%2Fwww.rediff.com%2Fbusiness%2Freport%2Fdespite-covid-this-fintech-offering-10-12-wage-hikes%2F20200731.htm___&position=11_3_T&label=edit_business&c_type=edit_business&property=hp_in_pc\\');return false;\">Despite COVID, this fintech offering 10-12% wage hikes</a></h2>\\n\\t\\t\\t\\t</div>\\t\\t\\t\\t\\t\\t\\t\\t\\t\\t\\t\\t\\t\\t\\t\\t\\t\\t\\t\\t\\t\\t\\t<div class=\"nbox\" data-boxno=\"11_4\" data-track=\"label=edit_business&c_type=edit_business&news=https%3A%2F%2Fwww.rediff.com%2Fbusiness%2Fspecial%2Fpix-how-covid-19-weakened-air-asia-india-beyond-recovery%2F20200731.htm\">\\n\\t\\t\\t\\t\\t<p class=\"more\"><a class=\"backbusiness\" href=\"https://www.rediff.com/business\" onclick=\"trackURL(\\'https://track.rediff.com/click?url=___https://www.rediff.com/business___&position=11_4_L&label=edit_business&c_type=edit_business&property=hp_in_pc\\');return false;\">business</a></p>\\n\\t\\t\\t\\t\\t<h5><a data-relsrc=\"https://im.rediff.com/210-170/money/2020/jul/29air-asia-1.jpg\" class=\"img\" href=\"https://www.rediff.com/business/special/pix-how-covid-19-weakened-air-asia-india-beyond-recovery/20200731.htm\" onclick=\"trackURL(\\'https://track.rediff.com/click?url=___https%3A%2F%2Fwww.rediff.com%2Fbusiness%2Fspecial%2Fpix-how-covid-19-weakened-air-asia-india-beyond-recovery%2F20200731.htm___&position=11_4_I&label=edit_business&c_type=edit_business&property=hp_in_pc\\');return false;\"><img alt=\"How Covid-19 weakened Air Asia India beyond recovery\" src=\"//imworld.rediff.com/worldrediff/pix/blank.gif\" /></a></h5>\\t\\t\\t\\t\\t<h2 class=\"hdtitle\"><a href=\"https://www.rediff.com/business/special/pix-how-covid-19-weakened-air-asia-india-beyond-recovery/20200731.htm\" onclick=\"trackURL(\\'https://track.rediff.com/click?url=___https%3A%2F%2Fwww.rediff.com%2Fbusiness%2Fspecial%2Fpix-how-covid-19-weakened-air-asia-india-beyond-recovery%2F20200731.htm___&position=11_4_T&label=edit_business&c_type=edit_business&property=hp_in_pc\\');return false;\">How Covid-19 weakened Air Asia India beyond recovery</a></h2>\\n\\t\\t\\t\\t</div>\\t\\t\\t\\t\\t\\t\\t\\t\\t\\t\\t\\t\\t\\t\\t\\t\\t\\t\\t\\t\\t\\t\\t<div class=\"nbox\" data-boxno=\"11_5\" data-track=\"label=edit_business&c_type=edit_business&news=https%3A%2F%2Fwww.rediff.com%2Fbusiness%2Finterview%2Fwe-will-price-covid-vaccine-below-rs-1000%2F20200729.htm\">\\n\\t\\t\\t\\t\\t<p class=\"more\"><a class=\"backbusiness\" href=\"https://www.rediff.com/business\" onclick=\"trackURL(\\'https://track.rediff.com/click?url=___https://www.rediff.com/business___&position=11_5_L&label=edit_business&c_type=edit_business&property=hp_in_pc\\');return false;\">business</a></p>\\n\\t\\t\\t\\t\\t<h5><a data-relsrc=\"//im.rediff.com/210-170/news/2020/jul/29oxford-astrazeneca-trials.jpg\" class=\"img\" href=\"https://www.rediff.com/business/interview/we-will-price-covid-vaccine-below-rs-1000/20200729.htm\" onclick=\"trackURL(\\'https://track.rediff.com/click?url=___https%3A%2F%2Fwww.rediff.com%2Fbusiness%2Finterview%2Fwe-will-price-covid-vaccine-below-rs-1000%2F20200729.htm___&position=11_5_I&label=edit_business&c_type=edit_business&property=hp_in_pc\\');return false;\"><img alt=\"\\'We will price Covid vaccine below Rs 1,000\\'\" src=\"//imworld.rediff.com/worldrediff/pix/blank.gif\" /></a></h5>\\t\\t\\t\\t\\t<h2 class=\"hdtitle\"><a href=\"https://www.rediff.com/business/interview/we-will-price-covid-vaccine-below-rs-1000/20200729.htm\" onclick=\"trackURL(\\'https://track.rediff.com/click?url=___https%3A%2F%2Fwww.rediff.com%2Fbusiness%2Finterview%2Fwe-will-price-covid-vaccine-below-rs-1000%2F20200729.htm___&position=11_5_T&label=edit_business&c_type=edit_business&property=hp_in_pc\\');return false;\">\\'We will price Covid vaccine below Rs 1,000\\'</a></h2>\\n\\t\\t\\t\\t</div>\\t\\t\\t\\t\\t\\t\\t\\t\\t\\t<i class=\"clear\"></i>\\n\\t\\t\\t\\t\\t\\t\\t\\n\\t\\t\\t\\t\\t<div id=\"world_advt_bottom\" class=\"div_advt_bottom\"><ins data-revive-zoneid=\"77\" data-revive-source=\"_blank\" data-revive-target=\"_blank\" data-revive-id=\"4b71f4079fb345c8ac958d0e9f0b56dd\" data-zonename=\"Rediff_Home_728x90_BTF_IN\"></ins></div>\\n\\t\\t\\t\\t\\t\\t\\t<i class=\"clear\"></i>\\n\\t\\t\\t\\t\\t\\t\\t\\t\\t\\t\\t\\t\\t\\t\\t<div class=\"nbox\"  data-boxno=\"12_1\" data-track=\"label=pages&c_type=pages&c_id=2283655\">\\n\\t\\t\\t\\t\\t<p class=\"more\"><a onclick=\"trackURL(\\'https://track.rediff.com/click?url=___http://pages.rediff.com___&position=12_1_L&label=pages&c_type=pages&property=hp_in_pc\\');return false;\" title=\"More on Pages\" href=\"http://pages.rediff.com\">Pages</a></p>\\n\\t\\t\\t\\t\\t<h5><a href=\"http://pages.rediff.com/krack/2283655\" onclick=\"trackURL(\\'https://track.rediff.com/click?url=___http://pages.rediff.com/krack/2283655___&position=12_1_I&label=pages&c_type=pages&c_id=2283655&property=hp_in_pc\\');return false;\" data-relsrc=\"http://socialimg.rediff.com/image.php?pageid=2283655&amp;type=pages\" class=\"img\"><img src=\"//imworld.rediff.com/worldrediff/pix/blank.gif\" alt=\"Krack\" /></a></h5>\\t\\t\\t\\t\\t<h2 class=\"hdtitle\"><a onclick=\"trackURL(\\'https://track.rediff.com/click?url=___http://pages.rediff.com/krack/2283655___&position=12_1_T&label=pages&c_type=pages&c_id=2283655&property=hp_in_pc\\');return false;\" href=\"http://pages.rediff.com/krack/2283655\">Krack : Telugu Movie Latest Photos</a></h2>\\n\\t\\t\\t\\t</div>\\t\\t\\t\\t\\t\\t\\t\\t\\t\\t\\t\\t\\t\\t\\t\\t\\t\\t<div class=\"nbox\"  data-boxno=\"12_2\" data-track=\"label=thanks-frontline-workers&c_type=zarabol&c_id=10839935\">\\n\\t\\t\\t\\t<p class=\"more\"><a onclick=\"trackURL(\\'https://track.rediff.com/click?url=___http%3A%2F%2Fzarabol.rediff.com%2F%23%21Thanks-Frontline-Workers%2F10839935___&position=12_2_L&label=thanks-frontline-workers&c_type=zarabol&property=hp_in_pc\\');return false;\" href=\"http://zarabol.rediff.com/Thanks-Frontline-Workers/10839935\">#Thanks Frontline Workers</a></p>\\n\\t\\t\\t\\t<h5><a  href=\"http://zarabol.rediff.com/Thanks-Frontline-Workers/10839935\" data-relsrc=\"http://datastore.rediff.com/h250-w250/thumb/605E6C5C6F626C606A627572/ihb52nzji2zdx29w.D.0.Thanks-Frontline-Workers.jpg\" class=\"img\" onclick=\"trackURL(\\'https://track.rediff.com/click?url=___http%3A%2F%2Fzarabol.rediff.com%2F%23%21Thanks-Frontline-Workers%2F10839935___&position=12_2_I&label=thanks-frontline-workers&c_type=zarabol&c_id=10839935&property=hp_in_pc\\');return false;\"><img src=\"//imworld.rediff.com/worldrediff/pix/blank.gif\" alt=\"Thanks Frontline Workers\"  /></a></h5><h2 class=\"hdtitle\"><a onclick=\"trackURL(\\'https://track.rediff.com/click?url=___http%3A%2F%2Fzarabol.rediff.com%2F%23%21Thanks-Frontline-Workers%2F10839935___&position=12_2_T&label=thanks-frontline-workers&c_type=zarabol&c_id=10839935&property=hp_in_pc\\');return false;\" href=\"http://zarabol.rediff.com/Thanks-Frontline-Workers/10839935\">Say Thanks to all the frontline care workers</a></h2></div>\\t\\t\\t\\t\\t\\t\\t\\t\\t\\t\\t\\t\\t\\t\\t\\t\\t\\t<div class=\"nbox\" data-boxno=\"12_3\" data-track=\"label=redifflabs&c_type=labs&news=https%3A%2F%2Fwww.rediff.com%2Fnews%2Fspecial%2Fcoronavirus-in-india-how-india-has-fared-in-its-fight-against-covid-19%2F20200428.htm\">\\n\\t\\t\\t\\t\\t<p class=\"more\"><a href=\"http://labs.rediff.com/\" onclick=\"trackURL(\\'https://track.rediff.com/click?url=___http://labs.rediff.com/___&position=12_3_L&label=redifflabs&c_type=labs&property=hp_in_pc\\');return false;\">Rediff Labs</a></p>\\n\\t\\t\\t\\t\\t<h5><a data-relsrc=\"https://im.rediff.com/240-190/news/2020/apr/10covid-lockdown57.jpg\" class=\"img\" href=\"https://www.rediff.com/news/special/coronavirus-in-india-how-india-has-fared-in-its-fight-against-covid-19/20200428.htm\" onclick=\"trackURL(\\'https://track.rediff.com/click?url=___https://www.rediff.com/news/special/coronavirus-in-india-how-india-has-fared-in-its-fight-against-covid-19/20200428.htm___&position=12_3_I&label=redifflabs&c_type=labs&property=hp_in_pc\\');return false;\"><img alt=\"How India has fared in its fight against COVID-19\" src=\"//imworld.rediff.com/worldrediff/pix/blank.gif\" /></a></h5>\\t\\t\\t\\t\\t<h2 class=\"hdtitle\"><a class=\"black\" href=\"https://www.rediff.com/news/special/coronavirus-in-india-how-india-has-fared-in-its-fight-against-covid-19/20200428.htm\" onclick=\"trackURL(\\'https://track.rediff.com/click?url=___https://www.rediff.com/news/special/coronavirus-in-india-how-india-has-fared-in-its-fight-against-covid-19/20200428.htm___&position=12_3_T&label=redifflabs&c_type=labs&property=hp_in_pc\\');return false;\">How India has fared in its fight against COVID-19</a><span class=\"ht10\"></span></h2>\\t\\t\\t\\t</div>\\n\\t\\t\\t\\t\\t\\t\\t\\t\\t\\t\\t\\t\\t\\t<div class=\"nbox\" data-boxno=\"12_4\" data-track=\"label=realtimenews&c_type=realtimenews&news=http%3A%2F%2Frealtime.rediff.com%2Fnews%2Findia%2FCoronavirus-Claims-7-More-Lives-In-Gujarat-Taking-Overall-Count-To-48%2F07a6c6e98df9fbcc\">\\n\\t\\t\\t\\t<p class=\"more\"><a href=\"https://realtime.rediff.com/topnews/india\" onclick=\"trackURL(\\'https://track.rediff.com/click?url=___https://realtime.rediff.com/topnews/india___&position=12_4_L&label=realtimenews&c_type=realtimenews&property=hp_in_pc\\');return false;\">Realtime News</a></p>\\n\\t\\t\\t\\t<h5><a data-relsrc=\"http://newsimg.rediff.com/thumbnail2/17f75db93593b42f.jpg\" class=\"img\" href=\"http://realtime.rediff.com/news/india/Coronavirus-Claims-7-More-Lives-In-Gujarat-Taking-Overall-Count-To-48/07a6c6e98df9fbcc\" onclick=\"trackURL(\\'https://track.rediff.com/click?url=___http%3A%2F%2Frealtime.rediff.com%2Fnews%2Findia%2FCoronavirus-Claims-7-More-Lives-In-Gujarat-Taking-Overall-Count-To-48%2F07a6c6e98df9fbcc___&position=12_4_I&label=realtimenews&c_type=realtimenews&property=hp_in_pc\\');return false;\"><img alt=\"Coronavirus Claims 7 More Lives In Gujarat, Taking Overall Count To 48\" src=\"//imworld.rediff.com/worldrediff/pix/blank.gif\" /></a></h5>\\t\\t\\t\\t<h2 class=\"hdtitle\"><a href=\"http://realtime.rediff.com/news/india/Coronavirus-Claims-7-More-Lives-In-Gujarat-Taking-Overall-Count-To-48/07a6c6e98df9fbcc\" onclick=\"trackURL(\\'https://track.rediff.com/click?url=___http%3A%2F%2Frealtime.rediff.com%2Fnews%2Findia%2FCoronavirus-Claims-7-More-Lives-In-Gujarat-Taking-Overall-Count-To-48%2F07a6c6e98df9fbcc___&position=12_4_T&label=realtimenews&c_type=realtimenews&property=hp_in_pc\\');return false;\">Coronavirus Claims 7 More Lives In Gujarat, Taking Overall Count To 48</a></h2>\\n\\t\\t\\t\\t</div>\\t\\t\\t\\t\\t\\t<div id=\"div_advt_x15\" class=\"nbox\"><ins data-revive-zoneid=\"83\" data-revive-source=\"_blank\" data-revive-target=\"_blank\" data-revive-id=\"4b71f4079fb345c8ac958d0e9f0b56dd\" data-zonename=\"Rediff_Home_200x200_BTF_IN\"></ins></div>\\n\\t\\t\\t<i class=\"clear\"></i>\\n\\t\\t\\t\\t\\t\\t\\t\\t\\t\\t\\t\\t\\t\\t\\t\\t\\t\\t\\t\\t\\t\\t\\t\\t\\t\\t<div id=\"trend_0\" class=\"nbox\" data-boxno=\"13_1\" data-track=\"label=shopping&c_type=shopping&c_id=22072077\">\\n\\t\\t\\t\\t\\t<p class=\"more\"><a  class=\"backshop\" href=\"http://shopping.rediff.com\" onclick=\"trackURL(\\'https://track.rediff.com/click?url=___http://shopping.rediff.com?sc_cid=inhome_trend_13_1_L_22072077___&position=13_1_L&label=Shopping&c_type=shopping&c_ic=22072077&property=hp_in_pc\\');return false;\">Shopping</a></p>\\n\\t\\t\\t\\t\\t<h5><a data-relsrc=\"//imshopping.rediff.com/imgshop/250-250/shopping/pixs/16284/s/se-face-masks-02._Anti-Pollution-Masks.jpg\" class=\"img\" href=\"http://shopping.rediff.com/product/anti-pollution-masks/22072077\" onclick=\"trackURL(\\'https://track.rediff.com/click?url=___http://shopping.rediff.com/product/anti-pollution-masks/22072077?sc_cid=inhome_trend_13_1_I_22072077___&position=13_1_I&label=shopping&c_type=shopping&c_id=22072077&property=hp_in_pc\\');return false;\"><img alt=\"Anti Pollution Masks\" src=\"//imworld.rediff.com/worldrediff/pix/blank.gif\" /></a></h5>\\n\\t\\t\\t\\t\\t<h2 class=\"hdtitle\"><a  href=\"http://shopping.rediff.com/product/anti-pollution-masks/22072077\" onclick=\"trackURL(\\'https://track.rediff.com/click?url=___http://shopping.rediff.com/product/anti-pollution-masks/22072077?sc_cid=inhome_trend_13_1_T_22072077___&position=13_1_T&label=shopping&c_type=shopping&c_id=22072077&property=hp_in_pc\\');return false;\">Anti Pollution Masks - Rs.299 onwards</a></h2>\\n\\t\\t\\t\\t</div>\\n\\t\\t\\t\\t\\t\\t\\t\\t\\t\\t\\t\\t\\t\\t\\t\\t\\t\\t\\t\\t\\t\\t\\t\\t\\t\\t\\t<div id=\"trend_1\" class=\"nbox\" data-boxno=\"13_2\" data-track=\"label=shopping&c_type=shopping&c_id=24834727\">\\n\\t\\t\\t\\t\\t<p class=\"more\"><a  class=\"backshop\" href=\"http://shopping.rediff.com\" onclick=\"trackURL(\\'https://track.rediff.com/click?url=___http://shopping.rediff.com?sc_cid=inhome_trend_13_2_L_24834727___&position=13_2_L&label=Shopping&c_type=shopping&c_ic=24834727&property=hp_in_pc\\');return false;\">Shopping</a></p>\\n\\t\\t\\t\\t\\t<h5><a data-relsrc=\"//imshopping.rediff.com/imgshop/250-250/shopping/pixs/29562/7/78619st27_5c3d6ef915b44._Date-Day.jpg\" class=\"img\" href=\"http://shopping.rediff.com/product/date-day/24834727\" onclick=\"trackURL(\\'https://track.rediff.com/click?url=___http://shopping.rediff.com/product/date-day/24834727?sc_cid=inhome_trend_13_2_I_24834727___&position=13_2_I&label=shopping&c_type=shopping&c_id=24834727&property=hp_in_pc\\');return false;\"><img alt=\"Date Day\" src=\"//imworld.rediff.com/worldrediff/pix/blank.gif\" /></a></h5>\\n\\t\\t\\t\\t\\t<h2 class=\"hdtitle\"><a  href=\"http://shopping.rediff.com/product/date-day/24834727\" onclick=\"trackURL(\\'https://track.rediff.com/click?url=___http://shopping.rediff.com/product/date-day/24834727?sc_cid=inhome_trend_13_2_T_24834727___&position=13_2_T&label=shopping&c_type=shopping&c_id=24834727&property=hp_in_pc\\');return false;\">Date Day - Rs.399 onwards</a></h2>\\n\\t\\t\\t\\t</div>\\n\\t\\t\\t\\t\\t\\t\\t\\t\\t\\t\\t\\t\\t\\t\\t\\t\\t\\t\\t\\t\\t\\t\\t\\t\\t\\t<div id=\"bdeal_0\" class=\"nbox hide\" data-boxno=\"13_3\" data-track=\"label=bestdeals&c_type=shopping&c_id=25650081\">\\n\\t\\t\\t\\t<p class=\"more\"><a  class=\"backshop\" href=\"http://shopping.rediff.com\" onclick=\"trackURL(\\'https://track.rediff.com/click?url=___http://shopping.rediff.com?sc_cid=inhome_best_13_3_L_25650081___&position=13_3_L&label=bestdeals&c_type=shopping&c_id=25650081&property=hp_in_pc\\');return false;\">Best Deals</a></p>\\n\\t\\t\\t\\t<h5><a data-relsrc=\"//imshopping.rediff.com/imgshop/250-250/shopping/pixs/24252/r/revergin_5e56697fa1b64._re-vergin-vigina-tightening-gel-virgin-again.jpg\" class=\"img\" href=\"http://shopping.rediff.com/product/re-vergin-vigina-tightening-gel-virgin-again/25650081\" onclick=\"trackURL(\\'https://track.rediff.com/click?url=___http://shopping.rediff.com/product/re-vergin-vigina-tightening-gel-virgin-again/25650081?sc_cid=inhome_best_13_3_I_25650081___&position=13_3_I&label=bestdeals&c_type=shopping&c_id=25650081&property=hp_in_pc\\');return false;\" aria-label=\"Re Vergin- Vigina Tightening Gel Virgin Again\"><img alt=\"Re Vergin- Vigina Tightening Gel Virgin Again\" src=\"//imworld.rediff.com/worldrediff/pix/blank.gif\" /></a></h5>\\n\\t\\t\\t\\t<h2 class=\"hdtitle\"><a  href=\"http://shopping.rediff.com/product/re-vergin-vigina-tightening-gel-virgin-again/25650081\" onclick=\"trackURL(\\'https://track.rediff.com/click?url=___http://shopping.rediff.com/product/re-vergin-vigina-tightening-gel-virgin-again/25650081?sc_cid=inhome_best_13_3_T_25650081___&position=13_3_T&label=bestdeals&c_type=shopping&c_id=25650081&property=hp_in_pc\\');return false;\">Re Vergin- Vigina Tightening Gel Virgin - Rs.699 onwards</a></h2>\\n\\t\\t\\t\\t</div>\\t\\t\\t\\t\\t\\t\\t\\t\\t\\t\\t\\t\\t\\t\\t\\t\\t\\t\\t\\t\\t\\t<div  id=\"bdeal_1\" class=\"nbox hide\" data-boxno=\"13_4\" data-track=\"label=bestdeals&c_type=shopping&c_id=20969839\">\\n\\t\\t\\t\\t<p class=\"more\"><a  class=\"backshop\" href=\"http://shopping.rediff.com\" onclick=\"trackURL(\\'https://track.rediff.com/click?url=___http://shopping.rediff.com?sc_cid=inhome_best_13_4_L_20969839___&position=13_4_L&label=bestdeals&c_type=shopping&c_id=20969839&property=hp_in_pc\\');return false;\">Best Deals</a></p>\\n\\t\\t\\t\\t<h5><a data-relsrc=\"//imshopping.rediff.com/imgshop/250-250/shopping/pixs/24965/a/antismokingsoftgelcapsule._hawaiian-herbal-antismoking-softgel-capsule-60-softgels.jpg\" class=\"img\" href=\"http://shopping.rediff.com/product/hawaiian-herbal-antismoking-softgel-capsule-60-softgels/20969839\" onclick=\"trackURL(\\'https://track.rediff.com/click?url=___http://shopping.rediff.com/product/hawaiian-herbal-antismoking-softgel-capsule-60-softgels/20969839?sc_cid=inhome_best_13_4_I_20969839___&position=13_4_I&label=bestdeals&c_type=shopping&c_id=20969839&property=hp_in_pc\\');return false;\" aria-label=\"Hawaiian herbal antismoking softgel capsule 60 softgels\"><img alt=\"Hawaiian herbal antismoking softgel capsule 60 softgels\" src=\"//imworld.rediff.com/worldrediff/pix/blank.gif\" /></a></h5>\\n\\t\\t\\t\\t<h2 class=\"hdtitle\"><a  href=\"http://shopping.rediff.com/product/hawaiian-herbal-antismoking-softgel-capsule-60-softgels/20969839\" onclick=\"trackURL(\\'https://track.rediff.com/click?url=___http://shopping.rediff.com/product/hawaiian-herbal-antismoking-softgel-capsule-60-softgels/20969839?sc_cid=inhome_best_13_4_T_20969839___&position=13_4_T&label=bestdeals&c_type=shopping&c_id=20969839&property=hp_in_pc\\');return false;\">Hawaiian herbal antismoking softgel - Rs.588 onwards</a></h2>\\n\\t\\t\\t\\t</div>\\t\\t\\t\\t\\t\\t<div id=\"bkbox_banner\" class=\"nbox hide\" data-boxno=\"13_5\" data-track=\"\"></div>\\n\\t\\t\\t<i class=\"clear\"></i>\\n\\t\\t\\t\\t\\t\\t\\t\\t\\t\\t\\t\\t\\t\\t\\t\\t\\t<div class=\"secstorybox storiesyoumissed...\">\\n\\t\\t\\t\\t<h3>Stories You Missed...</h3><i class=\"clear\"></i>\\t\\t\\t\\t\\t\\t\\t\\t\\t\\t\\t\\t\\t\\t<h2 class=\"news\" data-boxno=\"14_1-2_1\" data-track=\"label=edit_storiesyoumissed...&c_type=edit_news&news=https%3A%2F%2Fwww.rediff.com%2Fnews%2Fspecial%2Fcoronavirus-in-india-explained-dharavis-covid-19-success%2F20200717.htm\"><a href=\"https://www.rediff.com/news/special/coronavirus-in-india-explained-dharavis-covid-19-success/20200717.htm\" onclick=\"trackURL(\\'https://track.rediff.com/click?url=___https%3A%2F%2Fwww.rediff.com%2Fnews%2Fspecial%2Fcoronavirus-in-india-explained-dharavis-covid-19-success%2F20200717.htm___&position=14_1-2_1&label=edit_storiesyoumissed...&c_type=edit_news&property=hp_in_pc\\');return false;\">Explained: Dharavi\\'s COVID-19 Success</a></h2>\\n\\t\\t\\t\\t\\t\\t\\t\\t\\t\\t\\t\\t\\t\\t<h2 class=\"news\" data-boxno=\"14_1-2_2\" data-track=\"label=edit_storiesyoumissed...&c_type=edit_news&news=https%3A%2F%2Fwww.rediff.com%2Fnews%2Finterview%2Fladakh-standoff-we-will-lick-the-chinese%2F20200717.htm\"><a href=\"https://www.rediff.com/news/interview/ladakh-standoff-we-will-lick-the-chinese/20200717.htm\" onclick=\"trackURL(\\'https://track.rediff.com/click?url=___https%3A%2F%2Fwww.rediff.com%2Fnews%2Finterview%2Fladakh-standoff-we-will-lick-the-chinese%2F20200717.htm___&position=14_1-2_2&label=edit_storiesyoumissed...&c_type=edit_news&property=hp_in_pc\\');return false;\">\\'We will lick the Chinese!\\'</a></h2>\\n\\t\\t\\t\\t\\t\\t\\t\\t\\t\\t\\t\\t\\t\\t<h2 class=\"news\" data-boxno=\"14_1-2_3\" data-track=\"label=edit_storiesyoumissed...&c_type=edit_news&news=https%3A%2F%2Fwww.rediff.com%2Fnews%2Finterview%2Fsachin-pilot-is-part-of-a-bigger-plot%2F20200717.htm\"><a href=\"https://www.rediff.com/news/interview/sachin-pilot-is-part-of-a-bigger-plot/20200717.htm\" onclick=\"trackURL(\\'https://track.rediff.com/click?url=___https%3A%2F%2Fwww.rediff.com%2Fnews%2Finterview%2Fsachin-pilot-is-part-of-a-bigger-plot%2F20200717.htm___&position=14_1-2_3&label=edit_storiesyoumissed...&c_type=edit_news&property=hp_in_pc\\');return false;\">\\'Sachin Pilot is part of a bigger plot\\' </a></h2>\\n\\t\\t\\t\\t\\t\\t\\t\\t\\t\\t\\t\\t\\t\\t<h2 class=\"business\" data-boxno=\"14_1-2_4\" data-track=\"label=edit_storiesyoumissed...&c_type=edit_business&news=https%3A%2F%2Fwww.rediff.com%2Fbusiness%2Finterview%2Fair-travel-will-normalise-within-two-years%2F20200717.htm\"><a href=\"https://www.rediff.com/business/interview/air-travel-will-normalise-within-two-years/20200717.htm\" onclick=\"trackURL(\\'https://track.rediff.com/click?url=___https%3A%2F%2Fwww.rediff.com%2Fbusiness%2Finterview%2Fair-travel-will-normalise-within-two-years%2F20200717.htm___&position=14_1-2_4&label=edit_storiesyoumissed...&c_type=edit_business&property=hp_in_pc\\');return false;\">\\'Air travel will normalise within two years\\'</a></h2>\\n\\t\\t\\t\\t\\t\\t\\t\\t\\t\\t\\t\\t\\t\\t<h2 class=\"movies\" data-boxno=\"14_1-2_5\" data-track=\"label=edit_storiesyoumissed...&c_type=edit_movies&news=https%3A%2F%2Fwww.rediff.com%2Fmovies%2Freport%2Feverything-you-see-about-sushmita-is-real%2F20200716.htm\"><a href=\"https://www.rediff.com/movies/report/everything-you-see-about-sushmita-is-real/20200716.htm\" onclick=\"trackURL(\\'https://track.rediff.com/click?url=___https%3A%2F%2Fwww.rediff.com%2Fmovies%2Freport%2Feverything-you-see-about-sushmita-is-real%2F20200716.htm___&position=14_1-2_5&label=edit_storiesyoumissed...&c_type=edit_movies&property=hp_in_pc\\');return false;\">\\'Everything you see about Sushmita is real\\'</a></h2>\\n\\t\\t\\t\\t\\t\\t\\t\\t\\t\\t\\t\\t<p class=\"alignR\"><a href=\"https://www.rediff.com/news/coronavirus-2020\" class=\"morestory\" onclick=\"trackURL(\\'https://track.rediff.com/click?url=___https%3A%2F%2Fwww.rediff.com%2Fnews%2Fcoronavirus-2020___&position=14_1-2_M&label=edit_storiesyoumissed...&c_type=edit_storiesyoumissed...&property=hp_in_pc\\');return false;\">More Stories You Missed...</a></p>\\n\\t\\t\\t\\t\\t\\t\\t\\t\\t\\t\\t</div>\\n\\t\\t\\t\\t\\t\\t\\t\\t\\t\\t\\t\\t\\t\\t\\t\\t\\t\\t\\t<div class=\"nbox\" data-boxno=\"14_3\" data-track=\"label=edit_movies&c_type=edit_movies&news=https%3A%2F%2Fwww.rediff.com%2Fmovies%2Fspecial%2F-25-wow-frames-of-dil-chahta-hai%2F20200717.htm\">\\n\\t\\t\\t\\t\\t<p class=\"more\"><a class=\"backmovies\" href=\"https://www.rediff.com/movies\" onclick=\"trackURL(\\'https://track.rediff.com/click?url=___https://www.rediff.com/movies___&position=14_3_L&label=edit_movies&c_type=edit_movies&property=hp_in_pc\\');return false;\">movies</a></p>\\n\\t\\t\\t\\t\\t<h5><a data-relsrc=\"//im.rediff.com/210-170/movies/2020/jul/17dil-chahta-hai-lead1.jpg\" class=\"img\" href=\"https://www.rediff.com/movies/special/-25-wow-frames-of-dil-chahta-hai/20200717.htm\" onclick=\"trackURL(\\'https://track.rediff.com/click?url=___https%3A%2F%2Fwww.rediff.com%2Fmovies%2Fspecial%2F-25-wow-frames-of-dil-chahta-hai%2F20200717.htm___&position=14_3_I&label=edit_movies&c_type=edit_movies&property=hp_in_pc\\');return false;\"><img alt=\"25 WOW Frames of Dil Chahta Hai\" src=\"//imworld.rediff.com/worldrediff/pix/blank.gif\" /></a></h5>\\t\\t\\t\\t\\t<h2 class=\"hdtitle\"><a href=\"https://www.rediff.com/movies/special/-25-wow-frames-of-dil-chahta-hai/20200717.htm\" onclick=\"trackURL(\\'https://track.rediff.com/click?url=___https%3A%2F%2Fwww.rediff.com%2Fmovies%2Fspecial%2F-25-wow-frames-of-dil-chahta-hai%2F20200717.htm___&position=14_3_T&label=edit_movies&c_type=edit_movies&property=hp_in_pc\\');return false;\">25 WOW Frames of Dil Chahta Hai</a></h2>\\n\\t\\t\\t\\t</div>\\t\\t\\t\\t\\t\\t\\t\\t\\t\\t\\t\\t\\t\\t\\t\\t\\t\\t\\t\\t\\t\\t\\t<div class=\"nbox\" data-boxno=\"14_4\" data-track=\"label=edit_movies&c_type=edit_movies&news=https%3A%2F%2Fwww.rediff.com%2Fmovies%2Fspecial%2Fbajrangi-bhaijaan-5-years-on-10-facts%2F20200717.htm\">\\n\\t\\t\\t\\t\\t<p class=\"more\"><a class=\"backmovies\" href=\"https://www.rediff.com/movies\" onclick=\"trackURL(\\'https://track.rediff.com/click?url=___https://www.rediff.com/movies___&position=14_4_L&label=edit_movies&c_type=edit_movies&property=hp_in_pc\\');return false;\">movies</a></p>\\n\\t\\t\\t\\t\\t<h5><a data-relsrc=\"//im.rediff.com/210-170/movies/2020/jul/13bajrangi-bhaijaan-lead2.jpg\" class=\"img\" href=\"https://www.rediff.com/movies/special/bajrangi-bhaijaan-5-years-on-10-facts/20200717.htm\" onclick=\"trackURL(\\'https://track.rediff.com/click?url=___https%3A%2F%2Fwww.rediff.com%2Fmovies%2Fspecial%2Fbajrangi-bhaijaan-5-years-on-10-facts%2F20200717.htm___&position=14_4_I&label=edit_movies&c_type=edit_movies&property=hp_in_pc\\');return false;\"><img alt=\"Bajrangi Bhaijaan: 5 Years On, 10 Facts\" src=\"//imworld.rediff.com/worldrediff/pix/blank.gif\" /></a></h5>\\t\\t\\t\\t\\t<h2 class=\"hdtitle\"><a href=\"https://www.rediff.com/movies/special/bajrangi-bhaijaan-5-years-on-10-facts/20200717.htm\" onclick=\"trackURL(\\'https://track.rediff.com/click?url=___https%3A%2F%2Fwww.rediff.com%2Fmovies%2Fspecial%2Fbajrangi-bhaijaan-5-years-on-10-facts%2F20200717.htm___&position=14_4_T&label=edit_movies&c_type=edit_movies&property=hp_in_pc\\');return false;\">Bajrangi Bhaijaan: 5 Years On, 10 Facts</a></h2>\\n\\t\\t\\t\\t</div>\\t\\t\\t\\t\\t\\t\\t\\t\\t\\t\\t\\t\\t\\t\\t\\t\\t\\t\\t\\t\\t\\t\\t<div class=\"nbox\" data-boxno=\"14_5\" data-track=\"label=edit_news&c_type=edit_news&news=https%3A%2F%2Fwww.rediff.com%2Fnews%2Freport%2Fpix-these-images-show-birds-at-their-very-best%2F20200717.htm\">\\n\\t\\t\\t\\t\\t<p class=\"more\"><a class=\"backnews\" href=\"https://www.rediff.com/news\" onclick=\"trackURL(\\'https://track.rediff.com/click?url=___https://www.rediff.com/news___&position=14_5_L&label=edit_news&c_type=edit_news&property=hp_in_pc\\');return false;\">news</a></p>\\n\\t\\t\\t\\t\\t<h5><a data-relsrc=\"//im.rediff.com/210-170/news/2020/jul/10birds-lead.jpg\" class=\"img\" href=\"https://www.rediff.com/news/report/pix-these-images-show-birds-at-their-very-best/20200717.htm\" onclick=\"trackURL(\\'https://track.rediff.com/click?url=___https%3A%2F%2Fwww.rediff.com%2Fnews%2Freport%2Fpix-these-images-show-birds-at-their-very-best%2F20200717.htm___&position=14_5_I&label=edit_news&c_type=edit_news&property=hp_in_pc\\');return false;\"><img alt=\"These images show birds at their very best!\" src=\"//imworld.rediff.com/worldrediff/pix/blank.gif\" /></a></h5>\\t\\t\\t\\t\\t<h2 class=\"hdtitle\"><a href=\"https://www.rediff.com/news/report/pix-these-images-show-birds-at-their-very-best/20200717.htm\" onclick=\"trackURL(\\'https://track.rediff.com/click?url=___https%3A%2F%2Fwww.rediff.com%2Fnews%2Freport%2Fpix-these-images-show-birds-at-their-very-best%2F20200717.htm___&position=14_5_T&label=edit_news&c_type=edit_news&property=hp_in_pc\\');return false;\">These images show birds at their very best!</a></h2>\\n\\t\\t\\t\\t</div>\\t\\t\\t\\t\\t\\t\\t\\t\\t\\t<i class=\"clear\"></i>\\n\\t\\t\\t\\t\\t\\t\\t\\n\\t\\t\\t\\t\\t\\t\\t\\t\\t\\t\\t\\t\\t\\t\\t\\t<div class=\"secstorybox coronavirus:latestdata\">\\n\\t\\t\\t\\t<h3>Coronavirus: Latest Data</h3><i class=\"clear\"></i>\\t\\t\\t\\t\\t\\t\\t\\t\\t\\t\\t\\t\\t\\t<h2 class=\"news\" data-boxno=\"15_1-2_1\" data-track=\"label=edit_coronavirus:latestdata&c_type=edit_news&news=https%3A%2F%2Fwww.rediff.com%2Fnews%2Freport%2Frediff-labs-mapped-covid-19-cases-per-lakh-population%2F20200710.htm\"><a href=\"https://www.rediff.com/news/report/rediff-labs-mapped-covid-19-cases-per-lakh-population/20200710.htm\" onclick=\"trackURL(\\'https://track.rediff.com/click?url=___https%3A%2F%2Fwww.rediff.com%2Fnews%2Freport%2Frediff-labs-mapped-covid-19-cases-per-lakh-population%2F20200710.htm___&position=15_1-2_1&label=edit_coronavirus:latestdata&c_type=edit_news&property=hp_in_pc\\');return false;\">Mapped: COVID-19 cases per lakh population</a></h2>\\n\\t\\t\\t\\t\\t\\t\\t\\t\\t\\t\\t\\t\\t\\t<h2 class=\"news\" data-boxno=\"15_1-2_2\" data-track=\"label=edit_coronavirus:latestdata&c_type=edit_news&news=https%3A%2F%2Fwww.rediff.com%2Fnews%2Freport%2Frediff-labs-mapped-state-wise-covid-19-recovery-rate%2F20200419.htm\"><a href=\"https://www.rediff.com/news/report/rediff-labs-mapped-state-wise-covid-19-recovery-rate/20200419.htm\" onclick=\"trackURL(\\'https://track.rediff.com/click?url=___https%3A%2F%2Fwww.rediff.com%2Fnews%2Freport%2Frediff-labs-mapped-state-wise-covid-19-recovery-rate%2F20200419.htm___&position=15_1-2_2&label=edit_coronavirus:latestdata&c_type=edit_news&property=hp_in_pc\\');return false;\">COVID-19: Check out the states\\' recovery rate</a></h2>\\n\\t\\t\\t\\t\\t\\t\\t\\t\\t\\t\\t\\t\\t\\t<h2 class=\"news\" data-boxno=\"15_1-2_3\" data-track=\"label=edit_coronavirus:latestdata&c_type=edit_news&news=https%3A%2F%2Fwww.rediff.com%2Fnews%2Freport%2Frediff-labs-which-state-will-see-how-many-covid-cases-this-week%2F20200601.htm\"><a href=\"https://www.rediff.com/news/report/rediff-labs-which-state-will-see-how-many-covid-cases-this-week/20200601.htm\" onclick=\"trackURL(\\'https://track.rediff.com/click?url=___https%3A%2F%2Fwww.rediff.com%2Fnews%2Freport%2Frediff-labs-which-state-will-see-how-many-covid-cases-this-week%2F20200601.htm___&position=15_1-2_3&label=edit_coronavirus:latestdata&c_type=edit_news&property=hp_in_pc\\');return false;\">Which state will see how many Covid cases this week</a></h2>\\n\\t\\t\\t\\t\\t\\t\\t\\t\\t\\t\\t\\t\\t\\t<h2 class=\"news\" data-boxno=\"15_1-2_4\" data-track=\"label=edit_coronavirus:latestdata&c_type=edit_news&news=https%3A%2F%2Fwww.rediff.com%2Fnews%2Fspecial%2Fcoronavirus-in-india-how-india-has-fared-in-its-fight-against-covid-19%2F20200428.htm\"><a href=\"https://www.rediff.com/news/special/coronavirus-in-india-how-india-has-fared-in-its-fight-against-covid-19/20200428.htm\" onclick=\"trackURL(\\'https://track.rediff.com/click?url=___https%3A%2F%2Fwww.rediff.com%2Fnews%2Fspecial%2Fcoronavirus-in-india-how-india-has-fared-in-its-fight-against-covid-19%2F20200428.htm___&position=15_1-2_4&label=edit_coronavirus:latestdata&c_type=edit_news&property=hp_in_pc\\');return false;\">How India has fared in its fight against COVID-19</a></h2>\\n\\t\\t\\t\\t\\t\\t\\t\\t\\t\\t\\t\\t\\t\\t<h2 class=\"news\" data-boxno=\"15_1-2_5\" data-track=\"label=edit_coronavirus:latestdata&c_type=edit_news&news=https%3A%2F%2Fwww.rediff.com%2Fnews%2Freport%2Fcoronavirus-in-india-indias-battle-with-covid-19-weekly-analysis-rediff-labs%2F20200504.htm\"><a href=\"https://www.rediff.com/news/report/coronavirus-in-india-indias-battle-with-covid-19-weekly-analysis-rediff-labs/20200504.htm\" onclick=\"trackURL(\\'https://track.rediff.com/click?url=___https%3A%2F%2Fwww.rediff.com%2Fnews%2Freport%2Fcoronavirus-in-india-indias-battle-with-covid-19-weekly-analysis-rediff-labs%2F20200504.htm___&position=15_1-2_5&label=edit_coronavirus:latestdata&c_type=edit_news&property=hp_in_pc\\');return false;\">India\\'s recovery has increased 3% from last week </a></h2>\\n\\t\\t\\t\\t\\t\\t\\t\\t\\t\\t\\t\\t<p class=\"alignR\"><a href=\"https://www.rediff.com/news/coronavirus-2020\" class=\"morestory\" onclick=\"trackURL(\\'https://track.rediff.com/click?url=___https%3A%2F%2Fwww.rediff.com%2Fnews%2Fcoronavirus-2020___&position=15_1-2_M&label=edit_coronavirus:latestdata&c_type=edit_coronavirus:latestdata&property=hp_in_pc\\');return false;\">More Coronavirus: Latest Data</a></p>\\n\\t\\t\\t\\t\\t\\t\\t\\t\\t\\t\\t</div>\\n\\t\\t\\t\\t\\t\\t\\t\\t\\t\\t\\t\\t\\t\\t\\t\\t\\t\\t\\t<div class=\"nbox\" data-boxno=\"15_3\" data-track=\"label=edit_news&c_type=edit_news&news=https%3A%2F%2Fwww.rediff.com%2Fnews%2Freport%2Frediff-labs-mapped-coronavirus-cases-across-india%2F20200316.htm\">\\n\\t\\t\\t\\t\\t<p class=\"more\"><a class=\"backnews\" href=\"https://www.rediff.com/news\" onclick=\"trackURL(\\'https://track.rediff.com/click?url=___https://www.rediff.com/news___&position=15_3_L&label=edit_news&c_type=edit_news&property=hp_in_pc\\');return false;\">news</a></p>\\n\\t\\t\\t\\t\\t<h5><a data-relsrc=\"https://im.rediff.com/210-170/news/2020/mar/09virus6.jpg\" class=\"img\" href=\"https://www.rediff.com/news/report/rediff-labs-mapped-coronavirus-cases-across-india/20200316.htm\" onclick=\"trackURL(\\'https://track.rediff.com/click?url=___https%3A%2F%2Fwww.rediff.com%2Fnews%2Freport%2Frediff-labs-mapped-coronavirus-cases-across-india%2F20200316.htm___&position=15_3_I&label=edit_news&c_type=edit_news&property=hp_in_pc\\');return false;\"><img alt=\"49% of India\\'s active COVID-19 cases are from Maharashtra and Tamilnadu\" src=\"//imworld.rediff.com/worldrediff/pix/blank.gif\" /></a></h5>\\t\\t\\t\\t\\t<h2 class=\"hdtitle\"><a href=\"https://www.rediff.com/news/report/rediff-labs-mapped-coronavirus-cases-across-india/20200316.htm\" onclick=\"trackURL(\\'https://track.rediff.com/click?url=___https%3A%2F%2Fwww.rediff.com%2Fnews%2Freport%2Frediff-labs-mapped-coronavirus-cases-across-india%2F20200316.htm___&position=15_3_T&label=edit_news&c_type=edit_news&property=hp_in_pc\\');return false;\">49% of India\\'s active COVID-19 cases are from Maharashtra and Tamilnadu</a></h2>\\n\\t\\t\\t\\t</div>\\t\\t\\t\\t\\t\\t\\t\\t\\t\\t\\t\\t\\t\\t\\t\\t\\t\\t\\t\\t\\t\\t\\t<div class=\"nbox\" data-boxno=\"15_4\" data-track=\"label=edit_getahead&c_type=edit_getahead&news=https%3A%2F%2Fwww.rediff.com%2Fgetahead%2Freport%2Ffifteen-tips-to-cut-expenses%2F20200604.htm\">\\n\\t\\t\\t\\t\\t<p class=\"more\"><a class=\"backgetahead\" href=\"https://www.rediff.com/getahead\" onclick=\"trackURL(\\'https://track.rediff.com/click?url=___https://www.rediff.com/getahead___&position=15_4_L&label=edit_getahead&c_type=edit_getahead&property=hp_in_pc\\');return false;\">get ahead</a></p>\\n\\t\\t\\t\\t\\t<h5><a data-relsrc=\"//im.rediff.com/210-170/getahead/2020/jun/03money-save-lead1.jpg\" class=\"img\" href=\"https://www.rediff.com/getahead/report/fifteen-tips-to-cut-expenses/20200604.htm\" onclick=\"trackURL(\\'https://track.rediff.com/click?url=___https%3A%2F%2Fwww.rediff.com%2Fgetahead%2Freport%2Ffifteen-tips-to-cut-expenses%2F20200604.htm___&position=15_4_I&label=edit_getahead&c_type=edit_getahead&property=hp_in_pc\\');return false;\"><img alt=\"15 tips to cut expenses\" src=\"//imworld.rediff.com/worldrediff/pix/blank.gif\" /></a></h5>\\t\\t\\t\\t\\t<h2 class=\"hdtitle\"><a href=\"https://www.rediff.com/getahead/report/fifteen-tips-to-cut-expenses/20200604.htm\" onclick=\"trackURL(\\'https://track.rediff.com/click?url=___https%3A%2F%2Fwww.rediff.com%2Fgetahead%2Freport%2Ffifteen-tips-to-cut-expenses%2F20200604.htm___&position=15_4_T&label=edit_getahead&c_type=edit_getahead&property=hp_in_pc\\');return false;\">15 tips to cut expenses</a></h2>\\n\\t\\t\\t\\t</div>\\t\\t\\t\\t\\t\\t\\t\\t\\t\\t\\t\\t\\t\\t\\t\\t\\t\\t\\t\\t\\t\\t\\t<div class=\"nbox\" data-boxno=\"15_5\" data-track=\"label=edit_movies&c_type=edit_movies&news=https%3A%2F%2Fwww.rediff.com%2Fmovies%2Fspecial%2Fwhen-amitabh-played-an-older-man%2F20200604.htm\">\\n\\t\\t\\t\\t\\t<p class=\"more\"><a class=\"backmovies\" href=\"https://www.rediff.com/movies\" onclick=\"trackURL(\\'https://track.rediff.com/click?url=___https://www.rediff.com/movies___&position=15_5_L&label=edit_movies&c_type=edit_movies&property=hp_in_pc\\');return false;\">movies</a></p>\\n\\t\\t\\t\\t\\t<h5><a data-relsrc=\"//im.rediff.com/210-170/movies/2020/jun/04amitabh-lead1.jpg\" class=\"img\" href=\"https://www.rediff.com/movies/special/when-amitabh-played-an-older-man/20200604.htm\" onclick=\"trackURL(\\'https://track.rediff.com/click?url=___https%3A%2F%2Fwww.rediff.com%2Fmovies%2Fspecial%2Fwhen-amitabh-played-an-older-man%2F20200604.htm___&position=15_5_I&label=edit_movies&c_type=edit_movies&property=hp_in_pc\\');return false;\"><img alt=\"When Amitabh played an OLDER man\" src=\"//imworld.rediff.com/worldrediff/pix/blank.gif\" /></a></h5>\\t\\t\\t\\t\\t<h2 class=\"hdtitle\"><a href=\"https://www.rediff.com/movies/special/when-amitabh-played-an-older-man/20200604.htm\" onclick=\"trackURL(\\'https://track.rediff.com/click?url=___https%3A%2F%2Fwww.rediff.com%2Fmovies%2Fspecial%2Fwhen-amitabh-played-an-older-man%2F20200604.htm___&position=15_5_T&label=edit_movies&c_type=edit_movies&property=hp_in_pc\\');return false;\">When Amitabh played an OLDER man</a></h2>\\n\\t\\t\\t\\t</div>\\t\\t\\t\\t\\t\\t\\t\\t\\t\\t<i class=\"clear\"></i>\\n\\t\\t\\t\\t\\t\\t\\t\\n\\t\\t\\t\\t\\t<i class=\"clear\"></i>\\n\\n<div id=\"div_trndnews_container\" class=\"trndnews_container clear-fix\" data-rowno=\"16\"></div>\\n\\t\\t\\t\\t\\t<div id=\"trend_2\" class=\"nbox\" data-boxno=\"17_1\" data-track=\"label=shopping&c_type=shopping&c_id=14833202\">\\n\\t\\t<p class=\"more\"><a  class=\"backshop\" href=\"http://shopping.rediff.com\" onclick=\"trackURL(\\'https://track.rediff.com/click?url=___http://shopping.rediff.com?sc_cid=inhome_trend_17_1_L_14833202___&position=17_1_L&label=Shopping&c_type=shopping&c_ic=14833202&property=hp_in_pc\\');return false;\">Shopping</a></p>\\n\\t\\t<h5><a data-relsrc=\"//imshopping.rediff.com/imgshop/250-250/shopping/pixs/19140/p/picture10._Paper-Weight.jpg\" class=\"img\" href=\"http://shopping.rediff.com/product/paper-weight/14833202\" onclick=\"trackURL(\\'https://track.rediff.com/click?url=___http://shopping.rediff.com/product/paper-weight/14833202?sc_cid=inhome_trend_17_1_I_14833202___&position=17_1_I&label=shopping&c_type=shopping&c_id=14833202&property=hp_in_pc\\');return false;\"><img alt=\"Paper Weight\" src=\"//imworld.rediff.com/worldrediff/pix/blank.gif\" /></a></h5>\\n\\t\\t<h2 class=\"hdtitle\"><a  href=\"http://shopping.rediff.com/product/paper-weight/14833202\" onclick=\"trackURL(\\'https://track.rediff.com/click?url=___http://shopping.rediff.com/product/paper-weight/14833202?sc_cid=inhome_trend_17_1_T_14833202___&position=17_1_T&label=shopping&c_type=shopping&c_id=14833202&property=hp_in_pc\\');return false;\">Paper Weight - Rs.499 onwards</a></h2>\\n\\t</div>\\n\\t\\t\\t\\t\\t\\t<div id=\"trend_3\" class=\"nbox\" data-boxno=\"17_2\" data-track=\"label=shopping&c_type=shopping&c_id=19069129\">\\n\\t\\t<p class=\"more\"><a  class=\"backshop\" href=\"http://shopping.rediff.com\" onclick=\"trackURL(\\'https://track.rediff.com/click?url=___http://shopping.rediff.com?sc_cid=inhome_trend_17_2_L_19069129___&position=17_2_L&label=Shopping&c_type=shopping&c_ic=19069129&property=hp_in_pc\\');return false;\">Shopping</a></p>\\n\\t\\t<h5><a data-relsrc=\"//imshopping.rediff.com/imgshop/250-250/shopping/pixs/24042/p/phone-5-handfree._I-Phone-5.jpg\" class=\"img\" href=\"http://shopping.rediff.com/product/i-phone-5/19069129\" onclick=\"trackURL(\\'https://track.rediff.com/click?url=___http://shopping.rediff.com/product/i-phone-5/19069129?sc_cid=inhome_trend_17_2_I_19069129___&position=17_2_I&label=shopping&c_type=shopping&c_id=19069129&property=hp_in_pc\\');return false;\"><img alt=\"I Phone 5\" src=\"//imworld.rediff.com/worldrediff/pix/blank.gif\" /></a></h5>\\n\\t\\t<h2 class=\"hdtitle\"><a  href=\"http://shopping.rediff.com/product/i-phone-5/19069129\" onclick=\"trackURL(\\'https://track.rediff.com/click?url=___http://shopping.rediff.com/product/i-phone-5/19069129?sc_cid=inhome_trend_17_2_T_19069129___&position=17_2_T&label=shopping&c_type=shopping&c_id=19069129&property=hp_in_pc\\');return false;\">I Phone 5 - Rs.299 onwards</a></h2>\\n\\t</div>\\n\\t\\t\\t\\t\\t\\t<div id=\"trend_4\" class=\"nbox\" data-boxno=\"17_3\" data-track=\"label=shopping&c_type=shopping&c_id=20361801\">\\n\\t\\t<p class=\"more\"><a  class=\"backshop\" href=\"http://shopping.rediff.com\" onclick=\"trackURL(\\'https://track.rediff.com/click?url=___http://shopping.rediff.com?sc_cid=inhome_trend_17_3_L_20361801___&position=17_3_L&label=Shopping&c_type=shopping&c_ic=20361801&property=hp_in_pc\\');return false;\">Shopping</a></p>\\n\\t\\t<h5><a data-relsrc=\"//imshopping.rediff.com/imgshop/250-250/shopping/pixs/16284/s/se-face-masks-01._Anti-Pollution-Masks.jpg\" class=\"img\" href=\"http://shopping.rediff.com/product/anti-pollution-masks/20361801\" onclick=\"trackURL(\\'https://track.rediff.com/click?url=___http://shopping.rediff.com/product/anti-pollution-masks/20361801?sc_cid=inhome_trend_17_3_I_20361801___&position=17_3_I&label=shopping&c_type=shopping&c_id=20361801&property=hp_in_pc\\');return false;\"><img alt=\"Anti Pollution Masks\" src=\"//imworld.rediff.com/worldrediff/pix/blank.gif\" /></a></h5>\\n\\t\\t<h2 class=\"hdtitle\"><a  href=\"http://shopping.rediff.com/product/anti-pollution-masks/20361801\" onclick=\"trackURL(\\'https://track.rediff.com/click?url=___http://shopping.rediff.com/product/anti-pollution-masks/20361801?sc_cid=inhome_trend_17_3_T_20361801___&position=17_3_T&label=shopping&c_type=shopping&c_id=20361801&property=hp_in_pc\\');return false;\">Anti Pollution Masks - Rs.179 onwards</a></h2>\\n\\t</div>\\n\\t\\t\\t\\t\\t\\t<div id=\"trend_5\" class=\"nbox\" data-boxno=\"17_4\" data-track=\"label=shopping&c_type=shopping&c_id=17155864\">\\n\\t\\t<p class=\"more\"><a  class=\"backshop\" href=\"http://shopping.rediff.com\" onclick=\"trackURL(\\'https://track.rediff.com/click?url=___http://shopping.rediff.com?sc_cid=inhome_trend_17_4_L_17155864___&position=17_4_L&label=Shopping&c_type=shopping&c_ic=17155864&property=hp_in_pc\\');return false;\">Shopping</a></p>\\n\\t\\t<h5><a data-relsrc=\"//imshopping.rediff.com/imgshop/250-250/shopping/pixs/16284/-/-socks-pair-0f-6._Socks-6-Pair.jpg\" class=\"img\" href=\"http://shopping.rediff.com/product/socks-6-pair/17155864\" onclick=\"trackURL(\\'https://track.rediff.com/click?url=___http://shopping.rediff.com/product/socks-6-pair/17155864?sc_cid=inhome_trend_17_4_I_17155864___&position=17_4_I&label=shopping&c_type=shopping&c_id=17155864&property=hp_in_pc\\');return false;\"><img alt=\"Socks 6 Pair\" src=\"//imworld.rediff.com/worldrediff/pix/blank.gif\" /></a></h5>\\n\\t\\t<h2 class=\"hdtitle\"><a  href=\"http://shopping.rediff.com/product/socks-6-pair/17155864\" onclick=\"trackURL(\\'https://track.rediff.com/click?url=___http://shopping.rediff.com/product/socks-6-pair/17155864?sc_cid=inhome_trend_17_4_T_17155864___&position=17_4_T&label=shopping&c_type=shopping&c_id=17155864&property=hp_in_pc\\');return false;\">Socks 6 Pair - Rs.399 onwards</a></h2>\\n\\t</div>\\n\\t\\t\\t\\t\\t\\t<div id=\"trend_6\" class=\"nbox\" data-boxno=\"17_5\" data-track=\"label=shopping&c_type=shopping&c_id=24524462\">\\n\\t\\t<p class=\"more\"><a  class=\"backshop\" href=\"http://shopping.rediff.com\" onclick=\"trackURL(\\'https://track.rediff.com/click?url=___http://shopping.rediff.com?sc_cid=inhome_trend_17_5_L_24524462___&position=17_5_L&label=Shopping&c_type=shopping&c_ic=24524462&property=hp_in_pc\\');return false;\">Shopping</a></p>\\n\\t\\t<h5><a data-relsrc=\"//imshopping.rediff.com/imgshop/250-250/shopping/pixs/29562/1/1_jk_hand_frother_01._Froth-Maker-For-Coffee.jpg\" class=\"img\" href=\"http://shopping.rediff.com/product/froth-maker-for-coffee/24524462\" onclick=\"trackURL(\\'https://track.rediff.com/click?url=___http://shopping.rediff.com/product/froth-maker-for-coffee/24524462?sc_cid=inhome_trend_17_5_I_24524462___&position=17_5_I&label=shopping&c_type=shopping&c_id=24524462&property=hp_in_pc\\');return false;\"><img alt=\"Froth Maker For Coffee\" src=\"//imworld.rediff.com/worldrediff/pix/blank.gif\" /></a></h5>\\n\\t\\t<h2 class=\"hdtitle\"><a  href=\"http://shopping.rediff.com/product/froth-maker-for-coffee/24524462\" onclick=\"trackURL(\\'https://track.rediff.com/click?url=___http://shopping.rediff.com/product/froth-maker-for-coffee/24524462?sc_cid=inhome_trend_17_5_T_24524462___&position=17_5_T&label=shopping&c_type=shopping&c_id=24524462&property=hp_in_pc\\');return false;\">Froth Maker For Coffee - Rs.199 onwards</a></h2>\\n\\t</div>\\n\\t\\n<i class=\"clear\"></i><div id=\"footertrack\">&nbsp;</div>\\n\\n<div class=\"alignC\"><div id=\"world_bottom1\" class=\"div_advt_bottom\"><ins data-revive-zoneid=\"79\" data-revive-source=\"_blank\" data-revive-target=\"_blank\" data-revive-id=\"4b71f4079fb345c8ac958d0e9f0b56dd\" data-zonename=\"Rediff_Home_Native_Widget_BTF_IN\"></ins></div></div>\\n\\n</div><!-- red_container ends -->\\n\\n<!-- footer starts -->\\n<div class=\"footer alignC\">&#169; 2020 <a href=\"http://us.rediff.com/\" title=\"Rediff.com US\" >Rediff.com US</a> - <a href=\"http://investor.rediff.com/\" onclick=\"trackURL(\\'https://track.rediff.com/click?url=___http://investor.rediff.com/___&position=footer&label=investors&property=hp_in_pc\\');return false;\">Investors</a> - <a href=\"https://clients.rediff.com/rediff_advertisewithus/contact.htm\" onclick=\"trackURL(\\'https://track.rediff.com/click?url=___https://clients.rediff.com/rediff_advertisewithus/contact.htm___&position=footer&label=advtwithus&property=hp_in_pc\\');return false;\">Advertise with us</a> - <a href=\"http://www.rediff.com/disclaim.htm\" onclick=\"trackURL(\\'https://track.rediff.com/click?url=___http://www.rediff.com/disclaim.htm___&position=footer&label=disclaimer&property=hp_in_pc\\');return false;\">Disclaimer</a> - <a href=\"http://www.rediff.com/w3c/policy.html\">Privacy</a> - <a href=\"http://labs.rediff.com\" onclick=\"trackURL(\\'https://track.rediff.com/click?url=___http://labs.rediff.com___&position=footer&label=redifflabs&property=hp_in_pc\\');return false;\">Rediff Labs</a> - <a href=\"https://www.rediff.com/sitemap.xml\"  title=\"Sitemap.xml\">Sitemap</a> - <a href=\"http://mypage.rediff.com/feedback\" onclick=\"trackURL(\\'https://track.rediff.com/click?url=___http://mypage.rediff.com/feedback___&position=footer&label=feedback&property=hp_in_pc\\');return false;\">Feedback</a> - <a href=\"http://support.rediff.com/index.html\" onclick=\"trackURL(\\'https://track.rediff.com/click?url=___http://support.rediff.com/index.html___&position=footer&label=contactus&property=hp_in_pc\\');return false;\">Contact Us</a> - <a href=\"https://www.rediff.com/aboutus.html\" onclick=\"trackURL(\\'https://track.rediff.com/click?url=___https://www.rediff.com/aboutus.html___&position=footer&label=aboutus&property=hp_in_pc\\');return false;\">About us</a> - <a href=\"http://www.rediff.com/terms.html\" onclick=\"trackURL(\\'https://track.rediff.com/click?url=___http://www.rediff.com/terms.html___&position=footer&label=termsofuse&property=hp_in_pc\\');return false;\">Terms of use</a></div>\\n<!-- footer ends -->\\n\\n<noscript><div class=\"msg_noscript\">Your browser does not support JavaScript or it may be disabled!</div></noscript>\\n\\n<script>\\nif(document.getElementById(\\'subnews_icon\\')){\\n\\tdocument.getElementById(\\'subnews_icon\\').onclick = function(){if(document.getElementById(\\'div_subscribe_nl\\')){document.getElementById(\\'div_subscribe_nl\\').style.display = \"block\";}\\n\\tvar subnews_icon_trackimg = new Image();\\n\\tsubnews_icon_trackimg.src= \"https://indmetric.rediff.com/www.rediff.com/news-subs/click-homebox.html?devicetype=PC&rkey=\"+Math.floor(Math.random() * 1000000);}\\n\\tif(document.getElementById(\\'cancel_btn\\')){document.getElementById(\\'cancel_btn\\').onclick = function(){resetSubscribe();}}\\n}\\nfunction validEmail(email){var exclude=/[^@\\\\-\\\\.\\\\w]|^[_@\\\\.\\\\-]|[\\\\._\\\\-]{2}|[@\\\\.]{2}|(@)[^@]*\\\\1/;var hc=/\\\\.[a-zA-Z]{2,4}$/;if((email.search(exclude)!=-1)||(email.search(hc)==-1)){return false;}atPos=email.indexOf(\"@\",0);pPos1=email.indexOf(\".\",0);periodPos=email.indexOf(\".\",atPos);pos1=pPos1;pos2=0;while(pos2>-1){pos2=email.indexOf(\".\",pos1+1);if(pos2==pos1+1){return false;}else{pos1=pos2}}if(atPos==-1){return false;}if(atPos==0){return false;}if(pPos1==0){return false;}if(email.indexOf(\"@\",atPos+1)>-1){return false;}if(periodPos==-1){return false;}if(atPos+1==periodPos){return false;}if(periodPos+3>email.length){return false;}return true;}function resetSubscribe(){document.getElementById(\\'div_subscribe_nl\\').style.display = \"none\";document.getElementById(\\'subwait_top\\').style.visibility = \\'hidden\\';document.getElementById(\\'div_thanks\\').style.display = \"none\";document.getElementById(\\'div_thanks\\').innerHTML = \"\";document.getElementById(\\'div_err_message\\').style.display = \"none\";document.getElementById(\\'div_err_message\\').innerHTML = \"\";document.getElementById(\\'sub_email_in_top\\').value = \"\";document.getElementById(\\'subscribe_btn_in_top\\').disabled = false;document.getElementById(\\'frm_subscription_in_top\\').style.display = \"block\";}\\nfunction subscribeNewsletterHome(emailfield,subscribebtn){var email =  document.getElementById(emailfield).value;var sub_captcha = \"\";var section = \"homepage-pc\";var article_url = \"\";var template = \"\";var page_type = \"homepage\";var subreq;if(!validEmail(email)){alert(\"Please enter a valid email\");document.getElementById(emailfield).focus();return false;}\\nvar url= cdn_domain.replace(\\'http://\\',\\'//\\')+\"/newsletter\";\\nvar postdata = \"email=\"+email+\"&captcha=\"+sub_captcha+\"&section=\"+section+\"&article_url=\"+encodeURIComponent(article_url)+\"&country=india&template=\"+template+\"&page_type=\"+page_type+\"&output=xml\";if (window.XMLHttpRequest){subreq = new XMLHttpRequest();subreq.onreadystatechange = statusstateChanged;subreq.open(\"POST\", url, true);subreq.setRequestHeader(\"Content-type\", \"application/x-www-form-urlencoded\");subreq.send(postdata);}else if (window.ActiveXObject){subreq = new ActiveXObject(\"Microsoft.XMLHTTP\");if (subreq){subreq.onreadystatechange = statusstateChanged;subreq.open(\"POST\", url, true);subreq.setRequestHeader(\"Content-type\", \"application/x-www-form-urlencoded\");subreq.send(postdata);}}\\nfunction statusstateChanged(){if (subreq.readyState==4 || subreq.readyState==\"complete\"){if(subreq.status == 200){var resp_status = (subreq.responseXML.getElementsByTagName(\"status\")[0].firstChild)?subreq.responseXML.getElementsByTagName(\"status\")[0].firstChild.nodeValue:0;var resp_message = (subreq.responseXML.getElementsByTagName(\"message\")[0].firstChild)?subreq.responseXML.getElementsByTagName(\"message\")[0].firstChild.nodeValue:0;if(resp_status == \"Success\"){if(document.getElementById(\\'div_thanks\\')){document.getElementById(\\'div_thanks\\').innerHTML  = \"Thank you for subscribing !<br /><span class=\\'cancel_btn\\' onclick=\\\\\"resetSubscribe();\\\\\" >Close</span>\";document.getElementById(\\'div_thanks\\').style.display = \"block\";document.getElementById(\\'div_err_message\\').innerHTML  = \"\";document.getElementById(\\'div_err_message\\').style.display = \"none\";}if(document.getElementById(\\'frm_subscription_in_top\\')){document.getElementById(\\'frm_subscription_in_top\\').style.display = \"none\";}}else{document.getElementById(\\'div_err_message\\').innerHTML  = resp_message ; document.getElementById(\\'div_err_message\\').style.display = \"block\";if(document.getElementById(subscribebtn)){document.getElementById(subscribebtn).disabled = false;}}if(document.getElementById(\\'subwait_top\\')){document.getElementById(\\'subwait_top\\').style.visibility = \\'hidden\\';}}}if (subreq.readyState == 1){if(document.getElementById(\\'subwait_top\\')){document.getElementById(\\'subwait_top\\').style.visibility = \\'visible\\';}if(document.getElementById(subscribebtn)){document.getElementById(subscribebtn).disabled = true;}}}\\treturn false;}\\n</script>\\n<script>\\nvar bkbannerArr = new Array();\\nbkb = 0\\nbkbannerArr[bkb]=new Array(\"http://imshopping.rediff.com/imgshop/280-190/shopping/pixs/28705/j/jl_bl_13_br_1.jpg\",\"http://shopping.rediff.com/hourlydeals?sc_cid=inhome_hourlydeal_17pm_310720_belt\",\"Jl Collections Men\\\\\\'s Casual Brown Single Hide Genuine Leather Belt - Rs 1080\",\"hourly deal\");\\n</script>\\n<script src=\"//imworld.rediff.com/worldrediff/js_2_5/sns_ind_home_8.js\" defer></script>\\n<script src=\"//imworld.rediff.com/worldrediff/js_2_5/ind_home_other_1_min.js\" defer></script>\\n<!-- Google Analytics -->\\n\\n<script>\\nwindow.ga=window.ga||function(){(ga.q=ga.q||[]).push(arguments)};ga.l=+new Date;\\nga(\\'create\\', \\'UA-111630784-8\\', {\\'sampleRate\\': 2});\\nga(\\'send\\', \\'pageview\\');\\n</script>\\n<script async src=\\'https://www.google-analytics.com/analytics.js\\'></script>\\n\\n<!-- End Google Analytics --></body>\\n</html>'"
      ]
     },
     "execution_count": 32,
     "metadata": {},
     "output_type": "execute_result"
    }
   ],
   "source": [
    "import re , urllib # urlib - package for website\n",
    "import urllib.request #raising req to kindly allow me to read the data from websites.\n",
    "sites = ['http://www.google.com', 'http://www.rediff.com']\n",
    "for s in sites:\n",
    "    print('Searching.....')\n",
    "    u = urllib.request.urlopen(s) # request to websites to open his data.\n",
    "    text= u.read()  #after reading the data put them into a text.\n",
    "    title = re.findall('<title>.*</title>', str(text), re.IGNORECASE) #want only data in text form and ignoring case sensitive and all the other data such as int,complex and binary as well.\n",
    "    print(title[0])\n",
    "text\n"
   ]
  },
  {
   "cell_type": "code",
   "execution_count": null,
   "metadata": {},
   "outputs": [],
   "source": []
  }
 ],
 "metadata": {
  "kernelspec": {
   "display_name": "Python 3",
   "language": "python",
   "name": "python3"
  },
  "language_info": {
   "codemirror_mode": {
    "name": "ipython",
    "version": 3
   },
   "file_extension": ".py",
   "mimetype": "text/x-python",
   "name": "python",
   "nbconvert_exporter": "python",
   "pygments_lexer": "ipython3",
   "version": "3.7.6"
  }
 },
 "nbformat": 4,
 "nbformat_minor": 4
}
